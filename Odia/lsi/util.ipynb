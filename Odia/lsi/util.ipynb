{
 "cells": [
  {
   "cell_type": "code",
   "execution_count": 1,
   "id": "f099f5b4",
   "metadata": {},
   "outputs": [],
   "source": [
    "import re\n",
    "import numpy as np\n",
    "import pandas as pd\n",
    "from gensim import corpora, models,similarities\n",
    "import pickle"
   ]
  },
  {
   "cell_type": "code",
   "execution_count": 2,
   "id": "805f42b9",
   "metadata": {},
   "outputs": [],
   "source": [
    "def remove_special_characters(text):\n",
    "    string=''\n",
    "    for i in text:\n",
    "        if i in alphabets+matra:\n",
    "            string=string+i\n",
    "        else:\n",
    "            string=string+\" \"\n",
    "    return \" \".join(string.split())"
   ]
  },
  {
   "cell_type": "code",
   "execution_count": 3,
   "id": "17794654",
   "metadata": {},
   "outputs": [],
   "source": [
    "stopwords=['ଦେଇଛନ୍ତି', 'ଲେଖାଏଁ', 'ଜଣେ', 'ଏହା', 'ତେଣୁ', 'ମିଳିଥାଏ', 'ପାଇଁ', 'ନେଉଛନ୍ତି', 'ଯୋଗୁଁ', 'ଏପର୍ଯ୍ୟନ୍ତ', 'ଏଭଳି', 'କରୁଛି', 'ଓ', 'ଯାଏଁ','ହୋଇଛନ୍ତି', 'କି', 'କରାଯିବା', 'ପରେ', 'ଏହି', 'ଏବଂ', 'ଜଣ', 'ଥିବା','ହୋଇଥିଲା', 'ତେବେ', 'ଆଜି', 'ଜଣଙ୍କ', 'ଏଥି', 'ଗତ', 'ହୋଇଥିଲେ',\n",
    "       'ଦିନ ଧରି', 'ହେଉଥିବା', 'ଦିନ ତଳେ', 'ଯୋଗେ', 'ବୋଲି', 'ଜଣାପଡ଼ିଛି',\n",
    "       'ଦ୍ବାରା', 'କରି', 'ଯାଇ', 'ଏ ନେଇ', 'ଚାଲୁ', 'ରହିଛି', 'ତାରିଖ',\n",
    "       'ମିଳିଛି', 'ବର୍ଷୀୟ', 'ଦିନ ତଳେ', 'ସହ', 'ଆସିଛନ୍ତି', 'ମଧ୍ୟ', 'କେଉଁ',\n",
    "       'ହୋଇଯାଇଛି', 'ନେଇ ଯାଇଛି', 'କାମ', 'କରିଛି', 'ହେବା', 'ପରେ', 'ଏବେ',\n",
    "       'ହୋଇଛି', 'ତେବେ', 'ରଖି', 'ନିଆଯାଇଥିବା', 'ପର୍ଯ୍ୟନ୍ତ', 'କରିଛନ୍ତି',\n",
    "       'ଉପରେ', 'ଦେଲେ', 'ଥର', 'ଏବଂ', 'ଆଉ']\n",
    "alphabets=['ଅ','ଆ','ଇ','ଈ','ଉ','ଊ','ଋ','ଌ','ଏ','ଐ','ଓ','ଔ','କ','ଖ','ଗ','ଘ','ଙ','ଚ','ଛ','ଜ','ଝ','ଞ','ଟ','ଠ','ଡ','ଢ','ଣ',\n",
    " 'ତ','ଥ','ଦ','ଧ','ନ','ପ','ଫ','ବ','ଭ','ମ','ଯ','ର','ଲ','ଳ','ଵ','ଶ','ଷ','ସ','ହ','ଡ଼','ଢ଼','ୟ','ୠ','ୡ','ୱ']\n",
    "matra=['ଁ','ଂ','ଃ','଼','ା','ି','ୀ','ୁ','ୂ','ୃ','ୄ','େ','ୈ','ୋ','ୌ','୍','ୢ','ୣ']"
   ]
  },
  {
   "cell_type": "code",
   "execution_count": 4,
   "id": "d270ba83",
   "metadata": {},
   "outputs": [],
   "source": [
    "data=pd.read_csv('../odia.csv')"
   ]
  },
  {
   "cell_type": "code",
   "execution_count": 5,
   "id": "355928ff",
   "metadata": {},
   "outputs": [],
   "source": [
    "lsi =  models.LsiModel.load('lsi.model')"
   ]
  },
  {
   "cell_type": "code",
   "execution_count": 6,
   "id": "9a168cae",
   "metadata": {},
   "outputs": [],
   "source": [
    "dictionary = corpora.Dictionary.load('dictionary')\n",
    "corpus = corpora.MmCorpus('corpus')"
   ]
  },
  {
   "cell_type": "code",
   "execution_count": 7,
   "id": "b067dc4e",
   "metadata": {},
   "outputs": [],
   "source": [
    "def search(query,counter=10):\n",
    "    query=remove_special_characters(query)\n",
    "    words=query.split()\n",
    "    words = [word for word in words if word not in stopwords]\n",
    "    vec_bow = dictionary.doc2bow(words)\n",
    "    vec_lsi = lsi[vec_bow]\n",
    "    index = similarities.MatrixSimilarity(lsi[corpus],num_features=30)\n",
    "    scoring = index[vec_lsi]\n",
    "    verse_index=np.argsort(scoring)[-1::-1][:counter]\n",
    "    return verse_index"
   ]
  },
  {
   "cell_type": "code",
   "execution_count": 8,
   "id": "bf0a17cd",
   "metadata": {},
   "outputs": [],
   "source": [
    "query='ମୁଁ ମରିବାକୁ ଚାହେଁ'"
   ]
  },
  {
   "cell_type": "code",
   "execution_count": 9,
   "id": "26a70ec8",
   "metadata": {},
   "outputs": [
    {
     "data": {
      "text/html": [
       "<div>\n",
       "<style scoped>\n",
       "    .dataframe tbody tr th:only-of-type {\n",
       "        vertical-align: middle;\n",
       "    }\n",
       "\n",
       "    .dataframe tbody tr th {\n",
       "        vertical-align: top;\n",
       "    }\n",
       "\n",
       "    .dataframe thead th {\n",
       "        text-align: right;\n",
       "    }\n",
       "</style>\n",
       "<table border=\"1\" class=\"dataframe\">\n",
       "  <thead>\n",
       "    <tr style=\"text-align: right;\">\n",
       "      <th></th>\n",
       "      <th>Chapter</th>\n",
       "      <th>Verse</th>\n",
       "      <th>Sloke</th>\n",
       "      <th>Commentary</th>\n",
       "    </tr>\n",
       "  </thead>\n",
       "  <tbody>\n",
       "    <tr>\n",
       "      <th>675</th>\n",
       "      <td>18</td>\n",
       "      <td>61</td>\n",
       "      <td>ईश्वरः सर्वभूतानां हृद्देशेऽर्जुन तिष्ठति।भ्रा...</td>\n",
       "      <td>ଆତ୍ମାର ପରମାତ୍ମାଙ୍କ ଉପରେ ନିର୍ଭରଶୀଳତା ଉପରେ ଗୁରୁତ...</td>\n",
       "    </tr>\n",
       "    <tr>\n",
       "      <th>546</th>\n",
       "      <td>15</td>\n",
       "      <td>4</td>\n",
       "      <td>ततः पदं तत्परिमार्गितव्य    यस्मिन्गता न निवर्...</td>\n",
       "      <td>ସଂସାର ବା ଜନ୍ମ ଓ ମୃତ୍ୟୁର ଚକ୍ରରେ ବୁଡ଼ି ରହି, ଦେହଧା...</td>\n",
       "    </tr>\n",
       "    <tr>\n",
       "      <th>545</th>\n",
       "      <td>15</td>\n",
       "      <td>3</td>\n",
       "      <td>न रूपमस्येह तथोपलभ्यते    नान्तो न चादिर्न च स...</td>\n",
       "      <td>ସଂସାର ବା ଜନ୍ମ ଓ ମୃତ୍ୟୁର ଚକ୍ରରେ ବୁଡ଼ି ରହି, ଦେହଧା...</td>\n",
       "    </tr>\n",
       "    <tr>\n",
       "      <th>18</th>\n",
       "      <td>1</td>\n",
       "      <td>21</td>\n",
       "      <td>अर्जुन उवाच\\n\\nहृषीकेशं तदा वाक्यमिदमाह महीपते...</td>\n",
       "      <td>ଅର୍ଜୁନ, ସମଗ୍ର ସୃଷ୍ଟିର ପରମ ପ୍ରଭୁ, ଶ୍ରୀକୃଷ୍ଣଙ୍କର...</td>\n",
       "    </tr>\n",
       "    <tr>\n",
       "      <th>19</th>\n",
       "      <td>1</td>\n",
       "      <td>22</td>\n",
       "      <td>यावदेतान्निरीक्षेऽहं योद्धुकामानवस्थितान्।\\n\\n...</td>\n",
       "      <td>ଅର୍ଜୁନ, ସମଗ୍ର ସୃଷ୍ଟିର ପରମ ପ୍ରଭୁ, ଶ୍ରୀକୃଷ୍ଣଙ୍କର...</td>\n",
       "    </tr>\n",
       "    <tr>\n",
       "      <th>562</th>\n",
       "      <td>15</td>\n",
       "      <td>20</td>\n",
       "      <td>इति गुह्यतमं शास्त्रमिदमुक्तं मयाऽनघ।एतद्बुद्ध...</td>\n",
       "      <td>ଏହି ଅଧ୍ୟାୟର ଶେଷ ଶ୍ଲୋକଟି ଇତି ଶବ୍ଦରୁ ଆରମ୍ଭ ହୋଇଛି...</td>\n",
       "    </tr>\n",
       "    <tr>\n",
       "      <th>678</th>\n",
       "      <td>18</td>\n",
       "      <td>64</td>\n",
       "      <td>सर्वगुह्यतमं भूयः श्रृणु मे परमं वचः।इष्टोऽसि ...</td>\n",
       "      <td>ଜଣେ ଶିକ୍ଷକ ଅତ୍ୟନ୍ତ ଗୁଢ଼ ଜ୍ଞାନ ଜାଣିଥାଇ ପାରନ୍ତି, ...</td>\n",
       "    </tr>\n",
       "    <tr>\n",
       "      <th>66</th>\n",
       "      <td>2</td>\n",
       "      <td>27</td>\n",
       "      <td>जातस्य हि ध्रुवो मृत्युर्ध्रुवं जन्म मृतस्य च।...</td>\n",
       "      <td>ଇଂରାଜୀରେ ଗୋଟିଏ ଲୋକପ୍ରିୟ ଢଗ ଅଛି, “ମୃତ୍ୟୁ ପରି ସୁ...</td>\n",
       "    </tr>\n",
       "    <tr>\n",
       "      <th>607</th>\n",
       "      <td>17</td>\n",
       "      <td>21</td>\n",
       "      <td>यत्तु प्रत्युपकारार्थं फलमुद्दिश्य वा पुनः।दीय...</td>\n",
       "      <td>କେହି ଦାନ ମାଗି ନ ଥିବା ସତ୍ତ୍ୱେ, ସ୍ୱେଚ୍ଛାକୃତ ଭାବର...</td>\n",
       "    </tr>\n",
       "    <tr>\n",
       "      <th>588</th>\n",
       "      <td>17</td>\n",
       "      <td>2</td>\n",
       "      <td>श्री भगवानुवाचत्रिविधा भवति श्रद्धा देहिनां सा...</td>\n",
       "      <td>କୌଣସି ବ୍ୟକ୍ତି ଶ୍ରଦ୍ଧା ରହିତ ହୋଇ ନ ପାରେ, କାରଣ ଏହ...</td>\n",
       "    </tr>\n",
       "  </tbody>\n",
       "</table>\n",
       "</div>"
      ],
      "text/plain": [
       "     Chapter  Verse                                              Sloke  \\\n",
       "675       18     61  ईश्वरः सर्वभूतानां हृद्देशेऽर्जुन तिष्ठति।भ्रा...   \n",
       "546       15      4  ततः पदं तत्परिमार्गितव्य    यस्मिन्गता न निवर्...   \n",
       "545       15      3  न रूपमस्येह तथोपलभ्यते    नान्तो न चादिर्न च स...   \n",
       "18         1     21  अर्जुन उवाच\\n\\nहृषीकेशं तदा वाक्यमिदमाह महीपते...   \n",
       "19         1     22  यावदेतान्निरीक्षेऽहं योद्धुकामानवस्थितान्।\\n\\n...   \n",
       "562       15     20  इति गुह्यतमं शास्त्रमिदमुक्तं मयाऽनघ।एतद्बुद्ध...   \n",
       "678       18     64  सर्वगुह्यतमं भूयः श्रृणु मे परमं वचः।इष्टोऽसि ...   \n",
       "66         2     27  जातस्य हि ध्रुवो मृत्युर्ध्रुवं जन्म मृतस्य च।...   \n",
       "607       17     21  यत्तु प्रत्युपकारार्थं फलमुद्दिश्य वा पुनः।दीय...   \n",
       "588       17      2  श्री भगवानुवाचत्रिविधा भवति श्रद्धा देहिनां सा...   \n",
       "\n",
       "                                            Commentary  \n",
       "675  ଆତ୍ମାର ପରମାତ୍ମାଙ୍କ ଉପରେ ନିର୍ଭରଶୀଳତା ଉପରେ ଗୁରୁତ...  \n",
       "546  ସଂସାର ବା ଜନ୍ମ ଓ ମୃତ୍ୟୁର ଚକ୍ରରେ ବୁଡ଼ି ରହି, ଦେହଧା...  \n",
       "545  ସଂସାର ବା ଜନ୍ମ ଓ ମୃତ୍ୟୁର ଚକ୍ରରେ ବୁଡ଼ି ରହି, ଦେହଧା...  \n",
       "18   ଅର୍ଜୁନ, ସମଗ୍ର ସୃଷ୍ଟିର ପରମ ପ୍ରଭୁ, ଶ୍ରୀକୃଷ୍ଣଙ୍କର...  \n",
       "19   ଅର୍ଜୁନ, ସମଗ୍ର ସୃଷ୍ଟିର ପରମ ପ୍ରଭୁ, ଶ୍ରୀକୃଷ୍ଣଙ୍କର...  \n",
       "562  ଏହି ଅଧ୍ୟାୟର ଶେଷ ଶ୍ଲୋକଟି ଇତି ଶବ୍ଦରୁ ଆରମ୍ଭ ହୋଇଛି...  \n",
       "678  ଜଣେ ଶିକ୍ଷକ ଅତ୍ୟନ୍ତ ଗୁଢ଼ ଜ୍ଞାନ ଜାଣିଥାଇ ପାରନ୍ତି, ...  \n",
       "66   ଇଂରାଜୀରେ ଗୋଟିଏ ଲୋକପ୍ରିୟ ଢଗ ଅଛି, “ମୃତ୍ୟୁ ପରି ସୁ...  \n",
       "607  କେହି ଦାନ ମାଗି ନ ଥିବା ସତ୍ତ୍ୱେ, ସ୍ୱେଚ୍ଛାକୃତ ଭାବର...  \n",
       "588  କୌଣସି ବ୍ୟକ୍ତି ଶ୍ରଦ୍ଧା ରହିତ ହୋଇ ନ ପାରେ, କାରଣ ଏହ...  "
      ]
     },
     "execution_count": 9,
     "metadata": {},
     "output_type": "execute_result"
    }
   ],
   "source": [
    "verse_index=search(query)\n",
    "data.loc[verse_index]"
   ]
  },
  {
   "cell_type": "code",
   "execution_count": 10,
   "id": "2d013a44",
   "metadata": {},
   "outputs": [
    {
     "data": {
      "text/plain": [
       "'ଆତ୍ମାର ପରମାତ୍ମାଙ୍କ ଉପରେ ନିର୍ଭରଶୀଳତା ଉପରେ ଗୁରୁତ୍ୱାରୋପଣ କରି ଶ୍ରୀକୃଷ୍ଣ କହୁଛନ୍ତି, “ଅର୍ଜୁନ, ତୁମେ ମୋର ଆଜ୍ଞା ପାଳନ କରିବାକୁ ଇଚ୍ଛା କର ବା ନ କର, ତୁମେ ସର୍ବଦା ମୋର ନିୟନ୍ତ୍ରଣାଧୀନ ରହିବ । ତୁମେ ବାସ କରୁଥିବା ଶରୀର ମାୟା ଶକ୍ତିରୁ ଗଠିତ । ପୂର୍ବ କର୍ମ ଅନୁସାରେ, ତୁମେ ଯେଉଁ ଶରୀର ପାଇବାକୁ ଯୋଗ୍ୟ, ତାହା ମୁଁ ତୁମକୁ ପ୍ରଦାନ କରିଛି । ମୁଁ ସେଠାରେ ମଧ୍ୟ ଅଛି ଏବଂ ତୁମର ସମସ୍ତ ବିଚାର, ବାଣୀ ଏବଂ କର୍ମକୁ ମୁଁ ଲିପିବଦ୍ଧ କରୁଛି । ତେଣୁ ବର୍ତ୍ତମାନ ତୁମେ ଯାହା କରୁଛ ମୁଁ ତାହା ମଧ୍ୟ ଲକ୍ଷ୍ୟ କରି ତୁମର ଭବିଷ୍ୟତ ନିର୍ଦ୍ଧାରଣ କରିବି । କୌଣସି ପରିସ୍ଥିତିରେ ମଧ୍ୟ ତୁମେ ନିଜକୁ ମୋ ଠାରୁ ସ୍ୱାଧୀନ ବୋଲି ପରିକଳ୍ପନା କରନାହିଁ । ତେଣୁ ହେ ଅର୍ଜୁନ! ତୁମେ ନିଜ ସ୍ୱାର୍ଥ ଦୃଷ୍ଟିରୁ ମୋର ଶରଣାଗତ ହେବା ଆବଶ୍ୟକ ।'"
      ]
     },
     "execution_count": 10,
     "metadata": {},
     "output_type": "execute_result"
    }
   ],
   "source": [
    "data.loc[675]['Commentary']"
   ]
  },
  {
   "cell_type": "code",
   "execution_count": null,
   "id": "d0ff0d7e",
   "metadata": {},
   "outputs": [],
   "source": []
  }
 ],
 "metadata": {
  "kernelspec": {
   "display_name": "Python 3 (ipykernel)",
   "language": "python",
   "name": "python3"
  },
  "language_info": {
   "codemirror_mode": {
    "name": "ipython",
    "version": 3
   },
   "file_extension": ".py",
   "mimetype": "text/x-python",
   "name": "python",
   "nbconvert_exporter": "python",
   "pygments_lexer": "ipython3",
   "version": "3.9.7"
  }
 },
 "nbformat": 4,
 "nbformat_minor": 5
}
