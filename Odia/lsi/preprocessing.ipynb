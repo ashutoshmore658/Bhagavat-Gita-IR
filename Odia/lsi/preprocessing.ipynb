{
 "cells": [
  {
   "cell_type": "markdown",
   "id": "6ce4f954",
   "metadata": {},
   "source": [
    "# Libraries"
   ]
  },
  {
   "cell_type": "code",
   "execution_count": 1,
   "id": "2126a19a",
   "metadata": {},
   "outputs": [],
   "source": [
    "import re\n",
    "import numpy as np\n",
    "import pandas as pd\n",
    "from gensim import corpora, models\n",
    "import pickle"
   ]
  },
  {
   "cell_type": "code",
   "execution_count": 2,
   "id": "644d85ca",
   "metadata": {},
   "outputs": [],
   "source": [
    "stopwords=['ଦେଇଛନ୍ତି', 'ଲେଖାଏଁ', 'ଜଣେ', 'ଏହା', 'ତେଣୁ', 'ମିଳିଥାଏ', 'ପାଇଁ', 'ନେଉଛନ୍ତି', 'ଯୋଗୁଁ', 'ଏପର୍ଯ୍ୟନ୍ତ', 'ଏଭଳି', 'କରୁଛି', 'ଓ', 'ଯାଏଁ','ହୋଇଛନ୍ତି', 'କି', 'କରାଯିବା', 'ପରେ', 'ଏହି', 'ଏବଂ', 'ଜଣ', 'ଥିବା','ହୋଇଥିଲା', 'ତେବେ', 'ଆଜି', 'ଜଣଙ୍କ', 'ଏଥି', 'ଗତ', 'ହୋଇଥିଲେ',\n",
    "       'ଦିନ ଧରି', 'ହେଉଥିବା', 'ଦିନ ତଳେ', 'ଯୋଗେ', 'ବୋଲି', 'ଜଣାପଡ଼ିଛି',\n",
    "       'ଦ୍ବାରା', 'କରି', 'ଯାଇ', 'ଏ ନେଇ', 'ଚାଲୁ', 'ରହିଛି', 'ତାରିଖ',\n",
    "       'ମିଳିଛି', 'ବର୍ଷୀୟ', 'ଦିନ ତଳେ', 'ସହ', 'ଆସିଛନ୍ତି', 'ମଧ୍ୟ', 'କେଉଁ',\n",
    "       'ହୋଇଯାଇଛି', 'ନେଇ ଯାଇଛି', 'କାମ', 'କରିଛି', 'ହେବା', 'ପରେ', 'ଏବେ',\n",
    "       'ହୋଇଛି', 'ତେବେ', 'ରଖି', 'ନିଆଯାଇଥିବା', 'ପର୍ଯ୍ୟନ୍ତ', 'କରିଛନ୍ତି',\n",
    "       'ଉପରେ', 'ଦେଲେ', 'ଥର', 'ଏବଂ', 'ଆଉ']"
   ]
  },
  {
   "cell_type": "code",
   "execution_count": 3,
   "id": "daecdc86",
   "metadata": {},
   "outputs": [],
   "source": [
    "alphabets=['ଅ','ଆ','ଇ','ଈ','ଉ','ଊ','ଋ','ଌ','ଏ','ଐ','ଓ','ଔ','କ','ଖ','ଗ','ଘ','ଙ','ଚ','ଛ','ଜ','ଝ','ଞ','ଟ','ଠ','ଡ','ଢ','ଣ',\n",
    " 'ତ','ଥ','ଦ','ଧ','ନ','ପ','ଫ','ବ','ଭ','ମ','ଯ','ର','ଲ','ଳ','ଵ','ଶ','ଷ','ସ','ହ','ଡ଼','ଢ଼','ୟ','ୠ','ୡ','ୱ']\n",
    "matra=['ଁ','ଂ','ଃ','଼','ା','ି','ୀ','ୁ','ୂ','ୃ','ୄ','େ','ୈ','ୋ','ୌ','୍','ୢ','ୣ']"
   ]
  },
  {
   "cell_type": "code",
   "execution_count": 4,
   "id": "db4dbd64",
   "metadata": {},
   "outputs": [],
   "source": [
    "def remove_special_characters(text):\n",
    "    string=''\n",
    "    for i in text:\n",
    "        if i in alphabets+matra:\n",
    "            string=string+i\n",
    "        else:\n",
    "            string=string+\" \"\n",
    "    return \" \".join(string.split())"
   ]
  },
  {
   "cell_type": "code",
   "execution_count": 5,
   "id": "6883809d",
   "metadata": {},
   "outputs": [],
   "source": [
    "data=pd.read_csv('../odia.csv')"
   ]
  },
  {
   "cell_type": "code",
   "execution_count": 6,
   "id": "5d2c4ccc",
   "metadata": {},
   "outputs": [],
   "source": [
    "doc_words=[]\n",
    "for index in range(len(data)):\n",
    "    text=data.loc[index]['Commentary']\n",
    "    text = remove_special_characters(text)\n",
    "    words = text.split()\n",
    "    words = [word for word in words if word not in stopwords]\n",
    "    doc_words.append(words)"
   ]
  },
  {
   "cell_type": "code",
   "execution_count": 7,
   "id": "24c99ac6",
   "metadata": {},
   "outputs": [],
   "source": [
    "dictionary = corpora.Dictionary(doc_words) #Assign Id for all words in the corpus\n",
    "corpus = [dictionary.doc2bow(document) for document in doc_words] #Produce BagOfWords for each document"
   ]
  },
  {
   "cell_type": "code",
   "execution_count": 8,
   "id": "d241f47b",
   "metadata": {},
   "outputs": [],
   "source": [
    "lsi = models.LsiModel(corpus,id2word=dictionary,num_topics=30)"
   ]
  },
  {
   "cell_type": "code",
   "execution_count": 9,
   "id": "dba35e07",
   "metadata": {},
   "outputs": [],
   "source": [
    "lsi.save('lsi.model')"
   ]
  },
  {
   "cell_type": "code",
   "execution_count": 10,
   "id": "ecb46f71",
   "metadata": {},
   "outputs": [],
   "source": [
    "dictionary.save('dictionary')\n",
    "corpora.MmCorpus.serialize('corpus', corpus)"
   ]
  }
 ],
 "metadata": {
  "kernelspec": {
   "display_name": "Python 3 (ipykernel)",
   "language": "python",
   "name": "python3"
  },
  "language_info": {
   "codemirror_mode": {
    "name": "ipython",
    "version": 3
   },
   "file_extension": ".py",
   "mimetype": "text/x-python",
   "name": "python",
   "nbconvert_exporter": "python",
   "pygments_lexer": "ipython3",
   "version": "3.9.7"
  }
 },
 "nbformat": 4,
 "nbformat_minor": 5
}
