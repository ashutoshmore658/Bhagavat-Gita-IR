{
 "cells": [
  {
   "cell_type": "code",
   "execution_count": 1,
   "id": "2126a19a",
   "metadata": {},
   "outputs": [],
   "source": [
    "import re\n",
    "import numpy as np\n",
    "import pandas as pd\n",
    "import math\n",
    "import pickle\n",
    "from collections import Counter"
   ]
  },
  {
   "cell_type": "code",
   "execution_count": 2,
   "id": "be9ba80c",
   "metadata": {},
   "outputs": [],
   "source": [
    "stopwords=['ଦେଇଛନ୍ତି', 'ଲେଖାଏଁ', 'ଜଣେ', 'ଏହା', 'ତେଣୁ', 'ମିଳିଥାଏ', 'ପାଇଁ', 'ନେଉଛନ୍ତି', 'ଯୋଗୁଁ', 'ଏପର୍ଯ୍ୟନ୍ତ', 'ଏଭଳି', 'କରୁଛି', 'ଓ', 'ଯାଏଁ','ହୋଇଛନ୍ତି', 'କି', 'କରାଯିବା', 'ପରେ', 'ଏହି', 'ଏବଂ', 'ଜଣ', 'ଥିବା','ହୋଇଥିଲା', 'ତେବେ', 'ଆଜି', 'ଜଣଙ୍କ', 'ଏଥି', 'ଗତ', 'ହୋଇଥିଲେ',\n",
    "       'ଦିନ ଧରି', 'ହେଉଥିବା', 'ଦିନ ତଳେ', 'ଯୋଗେ', 'ବୋଲି', 'ଜଣାପଡ଼ିଛି',\n",
    "       'ଦ୍ବାରା', 'କରି', 'ଯାଇ', 'ଏ ନେଇ', 'ଚାଲୁ', 'ରହିଛି', 'ତାରିଖ',\n",
    "       'ମିଳିଛି', 'ବର୍ଷୀୟ', 'ଦିନ ତଳେ', 'ସହ', 'ଆସିଛନ୍ତି', 'ମଧ୍ୟ', 'କେଉଁ',\n",
    "       'ହୋଇଯାଇଛି', 'ନେଇ ଯାଇଛି', 'କାମ', 'କରିଛି', 'ହେବା', 'ପରେ', 'ଏବେ',\n",
    "       'ହୋଇଛି', 'ତେବେ', 'ରଖି', 'ନିଆଯାଇଥିବା', 'ପର୍ଯ୍ୟନ୍ତ', 'କରିଛନ୍ତି',\n",
    "       'ଉପରେ', 'ଦେଲେ', 'ଥର', 'ଏବଂ', 'ଆଉ']"
   ]
  },
  {
   "cell_type": "code",
   "execution_count": 3,
   "id": "f3e96e8f",
   "metadata": {},
   "outputs": [],
   "source": [
    "alphabets=['ଅ','ଆ','ଇ','ଈ','ଉ','ଊ','ଋ','ଌ','ଏ','ଐ','ଓ','ଔ','କ','ଖ','ଗ','ଘ','ଙ','ଚ','ଛ','ଜ','ଝ','ଞ','ଟ','ଠ','ଡ','ଢ','ଣ',\n",
    " 'ତ','ଥ','ଦ','ଧ','ନ','ପ','ଫ','ବ','ଭ','ମ','ଯ','ର','ଲ','ଳ','ଵ','ଶ','ଷ','ସ','ହ','ଡ଼','ଢ଼','ୟ','ୠ','ୡ','ୱ']\n",
    "matra=['ଁ','ଂ','ଃ','଼','ା','ି','ୀ','ୁ','ୂ','ୃ','ୄ','େ','ୈ','ୋ','ୌ','୍','ୢ','ୣ']"
   ]
  },
  {
   "cell_type": "code",
   "execution_count": 4,
   "id": "644d85ca",
   "metadata": {},
   "outputs": [],
   "source": [
    "def finding_all_unique_words_and_freq(words):\n",
    "    words_unique = []\n",
    "    word_freq = {}\n",
    "    for word in words:\n",
    "        if word not in words_unique:\n",
    "            words_unique.append(word)\n",
    "    for word in words_unique:\n",
    "        word_freq[word] = words.count(word)\n",
    "    return word_freq\n",
    "def finding_freq_of_word_in_doc(word,words):\n",
    "    freq = words.count(word)\n",
    "        \n",
    "def remove_special_characters(text):\n",
    "    string=''\n",
    "    for i in text:\n",
    "        if i in alphabets+matra:\n",
    "            string=string+i\n",
    "        else:\n",
    "            string=string+\" \"\n",
    "    return \" \".join(string.split())"
   ]
  },
  {
   "cell_type": "code",
   "execution_count": 5,
   "id": "6883809d",
   "metadata": {},
   "outputs": [],
   "source": [
    "data=pd.read_csv('../odia.csv')"
   ]
  },
  {
   "cell_type": "code",
   "execution_count": 6,
   "id": "5d2c4ccc",
   "metadata": {},
   "outputs": [],
   "source": [
    "doc_words=[]\n",
    "dict_global = {}\n",
    "idx = 0\n",
    "files_with_index = {}\n",
    "for index in range(len(data)):\n",
    "    fname=str(data.loc[index]['Chapter'])+\".\"+str(data.loc[index]['Verse'])\n",
    "    sloka=data.loc[index]['Sloke']\n",
    "    text=data.loc[index]['Commentary']\n",
    "    text = remove_special_characters(text)\n",
    "    words = text.split()\n",
    "    words = [word for word in words if word not in stopwords]\n",
    "    doc_words.append(words)\n",
    "    dict_global.update(finding_all_unique_words_and_freq(words))\n",
    "    files_with_index[idx] = fname\n",
    "    idx = idx + 1\n",
    "    \n",
    "unique_words_all = set(dict_global.keys())\n",
    "    \n"
   ]
  },
  {
   "cell_type": "code",
   "execution_count": 7,
   "id": "e961c147",
   "metadata": {},
   "outputs": [],
   "source": [
    "tf={}\n",
    "df={}\n",
    "for i in unique_words_all:\n",
    "    tf[i]={}\n",
    "    df[i]=0   "
   ]
  },
  {
   "cell_type": "code",
   "execution_count": 8,
   "id": "e1f3540a",
   "metadata": {},
   "outputs": [],
   "source": [
    "idx=0\n",
    "Ltot=0\n",
    "Ld={}\n",
    "for index in range(len(data)):\n",
    "    text=data.loc[index]['Commentary']\n",
    "    text = remove_special_characters(text)\n",
    "    words = text.split()\n",
    "    words = [word for word in words if word not in stopwords]\n",
    "    Ld[idx]=len(words) #len of current doc\n",
    "    Ltot=Ltot+len(words) #sum of lens of all the docs\n",
    "    counter=Counter(words)\n",
    "    for i in counter.keys():\n",
    "        df[i]=df[i]+1\n",
    "        tf[i][idx]=counter[i]   \n",
    "    idx=idx+1"
   ]
  },
  {
   "cell_type": "code",
   "execution_count": 9,
   "id": "0e5e0da6",
   "metadata": {},
   "outputs": [],
   "source": [
    "doc_norm={}\n",
    "idx=0\n",
    "for i in doc_words:\n",
    "    l2=0\n",
    "    for j in set(i):\n",
    "        l2+=(i.count(j)*math.log(len(files_with_index)/df[j]))**2\n",
    "    doc_norm[idx]=(math.sqrt(l2))\n",
    "    idx+=1"
   ]
  },
  {
   "cell_type": "code",
   "execution_count": 10,
   "id": "d0ca84dd",
   "metadata": {},
   "outputs": [],
   "source": [
    "with open('pickles/posting_list.pkl','wb') as file:\n",
    "    pickle.dump(tf,file)\n",
    "    file.close()\n",
    "    \n",
    "with open('pickles/df.pkl','wb') as file:\n",
    "    pickle.dump(df,file)\n",
    "    file.close()\n",
    "    \n",
    "with open('pickles/doc_len.pkl','wb') as file:\n",
    "    pickle.dump(Ld,file)\n",
    "    file.close()"
   ]
  },
  {
   "cell_type": "code",
   "execution_count": 11,
   "id": "83acaf86",
   "metadata": {},
   "outputs": [],
   "source": [
    "a_file = open(\"pickles/file_idx.pkl\", \"wb\")\n",
    "pickle.dump(files_with_index, a_file)\n",
    "a_file.close()\n",
    "a_file = open(\"pickles/unique_words_all.pkl\", \"wb\")\n",
    "pickle.dump(unique_words_all , a_file)\n",
    "a_file.close()"
   ]
  },
  {
   "cell_type": "code",
   "execution_count": 12,
   "id": "77f18c53",
   "metadata": {},
   "outputs": [],
   "source": [
    "with open('pickles/doc_words.pkl','wb') as file:\n",
    "    pickle.dump(doc_words,file)\n",
    "    file.close()\n",
    "    \n",
    "with open('pickles/doc_norm.pkl','wb') as file:\n",
    "    pickle.dump(doc_norm,file)\n",
    "    file.close()"
   ]
  },
  {
   "cell_type": "code",
   "execution_count": 14,
   "id": "1a13f88b",
   "metadata": {},
   "outputs": [
    {
     "data": {
      "text/plain": [
       "'ସବୁଠାରୁ ଉପଯୁକ୍ତ କାର୍ଯ୍ୟ ପଦ୍ଧତି ବିଷୟରେ ଅନୁମାନ କରିବାକୁ ଯାଇ ଆମେ ସେମାନଙ୍କର ପରିଣାମ ସମ୍ବନ୍ଧୀୟ ବିଭିନ୍ନ ବିକଳ୍ପ ଉପରେ ବିଚାର କରିଥାଉ ଅର୍ଜୁନ ବିଚାର କରୁଛନ୍ତି ଯୁଦ୍ଧରେ କୌରବମାନଙ୍କୁ ପରାଜିତ କରିବା ଉଚିତ ନା କୌରବଙ୍କ ଦ୍ୱାରା ପରାଜିତ ହେବା ଉଚିତ ଉଭୟ ବିକଳ୍ପ ପରାଜୟ ପରି ହିଁ ପ୍ରତୀତ ହେଉଛି କାରଣ କୌରବମାନଙ୍କୁ ହତ୍ୟା କରି ସେ ଯଦି ଯୁଦ୍ଧରେ ଜୟ ଲାଭ କରନ୍ତି ତେବେ ତାଙ୍କର ବଞ୍ ଚବାର ଇଚ୍ଛା ରହିବ ନାହିଁ କିନ୍ତୁ ବାସ୍ତବରେ ଭୀଷ୍ମ ଦ୍ରୋଣ କୃପାଚାର୍ଯ୍ୟ ଇତ୍ୟାଦି ବିଧର୍ମୀ କୌରବମାନଙ୍କର ପକ୍ଷ ନେଇ ନିକୃଷ୍ଟ ଆଚରଣ ପ୍ରଦର୍ଶନ କରିଛନ୍ତି ଅର୍ଥକାମ ଶବ୍ଦଟି ଏଠାରେ ସେମାନଙ୍କ ପାଇଁ ବ୍ୟବହାର କରାଯାଇଛି ଯାହାର ଅର୍ଥ ବୈଭବ ଏବଂ ପଦବୀ ପ୍ରତି ଆସକ୍ତ ରହି ସେମାନେ ଦୁଷ୍ଟ ଦୁର୍ଯ୍ୟୋଧନଙ୍କର ପକ୍ଷ ସ୍ୱୀକାର କରିଥିଲେ ତେଣୁ ଯୁଦ୍ଧରେ ସେମାନଙ୍କୁ ହତ୍ୟା କରିବା ଏକ ସ୍ୱାଭାବିକ ପରିଣତି ଥିଲା ପ୍ରକୃତରେ ଯୁଦ୍ଧ ଶେଷ ହେବା ପରେ ଭୀଷ୍ମ ନିଜେ ସ୍ୱୀକାର କରିଥିଲେ ଯେ ଜଣେ ଶିକ୍ଷକ ଯଦି ନୀଚ କର୍ମ କରନ୍ତି ତେବେ ତାଙ୍କୁ ତ୍ୟାଗ କରାଯିବା ଉଚିତ୍ ଏଠାରେ ଭୀଷ୍ମଙ୍କ ବିଷୟରେ ସ୍ୱତନ୍ତ୍ର ବିଚାର ଆବଶ୍ୟକ ଶ୍ରୀମଦ୍ ଭାଗବଦମ୍ ଶ୍ଲୋକ ଅନୁସାରେ ସେ ଶ୍ରୀକୃଷ୍ଣଙ୍କ ପରମ ଭକ୍ତ ଥିଲେ ସେ ଇନ୍ଦ୍ରିୟଜୟୀ ଥିଲେ ଏବଂ ନୈତିକତା ଓ ଉଦାରତାର ମୂର୍ତ୍ତିମାନ ସ୍ୱରୂପ ଥିଲେ ସେ ଚିରନ୍ତନ ସତ୍ୟର ଜ୍ଞାତା ଏବଂ ଜୀବନରେ ସତ୍ୟବାଦୀ ହେବାକୁ ପ୍ରତିଜ୍ଞାବଦ୍ଧ ଥିଲେ ସେ ଇଚ୍ଛା କଲେ ହିଁ ତାଙ୍କର ମୃତ୍ୟୁ ହୋଇପାରେ ବିଭିନ୍ନ ଦୃଷ୍ଟିକୋଣରୁ ଭାଗବତ ମହାପୁରାଣରେ ବର୍ଣ୍ଣିତ ବାର ଜଣ ଶ୍ରେଷ୍ଠ ବ୍ୟକ୍ତି ବା ମହାଜନଙ୍କ ମଧ୍ୟରେ ତାଙ୍କର ଗଣନା କରାଯାଇଥାଏ ସ୍ୱୟମ୍ଭୂର୍ ନାରଦଃ ଶମ୍ଭୁଃ କୁମାରଃ କପିଳୋ ମନୁଃ ପ୍ରହ୍ଲାଦୋ ଜନକୋ ଭୀଷ୍ମୋ ବଳିର୍ ବୈୟାଶକିର୍ ବୟମ୍ ଏହି ବାର ଜଣ ଧାର୍ମିକ ସିଦ୍ଧାନ୍ତର ମହାନ ଜ୍ଞାତା ଅଟନ୍ତି ପ୍ରଥମ ପୁରୁଷ ବ୍ରହ୍ମା ମହର୍ଷି ନାରଦ ଭଗବାନ ଶିବ ଚାରି କୁମାର ଭଗବାନ କପିଳ ଦେବହୁତିଙ୍କ ପୁତ୍ର ସ୍ୱୟମ୍ଭୁବ ମନୁ ପ୍ରହ୍ଲାଦ ମହାରାଜ ମହାରାଜ ଜନକ ପିତାମହ ଭୀଷ୍ମ ମହାରାଜ ବଳି ଶୁକଦେବ ମୁନି ଏବଂ ବେଦବ୍ୟାସ ତେଣୁ ଭୀଷ୍ମ ଜଣେ ଧର୍ମାତ୍ମା ଥିଲେ ତାଙ୍କର ଆଚରଣ ଧର୍ମନୀତିର ବିରୁଦ୍ଧ କେବେ ବି ହୋଇ ନ ପାରେ ତେଣୁ ତାଙ୍କର ବଳିଷ୍ଠ ଚରିତ୍ର ପାର୍ ଥବ ଯୁକ୍ତିର ଉର୍ଦ୍ଧ୍ୱରେ ଥିଲା ଯଦିଓ ସେ କୌରବଙ୍କ ପକ୍ଷରୁ ଯୁଦ୍ଧ କରୁଥିଲେ ତଥାପି ଯୁଦ୍ଧ ପୁର୍ବରୁ ସେ ଯୁଧିଷ୍ଠିରଙ୍କୁ କହିଥିଲେ ମୁଁ ଅଧର୍ମ ପକ୍ଷରୁ ଯୁଦ୍ଧ କରିବାକୁ ବାଧ୍ୟ କିନ୍ତୁ ମୁଁ ତୁମକୁ ବିଜୟୀ ହେବାର ବର ପ୍ରଦାନ କରୁଅଛି ଭୀଷ୍ମ ଜାଣିଥିଲେ ଯେ ଧାର୍ମିକ ପାଣ୍ଡବମାନେ ଯାହା ସହିତ ସ୍ୱୟଂ ପରଂବ୍ରହ୍ମ ଶ୍ରୀକୃଷ୍ଣ ଅଛନ୍ତି କେବେ ବି ପରାସ୍ତ ହେବେ ନାହିଁ ଅଧର୍ମର ପକ୍ଷ ନେଇ ସେ ସୂଚାଇ ଦେଲେ ଯେ ସ୍ୱର୍ଗ ଓ ମର୍ତ୍ତ୍ୟର ସର୍ବଶେଷ୍ଠ ଶକ୍ତି ମଧ୍ୟ ଏହି ଧର୍ମ ଯୁଦ୍ଧରେ ଅଧର୍ମକୁ ବିଜୟୀ କରାଇ ପାରିଲା ନାହିଁ ଏହିପରି ସର୍ବଶ୍ରେଷ୍ଠ ତ୍ୟାଗ ଭାବରେ ନିଜ ଜୀବନକୁ ଉତ୍ସର୍ଗ କରି ସେ ଶ୍ରୀକୃଷ୍ଣଙ୍କର ଦିବ୍ୟ ଲୀଳାରେ ସହାୟତା କରିଥିଲେ ଭୀଷ୍ମଙ୍କର ତାଙ୍କ ପ୍ରତି ଥିବା ଗଭୀର ଭକ୍ତି ବିଷୟରେ ଶ୍ରୀକୃଷ୍ଣ ଜାଣିଥିଲେ ଯଦିଓ ସେ କୌରବଙ୍କ ସପକ୍ଷରେ ଯୁଦ୍ଧ କରୁଥିଲେ ସେଥିପାଇଁ ଭୀଷ୍ମଙ୍କର ପ୍ରତିଜ୍ଞା ରକ୍ଷା କରିବାକୁ ଯାଇ ସେ ନିଜର ପ୍ରତିଜ୍ଞା ଭଙ୍ଗ କରିଥିଲେ ଯୁଦ୍ଧରେ ଦିନେ ଭୀଷ୍ମ ପ୍ରତିଜ୍ଞା କଲେ ଯେ ପରଦିନ ସୂର୍ଯ୍ୟାସ୍ତ ପୂର୍ବରୁ ସେ ପାଣ୍ଡବମାନଙ୍କର ଅଗ୍ରଣୀ ଯୋଦ୍ଧା ଅର୍ଜୁନଙ୍କୁ ବଧ କରିବେ ଅଥବା ଅର୍ଜୁନଙ୍କୁ ରକ୍ଷା କରିବାକୁ ଯାଇ ଶ୍ରୀକୃଷ୍ଣ ମହାଭାରତ ଯୁଦ୍ଧରେ ଅସ୍ତ୍ର ଧାରଣ ନ କରିବାର ଯେଉଁ ପ୍ରତିଜ୍ଞା କରିଥିଲେ ତାହାକୁ ଭଙ୍ଗ କରିବେ ଭୀଷ୍ମଙ୍କର ସେହି ପ୍ରତିଜ୍ଞାର ବର୍ଣ୍ଣନ କବିମାନେ ଏହିପରି କରିଛନ୍ତି ଆଜୁ ଜୋ ହରି ହିଁ ନ ଶସ୍ତ୍ର ଗହାଊଁ ତଉ ଲାଜହୁଁ ଗଙ୍ଗା ଜନନୀ କୋ ଶାନ୍ତନୁ ସୁତ ନ କହାଊଁ ସନ୍ଥ ତୁଳସୀ ଦାସ ଯଦି ମୁଁ ଭଗବାନ ଶ୍ରୀକୃଷ୍ଣଙ୍କ ହସ୍ତରେ ଅସ୍ତ୍ର ଧାରଣ ନ କରାଏ ତେବେ ମୁଁ ନିଜ ମାତା ଗଙ୍ଗାଙ୍କୁ ଲଜ୍ଜିତ କରାଇବି ଏବଂ ମୁଁ ରାଜା ଶାନ୍ତନୁଙ୍କ ପୁତ୍ର ବୋଲାଇବି ନାହିଁ ଭୀଷ୍ମ ଏପରି ବୀରତ୍ୱର ସହିତ ଯୁଦ୍ଧ କଲେ ଯେ ଅର୍ଜୁନଙ୍କ ରଥ ଛିନ୍ନଛତ୍ର ହୋଇଗଲା ଏବଂ ସେ ଭୂମି ଉପରେ ଅସହାୟ ଭାବେ ଛିଡ଼ା ହୋଇଗଲେ ସେହି ମୁହୂର୍ତ୍ତରେ ଭୀଷ୍ମଙ୍କୁ ବାଧା ଦେବା ପାଇଁ ଶ୍ରୀକୃଷ୍ଣ ରଥର ଏକ ଚକକୁ ଉଠାଇ ତାଙ୍କ ସମ୍ମୁଖକୁ ଆସିଗଲେ ରଥର ଚକକୁ ଅସ୍ତ୍ର ଭାବରେ ଭଗବାନ ହାତରେ ଧାରଣ କରିଥିବା ଦେଖି ଭୀଷ୍ମ ଅଟ୍ଟହାସ୍ୟ କରି ଉଠିଲେ ସେ ବୁଝିପାରିଲେ ଯେ ଭକ୍ତ ବତ୍ସଳ ଭଗବାନ ନିଜ ଭକ୍ତର ପ୍ରତିଜ୍ଞା ରକ୍ଷା କରିବା ପାଇଁ ନିଜ ପ୍ରତିଜ୍ଞା ଭଙ୍ଗ କଲେ ବାସ୍ତବରେ ଭଗବାନ ଶ୍ରୀକୃଷ୍ଣଙ୍କ ପ୍ରତି ଭୀଷ୍ମଙ୍କର ଭକ୍ତି ଅତ୍ୟନ୍ତ ରସିକ ମାଧୁର୍ଯ୍ୟ ଭାବଯୁକ୍ତ ଥିଲା ସେ ଶ୍ରୀକୃଷ୍ଣଙ୍କ ବୃନ୍ଦାବନ ଲୀଳାର ଧ୍ୟାନ କରୁଥିଲେ ସନ୍ଧ୍ୟା ସମୟରେ ଶ୍ରୀକୃଷ୍ଣ ଯେତେବେଳେ ଗୋଚାରଣ ସାରି ଗ୍ରାମକୁ ଫେରନ୍ତି ଗାଈମାନଙ୍କ ଖୁରାରୁ ଉଡ଼ୁଥିବା ଧୂଳିରେ ତାଙ୍କ ସୁନ୍ଦର ମୁଖମଣ୍ଡଳ ଆବୃତ ହୋଇ ତାଙ୍କର ସୌନ୍ଦର୍ଯ୍ୟ ଓ ମାଧୁର୍ଯ୍ୟକୁ ଆହୁରି ବଢ଼ାଇ ଦିଏ ମହାଭାରତ ଯୁଦ୍ଧରେ ଘୋଡ଼ାମାନଙ୍କର ଟାପୁରୁ ଉଡ଼ୁଥିବା ଧୂଳି ମଧ୍ୟ ଶ୍ରୀକୃଷ୍ଣଙ୍କର ସୌନ୍ଦର୍ଯ୍ୟକୁ ବୃଦ୍ଧି କରୁଥିଲା ଏବଂ ସେ ଭଗବାନଙ୍କର ସେହି ରୂପର ଦର୍ଶନ କରି ବିଭୋର ହୋଇ ଯାଉଥିଲେ ଜୀବନର ଅନ୍ତିମ ପର୍ଯ୍ୟାୟରେ ସେ ଛ ମାସ ଶରଶଯ୍ୟାରେ ଶୟନ କରି ଭଗବାନଙ୍କର ସେହି ରୂପର ଧ୍ୟାନ କରୁଥିଲେ ଏବଂ ପ୍ରାର୍ଥନା କରୁଥିଲେ ଯୁଧି ତୁରଗ ରଜୋ ବିଧୂମ୍ର ବିଷ୍ୱକ୍ କଚ ଲୁଲିତ ଶ୍ରମବାର୍ଯ୍ୟଲଙ୍ କୃତାସ୍ୟେ ମମ ନିଶିତ ଶରୈର୍ବିଭିଦ୍ୟମାନ ତ୍ୱଚି ବିଲସତ୍ କବଚେ ସ୍ତୁ କୃଷ୍ଣ ଆତ୍ମା ଭାଗବତମ୍ ଯୁଦ୍ଧ କ୍ଷେତ୍ରରେ ଭଗବାନ ଶ୍ରୀକୃଷ୍ଣଙ୍କ ମସ୍ତକର ତରଙ୍ଗାୟିତ କେଶରାଶି ଘୋଡ଼ାଙ୍କ ଖୁରାରୁ ଉଡ଼ୁଥିବା ଶୁଭ୍ର ଧୂଳି ଦ୍ୱାର ଧୂସରିତ ଦେଖା ଯାଉଥିଲା ଏବଂ ରଥ ଚାଳନା ଜନିତ ପରିଶ୍ରମ ଦ୍ୱାରା ତାଙ୍କ ମୁଖମଣ୍ଡଳ ସ୍ୱେଦ ବିନ୍ଦୁରେ ପରିପୂର୍ଣ୍ଣ ହୋଇଥିଲା ଏହି ସବୁ ଅଳଙ୍କାର ସଦୃଶ ମୋ ପ୍ରଭୁଙ୍କର ସୌନ୍ଦର୍ଯ୍ୟ ବୃଦ୍ଧି କରୁଥିଲା ଏବଂ ମୋର ଶାଣୀତ ତୀର ଦ୍ୱାରା ସୃଷ୍ଟି ହୋଇଥିବା କ୍ଷତ ତାଙ୍କର ରୂପ ସଜ୍ଜାକୁ ଆହୁରି ବୃଦ୍ଧି କରୁଥିଲା ମୋର ମନ ସେହି ଶ୍ରୀକୃଷ୍ଣଙ୍କର ଧ୍ୟାନ କରୁ ତାଙ୍କ ପ୍ରେମଯୁକ୍ତ ଭକ୍ତିର ଫଳ ସ୍ୱରୂପ ସେ ଶରଶଯ୍ୟାରେ ଶୟନ କରିଥିବା ସମୟରେ ଭଗବାନ ଶ୍ରୀକୃଷ୍ଣ ତାଙ୍କୁ ସାକ୍ଷାତ କରିବାକୁ ଆସିଥିଲେ ଏବଂ ନିଜ ସମ୍ମୁଖରେ ଭଗବାନଙ୍କର ଦର୍ଶନ କରି ଶ୍ରେଷ୍ଠ ମହାଜନ ଭୀଷ୍ମ ନିଜ ଇଚ୍ଛାରେ ଶରୀର ତ୍ୟାଗ କଲେ'"
      ]
     },
     "execution_count": 14,
     "metadata": {},
     "output_type": "execute_result"
    }
   ],
   "source": [
    "remove_special_characters(data.loc[45]['Commentary'])"
   ]
  },
  {
   "cell_type": "code",
   "execution_count": null,
   "id": "62070338",
   "metadata": {},
   "outputs": [],
   "source": []
  }
 ],
 "metadata": {
  "kernelspec": {
   "display_name": "Python 3 (ipykernel)",
   "language": "python",
   "name": "python3"
  },
  "language_info": {
   "codemirror_mode": {
    "name": "ipython",
    "version": 3
   },
   "file_extension": ".py",
   "mimetype": "text/x-python",
   "name": "python",
   "nbconvert_exporter": "python",
   "pygments_lexer": "ipython3",
   "version": "3.9.7"
  }
 },
 "nbformat": 4,
 "nbformat_minor": 5
}
