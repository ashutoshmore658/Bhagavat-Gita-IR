{
 "cells": [
  {
   "cell_type": "code",
   "execution_count": 1,
   "id": "d70d829f",
   "metadata": {},
   "outputs": [],
   "source": [
    "import io\n",
    "import re\n",
    "import numpy as np\n",
    "import pandas as pd\n",
    "import numpy.linalg as lin\n",
    "import warnings \n",
    "from gensim.models import Word2Vec\n",
    "import pickle\n",
    "from indic_transliteration import sanscript\n",
    "from indic_transliteration.sanscript import transliterate\n",
    "warnings.filterwarnings('ignore')"
   ]
  },
  {
   "cell_type": "code",
   "execution_count": 2,
   "id": "b5d66c7a",
   "metadata": {},
   "outputs": [],
   "source": [
    "stopwords=['ଦେଇଛନ୍ତି', 'ଲେଖାଏଁ', 'ଜଣେ', 'ଏହା', 'ତେଣୁ', 'ମିଳିଥାଏ', 'ପାଇଁ', 'ନେଉଛନ୍ତି', 'ଯୋଗୁଁ', 'ଏପର୍ଯ୍ୟନ୍ତ', 'ଏଭଳି', 'କରୁଛି', 'ଓ', 'ଯାଏଁ','ହୋଇଛନ୍ତି', 'କି', 'କରାଯିବା', 'ପରେ', 'ଏହି', 'ଏବଂ', 'ଜଣ', 'ଥିବା','ହୋଇଥିଲା', 'ତେବେ', 'ଆଜି', 'ଜଣଙ୍କ', 'ଏଥି', 'ଗତ', 'ହୋଇଥିଲେ',\n",
    "       'ଦିନ ଧରି', 'ହେଉଥିବା', 'ଦିନ ତଳେ', 'ଯୋଗେ', 'ବୋଲି', 'ଜଣାପଡ଼ିଛି',\n",
    "       'ଦ୍ବାରା', 'କରି', 'ଯାଇ', 'ଏ ନେଇ', 'ଚାଲୁ', 'ରହିଛି', 'ତାରିଖ',\n",
    "       'ମିଳିଛି', 'ବର୍ଷୀୟ', 'ଦିନ ତଳେ', 'ସହ', 'ଆସିଛନ୍ତି', 'ମଧ୍ୟ', 'କେଉଁ',\n",
    "       'ହୋଇଯାଇଛି', 'ନେଇ ଯାଇଛି', 'କାମ', 'କରିଛି', 'ହେବା', 'ପରେ', 'ଏବେ',\n",
    "       'ହୋଇଛି', 'ତେବେ', 'ରଖି', 'ନିଆଯାଇଥିବା', 'ପର୍ଯ୍ୟନ୍ତ', 'କରିଛନ୍ତି',\n",
    "       'ଉପରେ', 'ଦେଲେ', 'ଥର', 'ଏବଂ', 'ଆଉ']\n",
    "alphabets=['ଅ','ଆ','ଇ','ଈ','ଉ','ଊ','ଋ','ଌ','ଏ','ଐ','ଓ','ଔ','କ','ଖ','ଗ','ଘ','ଙ','ଚ','ଛ','ଜ','ଝ','ଞ','ଟ','ଠ','ଡ','ଢ','ଣ',\n",
    " 'ତ','ଥ','ଦ','ଧ','ନ','ପ','ଫ','ବ','ଭ','ମ','ଯ','ର','ଲ','ଳ','ଵ','ଶ','ଷ','ସ','ହ','ଡ଼','ଢ଼','ୟ','ୠ','ୡ','ୱ']\n",
    "matra=['ଁ','ଂ','ଃ','଼','ା','ି','ୀ','ୁ','ୂ','ୃ','ୄ','େ','ୈ','ୋ','ୌ','୍','ୢ','ୣ']"
   ]
  },
  {
   "cell_type": "code",
   "execution_count": 3,
   "id": "e50d76e3",
   "metadata": {},
   "outputs": [],
   "source": [
    "delimiters=[\"।\",\"?\",\"!\"]"
   ]
  },
  {
   "cell_type": "code",
   "execution_count": 4,
   "id": "3df1ed97",
   "metadata": {},
   "outputs": [],
   "source": [
    "gloveFile=open(\"glove/or-d100-glove.txt\",\"r\",encoding='utf-8')\n",
    "glove={}\n",
    "c=1000\n",
    "for i in gloveFile:\n",
    "    i=i.split(\" \")\n",
    "    glove[i[0]]=np.array(list(map(float,i[1:])))"
   ]
  },
  {
   "cell_type": "code",
   "execution_count": 5,
   "id": "d64a8dfc",
   "metadata": {},
   "outputs": [],
   "source": [
    "def o2h(text):\n",
    "    return transliterate(text, sanscript.ORIYA, sanscript.DEVANAGARI)"
   ]
  },
  {
   "cell_type": "code",
   "execution_count": 6,
   "id": "20ce371e",
   "metadata": {},
   "outputs": [],
   "source": [
    "def remove_special_characters(text):\n",
    "    string=''\n",
    "    for i in text:\n",
    "        if i in alphabets+matra+delimiters:\n",
    "            string=string+i\n",
    "        else:\n",
    "            string=string+\" \"\n",
    "    return \" \".join(string.split())\n",
    "def sent_tokenize(text):\n",
    "    text=remove_special_characters(text)\n",
    "    regexPattern = '|'.join(map(re.escape, delimiters))\n",
    "    sentences=re.split(regexPattern,text)\n",
    "    return [sent.strip() for sent in sentences if len(sent.strip())>0]"
   ]
  },
  {
   "cell_type": "code",
   "execution_count": 7,
   "id": "fcf1a2de",
   "metadata": {},
   "outputs": [],
   "source": [
    "def word_embedding(word):\n",
    "    try:\n",
    "        return glove[o2h(word)]\n",
    "    except:\n",
    "        return np.array([0.0]*100)"
   ]
  },
  {
   "cell_type": "code",
   "execution_count": 8,
   "id": "7fb025a0",
   "metadata": {},
   "outputs": [],
   "source": [
    "def sentence_embedding(sentence):\n",
    "    sentence=remove_special_characters(sentence)\n",
    "    words=sentence.split()\n",
    "    words=[word  for word in words if word not in stopwords]\n",
    "    if len(words)>0:\n",
    "        sentence_embedding=[word_embedding(word) for word in words]\n",
    "        return np.array(list(map(lambda x: sum(x)/len(x), zip(*sentence_embedding))))\n",
    "    return np.array([0.0]*100)"
   ]
  },
  {
   "cell_type": "code",
   "execution_count": 9,
   "id": "950a6d73",
   "metadata": {},
   "outputs": [],
   "source": [
    "data=pd.read_csv('../odia.csv')"
   ]
  },
  {
   "cell_type": "markdown",
   "id": "9e51c98a",
   "metadata": {},
   "source": [
    "# Sentence By Sentence"
   ]
  },
  {
   "cell_type": "code",
   "execution_count": 10,
   "id": "3d0cb8ae",
   "metadata": {},
   "outputs": [],
   "source": [
    "verse_embeddings_sentence=[]\n",
    "verse_embeddings_max=[]\n",
    "verse_embeddings_mean=[]\n",
    "for i in range(len(data)):\n",
    "    text=data.loc[i]['Commentary']\n",
    "    sentences=sent_tokenize(text)\n",
    "    embeddings=[sentence_embedding(sentence) for sentence in sentences]\n",
    "    #sentence\n",
    "    verse_embeddings_sentence.append(embeddings)\n",
    "    #Max Pooling\n",
    "    norms=[lin.norm(i) for i in embeddings]\n",
    "    index=norms.index(max(norms))\n",
    "    verse_embeddings_max.append(embeddings[index])\n",
    "    #Mean Pooling\n",
    "    embeddings=np.array(list(map(lambda x: sum(x)/len(x), zip(*embeddings))))\n",
    "    verse_embeddings_mean.append(embeddings)"
   ]
  },
  {
   "cell_type": "markdown",
   "id": "db9481ac",
   "metadata": {},
   "source": [
    "# Whole"
   ]
  },
  {
   "cell_type": "code",
   "execution_count": 11,
   "id": "b93231c4",
   "metadata": {},
   "outputs": [],
   "source": [
    "verse_embeddings_whole=[]\n",
    "for i in range(len(data)):\n",
    "    text=data.loc[i]['Commentary']\n",
    "    embeddings=sentence_embedding(text)\n",
    "    verse_embeddings_whole.append(embeddings)"
   ]
  },
  {
   "cell_type": "code",
   "execution_count": 12,
   "id": "aec88ba1",
   "metadata": {},
   "outputs": [],
   "source": [
    "file=open('sentence.pkl','wb')\n",
    "pickle.dump(verse_embeddings_sentence,file)\n",
    "file.close()\n",
    "file=open('max.pkl','wb')\n",
    "pickle.dump(verse_embeddings_max,file)\n",
    "file.close()\n",
    "file=open('mean.pkl','wb')\n",
    "pickle.dump(verse_embeddings_mean,file)\n",
    "file.close()"
   ]
  },
  {
   "cell_type": "code",
   "execution_count": 13,
   "id": "1fc37323",
   "metadata": {},
   "outputs": [],
   "source": [
    "file=open('whole.pkl','wb')\n",
    "pickle.dump(verse_embeddings_whole,file)\n",
    "file.close()"
   ]
  },
  {
   "cell_type": "code",
   "execution_count": 14,
   "id": "da6c08b7",
   "metadata": {},
   "outputs": [],
   "source": [
    "file=open('glove.pkl','wb')\n",
    "pickle.dump(glove,file)\n",
    "file.close()"
   ]
  }
 ],
 "metadata": {
  "kernelspec": {
   "display_name": "Python 3 (ipykernel)",
   "language": "python",
   "name": "python3"
  },
  "language_info": {
   "codemirror_mode": {
    "name": "ipython",
    "version": 3
   },
   "file_extension": ".py",
   "mimetype": "text/x-python",
   "name": "python",
   "nbconvert_exporter": "python",
   "pygments_lexer": "ipython3",
   "version": "3.9.7"
  }
 },
 "nbformat": 4,
 "nbformat_minor": 5
}
