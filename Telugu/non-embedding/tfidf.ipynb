{
 "cells": [
  {
   "cell_type": "code",
   "execution_count": 5,
   "id": "8440af1c",
   "metadata": {},
   "outputs": [],
   "source": [
    "import re\n",
    "import numpy as np\n",
    "import pandas as pd\n",
    "import math\n",
    "import pickle\n",
    "from collections import Counter\n",
    "import warnings\n",
    "warnings.filterwarnings('ignore')"
   ]
  },
  {
   "cell_type": "code",
   "execution_count": 6,
   "id": "1742b701",
   "metadata": {},
   "outputs": [],
   "source": [
    "stopwords=['కూడా', 'ఉన్నారు', 'ఎవరైనా', 'ఎప్పుడు', 'ఎక్కడైనా', 'అందుబాటులో', 'ఒక ప్రక్కన', 'సంబంధం', 'మాత్రమే', 'అడగండి', 'గా', 'మధ్య', 'ప్రకారం', 'అనుమతించు', 'మెచ్చుకో', 'వద్ద', 'తగిన', 'అడ్డంగా', 'అడగడం', 'ఇప్పటికే', 'కనిపిస్తాయి', 'కాదు', 'మరియు', 'మరొక', 'అనుగుణంగా', 'అయితే', 'చేయగలిగింది', 'దాదాపు', 'గురించి', 'పై', 'వెంట', 'వేరుగా', 'చుట్టూ', 'దూరంగా', 'ఏ', 'నిజంగా', 'అనుమతిస్తుంది', 'అందరూ', 'ఎవరో ఒకరు', 'వ్యతిరేకంగా', 'ఏదైనా', 'తర్వాత', 'మళ్ళీ', 'ఏమైనప్పటికి', 'ఒక']"
   ]
  },
  {
   "cell_type": "code",
   "execution_count": 7,
   "id": "f056f16f",
   "metadata": {},
   "outputs": [],
   "source": [
    "vowels=set(\"అ ఆ ఇ ఈ ఉ ఊ ఋ ౠ ఌ ౡ ఎ ఏ ఐ ఒ ఓ ఔ అం అః\".split())\n",
    "\n",
    "conso=\"క\tఖ\tగ\tఘ\tఙ\tచ\tఛ\tజ\tఝ\tఞ\tట\tఠ\tడ\tఢ\tణ\tత\tథ\tద\tధ\tన\tప\tఫ\tబ\tభ\tమ\tయ\tర\tల\tవ\tశ\tష\tస\tహ\tళ\tక్ష\tఱ\"\n",
    "\n",
    "matra = \"ఀ\tఁ\tం\tః\tఄ\tఽ\tా\tి\tీ\tు\tూ\tృ\tౄ\tె\tే\tై\tొ\tో\tౌ\t్\tౕ\tౖ\tౢ\tౣ\"\n",
    "\n",
    "halantha='్'"
   ]
  },
  {
   "cell_type": "code",
   "execution_count": 8,
   "id": "f247c2a9",
   "metadata": {},
   "outputs": [],
   "source": [
    "consonants=set(conso.split(\"\\t\"))\n",
    "matra = set(matra.split(\"\\t\"))\n",
    "\n",
    "vowels = list(vowels)\n",
    "consonants=list(consonants)\n",
    "matra=list(matra)\n",
    "\n",
    "alphabets = vowels+consonants"
   ]
  },
  {
   "cell_type": "code",
   "execution_count": 9,
   "id": "ec0a3d69",
   "metadata": {},
   "outputs": [
    {
     "name": "stdout",
     "output_type": "stream",
     "text": [
      "['ఆ', 'ఏ', 'ౠ', 'ఒ', 'ఌ', 'అ', 'ఓ', 'ఈ', 'ఋ', 'అం', 'ఇ', 'ఐ', 'ఔ', 'ఎ', 'అః', 'ఊ', 'ఉ', 'ౡ', 'ల', 'ఢ', 'ణ', 'క్ష', 'ఙ', 'ఛ', 'ట', 'ఱ', 'ఞ', 'య', 'ద', 'మ', 'డ', 'శ', 'ప', 'స', 'ఘ', 'ఝ', 'హ', 'ర', 'గ', 'ధ', 'ష', 'ళ', 'వ', 'భ', 'జ', 'థ', 'ఖ', 'బ', 'చ', 'త', 'న', 'ఠ', 'ఫ', 'క']\n"
     ]
    }
   ],
   "source": [
    "print(alphabets)"
   ]
  },
  {
   "cell_type": "code",
   "execution_count": 10,
   "id": "305a1dd7",
   "metadata": {},
   "outputs": [],
   "source": [
    "#data=pd.read_csv('../hindi.csv')\n",
    "data=pd.read_csv('../telugu.csv')"
   ]
  },
  {
   "cell_type": "code",
   "execution_count": 11,
   "id": "ea624011",
   "metadata": {},
   "outputs": [],
   "source": [
    "def remove_special_characters(text):\n",
    "    string=''\n",
    "    for i in text:\n",
    "        if i in alphabets+matra:\n",
    "            string=string+i\n",
    "        else:\n",
    "            string=string+\" \"\n",
    "    return \" \".join(string.split())\n"
   ]
  },
  {
   "cell_type": "code",
   "execution_count": 12,
   "id": "467117da",
   "metadata": {},
   "outputs": [],
   "source": [
    "with open('pickles/df.pkl','rb') as file:\n",
    "    DF=pickle.load(file)\n",
    "    file.close()\n",
    "    \n",
    "with open('pickles/file_idx.pkl','rb') as file:\n",
    "    file_idx=pickle.load(file)\n",
    "    file.close()\n",
    "    \n",
    "with open('pickles/doc_words.pkl','rb') as file:\n",
    "    doc_words=pickle.load(file)\n",
    "    file.close()\n",
    "    \n",
    "with open('pickles/doc_norm.pkl','rb') as file:\n",
    "    doc_norm=pickle.load(file)\n",
    "    file.close()"
   ]
  },
  {
   "cell_type": "code",
   "execution_count": 13,
   "id": "a0de57ce",
   "metadata": {},
   "outputs": [],
   "source": [
    "def tfidf(query,counter=10):\n",
    "    text = remove_special_characters(query)\n",
    "    words = text.split()\n",
    "    words=[word for word in words if word not in stopwords]\n",
    "    words=[word for word in words if word in DF.keys()]\n",
    "\n",
    "    q=[]\n",
    "    q_norm=0\n",
    "    for w in words:\n",
    "        tf_idf=(words.count(w)*math.log(len(file_idx)/DF[w]))\n",
    "        q.append(tf_idf)\n",
    "        q_norm+=tf_idf**2\n",
    "    q_norm=math.sqrt(q_norm)\n",
    "\n",
    "    q=np.array(q)/q_norm\n",
    "\n",
    "    score={}\n",
    "\n",
    "    for i in range(len(file_idx)):\n",
    "        doc_v=[]\n",
    "        for w in words:\n",
    "            tf_idf=(doc_words[i].count(w)*math.log(len(file_idx)/DF[w]))\n",
    "            doc_v.append(tf_idf)\n",
    "        doc_v=np.array(doc_v)/doc_norm[i]\n",
    "        score[i]=np.dot(q,doc_v)\n",
    "\n",
    "    score=sorted(score.items(),key=lambda x:x[1],reverse=True)\n",
    "    verse_index=[]\n",
    "    for i in score:\n",
    "        if counter== 0:\n",
    "            break\n",
    "        verse_index.append(i[0])\n",
    "        counter-=1\n",
    "    return verse_index\n",
    "    "
   ]
  },
  {
   "cell_type": "code",
   "execution_count": 14,
   "id": "5ff45899",
   "metadata": {},
   "outputs": [
    {
     "data": {
      "text/html": [
       "<div>\n",
       "<style scoped>\n",
       "    .dataframe tbody tr th:only-of-type {\n",
       "        vertical-align: middle;\n",
       "    }\n",
       "\n",
       "    .dataframe tbody tr th {\n",
       "        vertical-align: top;\n",
       "    }\n",
       "\n",
       "    .dataframe thead th {\n",
       "        text-align: right;\n",
       "    }\n",
       "</style>\n",
       "<table border=\"1\" class=\"dataframe\">\n",
       "  <thead>\n",
       "    <tr style=\"text-align: right;\">\n",
       "      <th></th>\n",
       "      <th>Chapter</th>\n",
       "      <th>Verse</th>\n",
       "      <th>Sloke</th>\n",
       "      <th>Commentary</th>\n",
       "    </tr>\n",
       "  </thead>\n",
       "  <tbody>\n",
       "    <tr>\n",
       "      <th>47</th>\n",
       "      <td>2</td>\n",
       "      <td>8</td>\n",
       "      <td>न हि प्रपश्यामि ममापनुद्या\\n\\nद्यच्छोकमुच्छोषण...</td>\n",
       "      <td>ఎప్పుడైనా మనము దుఃఖం లో మునిగిపోయినప్పుడు, మన ...</td>\n",
       "    </tr>\n",
       "    <tr>\n",
       "      <th>589</th>\n",
       "      <td>17</td>\n",
       "      <td>2</td>\n",
       "      <td>श्री भगवानुवाचत्रिविधा भवति श्रद्धा देहिनां सा...</td>\n",
       "      <td>ఎవ్వరూ కూడా శ్రద్ధ/విశ్వాసము లేకుండా ఉండరు, ఎం...</td>\n",
       "    </tr>\n",
       "    <tr>\n",
       "      <th>527</th>\n",
       "      <td>14</td>\n",
       "      <td>11</td>\n",
       "      <td>सर्वद्वारेषु देहेऽस्मिन्प्रकाश उपजायते।ज्ञानं ...</td>\n",
       "      <td>శ్రీ కృష్ణుడు మళ్ళీ ఒకసారి, త్రిగుణములు వ్యక్త...</td>\n",
       "    </tr>\n",
       "    <tr>\n",
       "      <th>528</th>\n",
       "      <td>14</td>\n",
       "      <td>12</td>\n",
       "      <td>लोभः प्रवृत्तिरारम्भः कर्मणामशमः स्पृहा।रजस्ये...</td>\n",
       "      <td>శ్రీ కృష్ణుడు మళ్ళీ ఒకసారి, త్రిగుణములు వ్యక్త...</td>\n",
       "    </tr>\n",
       "    <tr>\n",
       "      <th>529</th>\n",
       "      <td>14</td>\n",
       "      <td>13</td>\n",
       "      <td>अप्रकाशोऽप्रवृत्तिश्च प्रमादो मोह एव च।तमस्येत...</td>\n",
       "      <td>శ్రీ కృష్ణుడు మళ్ళీ ఒకసారి, త్రిగుణములు వ్యక్త...</td>\n",
       "    </tr>\n",
       "    <tr>\n",
       "      <th>596</th>\n",
       "      <td>17</td>\n",
       "      <td>9</td>\n",
       "      <td>कट्वम्ललवणात्युष्णतीक्ष्णरूक्षविदाहिनः।आहारा र...</td>\n",
       "      <td>ఎప్పుడైతే శాకాహార పదార్ధములను మితిమీరిన కారం/మ...</td>\n",
       "    </tr>\n",
       "    <tr>\n",
       "      <th>410</th>\n",
       "      <td>11</td>\n",
       "      <td>4</td>\n",
       "      <td>मन्यसे यदि तच्छक्यं मया द्रष्टुमिति प्रभो।\\n\\n...</td>\n",
       "      <td>ఇంతకు క్రితం శ్లోకంలో, అర్జునుడు సర్వేశ్వరుని ...</td>\n",
       "    </tr>\n",
       "    <tr>\n",
       "      <th>316</th>\n",
       "      <td>8</td>\n",
       "      <td>14</td>\n",
       "      <td>अनन्यचेताः सततं यो मां स्मरति नित्यशः।\\n\\nतस्य...</td>\n",
       "      <td>భగవద్గీత అంతటా శ్రీ కృష్ణుడు చాలా సార్లు భక్తి...</td>\n",
       "    </tr>\n",
       "    <tr>\n",
       "      <th>595</th>\n",
       "      <td>17</td>\n",
       "      <td>8</td>\n",
       "      <td>आयुःसत्त्वबलारोग्यसुखप्रीतिविवर्धनाः।रस्याः स्...</td>\n",
       "      <td>14వ అధ్యాయము, 6వ శ్లోకములో, శ్రీ కృష్ణుడు సత్త...</td>\n",
       "    </tr>\n",
       "    <tr>\n",
       "      <th>515</th>\n",
       "      <td>13</td>\n",
       "      <td>34</td>\n",
       "      <td>यथा प्रकाशयत्येकः कृत्स्नं लोकमिमं रविः।क्षेत्...</td>\n",
       "      <td>ఆత్మ, తను ఉన్న దేహమును చైతన్యముచే తేజోమయం చేసి...</td>\n",
       "    </tr>\n",
       "  </tbody>\n",
       "</table>\n",
       "</div>"
      ],
      "text/plain": [
       "     Chapter  Verse                                              Sloke  \\\n",
       "47         2      8  न हि प्रपश्यामि ममापनुद्या\\n\\nद्यच्छोकमुच्छोषण...   \n",
       "589       17      2  श्री भगवानुवाचत्रिविधा भवति श्रद्धा देहिनां सा...   \n",
       "527       14     11  सर्वद्वारेषु देहेऽस्मिन्प्रकाश उपजायते।ज्ञानं ...   \n",
       "528       14     12  लोभः प्रवृत्तिरारम्भः कर्मणामशमः स्पृहा।रजस्ये...   \n",
       "529       14     13  अप्रकाशोऽप्रवृत्तिश्च प्रमादो मोह एव च।तमस्येत...   \n",
       "596       17      9  कट्वम्ललवणात्युष्णतीक्ष्णरूक्षविदाहिनः।आहारा र...   \n",
       "410       11      4  मन्यसे यदि तच्छक्यं मया द्रष्टुमिति प्रभो।\\n\\n...   \n",
       "316        8     14  अनन्यचेताः सततं यो मां स्मरति नित्यशः।\\n\\nतस्य...   \n",
       "595       17      8  आयुःसत्त्वबलारोग्यसुखप्रीतिविवर्धनाः।रस्याः स्...   \n",
       "515       13     34  यथा प्रकाशयत्येकः कृत्स्नं लोकमिमं रविः।क्षेत्...   \n",
       "\n",
       "                                            Commentary  \n",
       "47   ఎప్పుడైనా మనము దుఃఖం లో మునిగిపోయినప్పుడు, మన ...  \n",
       "589  ఎవ్వరూ కూడా శ్రద్ధ/విశ్వాసము లేకుండా ఉండరు, ఎం...  \n",
       "527  శ్రీ కృష్ణుడు మళ్ళీ ఒకసారి, త్రిగుణములు వ్యక్త...  \n",
       "528  శ్రీ కృష్ణుడు మళ్ళీ ఒకసారి, త్రిగుణములు వ్యక్త...  \n",
       "529  శ్రీ కృష్ణుడు మళ్ళీ ఒకసారి, త్రిగుణములు వ్యక్త...  \n",
       "596  ఎప్పుడైతే శాకాహార పదార్ధములను మితిమీరిన కారం/మ...  \n",
       "410  ఇంతకు క్రితం శ్లోకంలో, అర్జునుడు సర్వేశ్వరుని ...  \n",
       "316  భగవద్గీత అంతటా శ్రీ కృష్ణుడు చాలా సార్లు భక్తి...  \n",
       "595  14వ అధ్యాయము, 6వ శ్లోకములో, శ్రీ కృష్ణుడు సత్త...  \n",
       "515  ఆత్మ, తను ఉన్న దేహమును చైతన్యముచే తేజోమయం చేసి...  "
      ]
     },
     "execution_count": 14,
     "metadata": {},
     "output_type": "execute_result"
    }
   ],
   "source": [
    "verse_index=tfidf('నాకు చాలా సమస్యలు ఉన్నాయి')\n",
    "data.loc[verse_index]"
   ]
  },
  {
   "cell_type": "code",
   "execution_count": 17,
   "id": "d2faa259",
   "metadata": {},
   "outputs": [
    {
     "data": {
      "text/plain": [
       "'ఎప్పుడైనా మనము దుఃఖం లో మునిగిపోయినప్పుడు, మన బుద్ది ఆ దుఃఖానికి మూల కారణాన్ని విశ్లేషిస్తూ ఉంటుంది. ఎపుడైతే ఇక ఎక్కువ ఆలోచించలేదో, అప్పుడు మానసికంగా కుంగిపోవటం మొదలవుతుంది. అర్జునుడి సమస్యలు అతని అల్పమైన బుద్ది కన్నా పెద్దవిగా పరిణమించటంతో, అతన్ని శోక సముద్రం నుండి కాపాడటానికి తనకున్న భౌతిక జ్ఞానం సరిపోదు. శ్రీ కృష్ణుడిని గురువుగా స్వీకరించిన తరువాత తన దయనీయ స్థితిని వెల్లడిచేయుచూ మనస్సు లో ఉన్నదంతా చెప్తున్నాడు, అర్జునుడు.   అర్జునుడి పరిస్థితి అతనొక్కడిదే కాదు. జీవిత ప్రయాణం లో సాగిపోతున్నప్పుడు అప్పుడప్పుడు మనకు ఎదురయ్యేదే. మనకు సంతోషం కావాలి, కానీ దుఃఖం కలుగుతుంటుంది; మనకు జ్ఞానం కావాలి; కాని అజ్ఞానపు మేఘాల్ని తొలగించుకోలేము; పరిశుద్ధమైన ప్రేమని కోరుకుంటాము కాని పదేపదే ఆశాభంగము కలుగుతుంది; మన కాలేజి పట్టాలు, నేర్చుక్కున్న విద్య మరియు లౌకిక పాండిత్యములు జీవితం లో ఎదురయ్యే జటిల సమస్యలకు పరిష్కారం చూపలేవు. మనకు జీవితపు క్లిష్టమైన సమస్యలను పరిష్కరించటానికి ఆధ్యాత్మిక జ్ఞానం అవసరం. మహోన్నత స్థితి లో ఉన్న నిజమైన గురువు లభించినప్పుడు, మనకు వారి నుండి నేర్చుకునే అణకువ, వినయం ఉంటే ఆ యొక్క ఆధ్యాత్మిక జ్ఞాన నిధి తెరువబడుతుంది. ఈ మార్గాన్నే అర్జునుడు ఎంచుకున్నాడు.'"
      ]
     },
     "execution_count": 17,
     "metadata": {},
     "output_type": "execute_result"
    }
   ],
   "source": [
    "data.loc[47][\"Commentary\"]"
   ]
  },
  {
   "cell_type": "code",
   "execution_count": null,
   "id": "0759dfba",
   "metadata": {},
   "outputs": [],
   "source": []
  }
 ],
 "metadata": {
  "kernelspec": {
   "display_name": "Python 3 (ipykernel)",
   "language": "python",
   "name": "python3"
  },
  "language_info": {
   "codemirror_mode": {
    "name": "ipython",
    "version": 3
   },
   "file_extension": ".py",
   "mimetype": "text/x-python",
   "name": "python",
   "nbconvert_exporter": "python",
   "pygments_lexer": "ipython3",
   "version": "3.8.8"
  }
 },
 "nbformat": 4,
 "nbformat_minor": 5
}
