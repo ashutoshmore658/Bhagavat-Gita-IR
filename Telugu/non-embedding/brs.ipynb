{
 "cells": [
  {
   "cell_type": "code",
   "execution_count": 12,
   "id": "6cab9bd7",
   "metadata": {},
   "outputs": [],
   "source": [
    "import re\n",
    "import numpy as np\n",
    "import pandas as pd\n",
    "import math\n",
    "import pickle\n",
    "from collections import Counter"
   ]
  },
  {
   "cell_type": "code",
   "execution_count": 13,
   "id": "1742b701",
   "metadata": {},
   "outputs": [],
   "source": [
    "stopwords=['కూడా', 'ఉన్నారు', 'ఎవరైనా', 'ఎప్పుడు', 'ఎక్కడైనా', 'అందుబాటులో', 'ఒక ప్రక్కన', 'సంబంధం', 'మాత్రమే', 'అడగండి', 'గా', 'మధ్య', 'ప్రకారం', 'అనుమతించు', 'మెచ్చుకో', 'వద్ద', 'తగిన', 'అడ్డంగా', 'అడగడం', 'ఇప్పటికే', 'కనిపిస్తాయి', 'కాదు', 'మరియు', 'మరొక', 'అనుగుణంగా', 'అయితే', 'చేయగలిగింది', 'దాదాపు', 'గురించి', 'పై', 'వెంట', 'వేరుగా', 'చుట్టూ', 'దూరంగా', 'ఏ', 'నిజంగా', 'అనుమతిస్తుంది', 'అందరూ', 'ఎవరో ఒకరు', 'వ్యతిరేకంగా', 'ఏదైనా', 'తర్వాత', 'మళ్ళీ', 'ఏమైనప్పటికి', 'ఒక']"
   ]
  },
  {
   "cell_type": "code",
   "execution_count": 14,
   "id": "1fe6c77c",
   "metadata": {},
   "outputs": [],
   "source": [
    "vowels=set(\"అ ఆ ఇ ఈ ఉ ఊ ఋ ౠ ఌ ౡ ఎ ఏ ఐ ఒ ఓ ఔ అం అః\".split())\n",
    "\n",
    "conso=\"క\tఖ\tగ\tఘ\tఙ\tచ\tఛ\tజ\tఝ\tఞ\tట\tఠ\tడ\tఢ\tణ\tత\tథ\tద\tధ\tన\tప\tఫ\tబ\tభ\tమ\tయ\tర\tల\tవ\tశ\tష\tస\tహ\tళ\tక్ష\tఱ\"\n",
    "\n",
    "matra = \"ఀ\tఁ\tం\tః\tఄ\tఽ\tా\tి\tీ\tు\tూ\tృ\tౄ\tె\tే\tై\tొ\tో\tౌ\t్\tౕ\tౖ\tౢ\tౣ\"\n",
    "\n",
    "halantha='్'"
   ]
  },
  {
   "cell_type": "code",
   "execution_count": 15,
   "id": "ef7832fb",
   "metadata": {},
   "outputs": [],
   "source": [
    "consonants=set(conso.split(\"\\t\"))\n",
    "matra = set(matra.split(\"\\t\"))\n",
    "\n",
    "vowels = list(vowels)\n",
    "consonants=list(consonants)\n",
    "matra=list(matra)\n",
    "\n",
    "alphabets = vowels+consonants"
   ]
  },
  {
   "cell_type": "code",
   "execution_count": 16,
   "id": "a043bb1d",
   "metadata": {},
   "outputs": [],
   "source": [
    "temp=open('pickles/posting_list.pkl',\"rb\")\n",
    "posting_lists=pickle.load(temp)\n",
    "\n",
    "temp=open('pickles/file_idx.pkl','rb')\n",
    "file_index=pickle.load(temp)"
   ]
  },
  {
   "cell_type": "code",
   "execution_count": 17,
   "id": "36d65e26",
   "metadata": {},
   "outputs": [],
   "source": [
    "unique_words=set(posting_lists.keys())"
   ]
  },
  {
   "cell_type": "code",
   "execution_count": 18,
   "id": "f63cb5e8",
   "metadata": {},
   "outputs": [],
   "source": [
    "def remove_special_characters(text):\n",
    "    string=''\n",
    "    for i in text:\n",
    "        if i in alphabets+matra:\n",
    "            string=string+i\n",
    "        else:\n",
    "            string=string+\" \"\n",
    "    return \" \".join(string.split())"
   ]
  },
  {
   "cell_type": "code",
   "execution_count": 20,
   "id": "25013a55",
   "metadata": {},
   "outputs": [],
   "source": [
    "data=pd.read_csv('../telugu.csv')"
   ]
  },
  {
   "cell_type": "code",
   "execution_count": 34,
   "id": "3db0c550",
   "metadata": {},
   "outputs": [],
   "source": [
    "def brs(query,counter=10):\n",
    "    text = remove_special_characters(query)\n",
    "    words = text.split()\n",
    "    words=[word for word in words if word not in stopwords]\n",
    "    \n",
    "    if len(words)>1:\n",
    "        query_words=[words[0]]\n",
    "    else:\n",
    "        query_words=words\n",
    "\n",
    "    for i in range(1,len(words)):\n",
    "        if words[i] not in [\"మరియు\",\"గాని\"]:\n",
    "            if query_words[-1] not in [\"మరియు\",\"గాని\"]:\n",
    "                query_words.append(\"మరియు\")\n",
    "                query_words.append(words[i])\n",
    "            else:\n",
    "                query_words.append(words[i])\n",
    "        elif query_words[-1] not in [\"మరియు\",\"గాని\"]:\n",
    "            query_words.append(words[i])\n",
    "    \n",
    "    operators=[]\n",
    "    main_words=[]\n",
    "    for w in query_words:\n",
    "        if w in [\"మరియు\",\"గాని\"]:\n",
    "            operators.append(w)\n",
    "        else:\n",
    "            main_words.append(w)\n",
    "    print(query_words)\n",
    "    print(operators)\n",
    "    print(main_words)\n",
    "    \n",
    "    n=len(file_index)\n",
    "    word_vector=[]\n",
    "    word_vector_matrix=[]\n",
    "\n",
    "    for w in main_words:\n",
    "        word_vector=[0]*n\n",
    "        if w in unique_words:\n",
    "            for x in posting_lists[w].keys():\n",
    "                word_vector[x]=1\n",
    "        word_vector_matrix.append(word_vector)\n",
    "        \n",
    "        \n",
    "    for w in operators:\n",
    "        vector1=word_vector_matrix[0]\n",
    "        vector2=word_vector_matrix[1]\n",
    "\n",
    "        if w==\"మరియు\":\n",
    "            result=[b1&b2 for b1,b2 in zip(vector1,vector2)]\n",
    "\n",
    "            word_vector_matrix.pop(0)\n",
    "            word_vector_matrix.pop(0)\n",
    "\n",
    "            word_vector_matrix.insert(0,result)\n",
    "        else:\n",
    "            result=[b1|b2 for b1,b2 in zip(vector1,vector2)]\n",
    "\n",
    "            word_vector_matrix.pop(0)\n",
    "            word_vector_matrix.pop(0)\n",
    "\n",
    "            word_vector_matrix.insert(0,result)\n",
    "    \n",
    "    \n",
    "    final_word_vector=word_vector_matrix[0]\n",
    "    index=0\n",
    "    slokes=[]\n",
    "    description=[]\n",
    "    verse_index=[]\n",
    "    for i in final_word_vector:\n",
    "        if not counter:\n",
    "            break\n",
    "        if i==1:\n",
    "            verse_index.append(index)\n",
    "            counter=counter-1\n",
    "\n",
    "        index+=1\n",
    "    return verse_index\n"
   ]
  },
  {
   "cell_type": "code",
   "execution_count": 39,
   "id": "84dd097a",
   "metadata": {},
   "outputs": [
    {
     "data": {
      "text/plain": [
       "'ఎప్పుడైనా మనము దుఃఖం లో మునిగిపోయినప్పుడు, మన బుద్ది ఆ దుఃఖానికి మూల కారణాన్ని విశ్లేషిస్తూ ఉంటుంది. ఎపుడైతే ఇక ఎక్కువ ఆలోచించలేదో, అప్పుడు మానసికంగా కుంగిపోవటం మొదలవుతుంది. అర్జునుడి సమస్యలు అతని అల్పమైన బుద్ది కన్నా పెద్దవిగా పరిణమించటంతో, అతన్ని శోక సముద్రం నుండి కాపాడటానికి తనకున్న భౌతిక జ్ఞానం సరిపోదు. శ్రీ కృష్ణుడిని గురువుగా స్వీకరించిన తరువాత తన దయనీయ స్థితిని వెల్లడిచేయుచూ మనస్సు లో ఉన్నదంతా చెప్తున్నాడు, అర్జునుడు.   అర్జునుడి పరిస్థితి అతనొక్కడిదే కాదు. జీవిత ప్రయాణం లో సాగిపోతున్నప్పుడు అప్పుడప్పుడు మనకు ఎదురయ్యేదే. మనకు సంతోషం కావాలి, కానీ దుఃఖం కలుగుతుంటుంది; మనకు జ్ఞానం కావాలి; కాని అజ్ఞానపు మేఘాల్ని తొలగించుకోలేము; పరిశుద్ధమైన ప్రేమని కోరుకుంటాము కాని పదేపదే ఆశాభంగము కలుగుతుంది; మన కాలేజి పట్టాలు, నేర్చుక్కున్న విద్య మరియు లౌకిక పాండిత్యములు జీవితం లో ఎదురయ్యే జటిల సమస్యలకు పరిష్కారం చూపలేవు. మనకు జీవితపు క్లిష్టమైన సమస్యలను పరిష్కరించటానికి ఆధ్యాత్మిక జ్ఞానం అవసరం. మహోన్నత స్థితి లో ఉన్న నిజమైన గురువు లభించినప్పుడు, మనకు వారి నుండి నేర్చుకునే అణకువ, వినయం ఉంటే ఆ యొక్క ఆధ్యాత్మిక జ్ఞాన నిధి తెరువబడుతుంది. ఈ మార్గాన్నే అర్జునుడు ఎంచుకున్నాడు.'"
      ]
     },
     "execution_count": 39,
     "metadata": {},
     "output_type": "execute_result"
    }
   ],
   "source": [
    "data.loc[47]['Commentary']"
   ]
  },
  {
   "cell_type": "code",
   "execution_count": 38,
   "id": "f13ff58e",
   "metadata": {
    "scrolled": false
   },
   "outputs": [
    {
     "name": "stdout",
     "output_type": "stream",
     "text": [
      "['సమస్యలు']\n",
      "[]\n",
      "['సమస్యలు']\n"
     ]
    },
    {
     "data": {
      "text/html": [
       "<div>\n",
       "<style scoped>\n",
       "    .dataframe tbody tr th:only-of-type {\n",
       "        vertical-align: middle;\n",
       "    }\n",
       "\n",
       "    .dataframe tbody tr th {\n",
       "        vertical-align: top;\n",
       "    }\n",
       "\n",
       "    .dataframe thead th {\n",
       "        text-align: right;\n",
       "    }\n",
       "</style>\n",
       "<table border=\"1\" class=\"dataframe\">\n",
       "  <thead>\n",
       "    <tr style=\"text-align: right;\">\n",
       "      <th></th>\n",
       "      <th>Chapter</th>\n",
       "      <th>Verse</th>\n",
       "      <th>Sloke</th>\n",
       "      <th>Commentary</th>\n",
       "    </tr>\n",
       "  </thead>\n",
       "  <tbody>\n",
       "    <tr>\n",
       "      <th>47</th>\n",
       "      <td>2</td>\n",
       "      <td>8</td>\n",
       "      <td>न हि प्रपश्यामि ममापनुद्या\\n\\nद्यच्छोकमुच्छोषण...</td>\n",
       "      <td>ఎప్పుడైనా మనము దుఃఖం లో మునిగిపోయినప్పుడు, మన ...</td>\n",
       "    </tr>\n",
       "  </tbody>\n",
       "</table>\n",
       "</div>"
      ],
      "text/plain": [
       "    Chapter  Verse                                              Sloke  \\\n",
       "47        2      8  न हि प्रपश्यामि ममापनुद्या\\n\\nद्यच्छोकमुच्छोषण...   \n",
       "\n",
       "                                           Commentary  \n",
       "47  ఎప్పుడైనా మనము దుఃఖం లో మునిగిపోయినప్పుడు, మన ...  "
      ]
     },
     "execution_count": 38,
     "metadata": {},
     "output_type": "execute_result"
    }
   ],
   "source": [
    "verse_index=brs('నాకు చాలా సమస్యలు ఉన్నాయిు')\n",
    "data.loc[verse_index]"
   ]
  },
  {
   "cell_type": "code",
   "execution_count": 31,
   "id": "50f0ce0f",
   "metadata": {},
   "outputs": [
    {
     "data": {
      "text/plain": [
       "['నాకు', 'చాలా', 'సమస్యలు', 'ఉన్నాయి']"
      ]
     },
     "execution_count": 31,
     "metadata": {},
     "output_type": "execute_result"
    }
   ],
   "source": [
    "text = remove_special_characters('నాకు చాలా సమస్యలు ఉన్నాయి')\n",
    "words = text.split()\n",
    "words=[word for word in words if word not in stopwords]\n",
    "words"
   ]
  },
  {
   "cell_type": "code",
   "execution_count": null,
   "id": "0c607841",
   "metadata": {},
   "outputs": [],
   "source": []
  }
 ],
 "metadata": {
  "kernelspec": {
   "display_name": "Python 3 (ipykernel)",
   "language": "python",
   "name": "python3"
  },
  "language_info": {
   "codemirror_mode": {
    "name": "ipython",
    "version": 3
   },
   "file_extension": ".py",
   "mimetype": "text/x-python",
   "name": "python",
   "nbconvert_exporter": "python",
   "pygments_lexer": "ipython3",
   "version": "3.8.8"
  }
 },
 "nbformat": 4,
 "nbformat_minor": 5
}
