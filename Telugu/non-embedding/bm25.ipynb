{
 "cells": [
  {
   "cell_type": "code",
   "execution_count": 1,
   "id": "e767489c",
   "metadata": {},
   "outputs": [],
   "source": [
    "import re\n",
    "import numpy as np\n",
    "import pandas as pd\n",
    "import math\n",
    "import pickle\n",
    "from collections import Counter\n",
    "import warnings\n",
    "warnings.filterwarnings('ignore')"
   ]
  },
  {
   "cell_type": "code",
   "execution_count": 2,
   "id": "1742b701",
   "metadata": {},
   "outputs": [],
   "source": [
    "stopwords=['కూడా', 'ఉన్నారు', 'ఎవరైనా', 'ఎప్పుడు', 'ఎక్కడైనా', 'అందుబాటులో', 'ఒక ప్రక్కన', 'సంబంధం', 'మాత్రమే', 'అడగండి', 'గా', 'మధ్య', 'ప్రకారం', 'అనుమతించు', 'మెచ్చుకో', 'వద్ద', 'తగిన', 'అడ్డంగా', 'అడగడం', 'ఇప్పటికే', 'కనిపిస్తాయి', 'కాదు', 'మరియు', 'మరొక', 'అనుగుణంగా', 'అయితే', 'చేయగలిగింది', 'దాదాపు', 'గురించి', 'పై', 'వెంట', 'వేరుగా', 'చుట్టూ', 'దూరంగా', 'ఏ', 'నిజంగా', 'అనుమతిస్తుంది', 'అందరూ', 'ఎవరో ఒకరు', 'వ్యతిరేకంగా', 'ఏదైనా', 'తర్వాత', 'మళ్ళీ', 'ఏమైనప్పటికి', 'ఒక']"
   ]
  },
  {
   "cell_type": "code",
   "execution_count": 3,
   "id": "eb244d3b",
   "metadata": {},
   "outputs": [],
   "source": [
    "vowels=set(\"అ ఆ ఇ ఈ ఉ ఊ ఋ ౠ ఌ ౡ ఎ ఏ ఐ ఒ ఓ ఔ అం అః\".split())\n",
    "\n",
    "conso=\"క\tఖ\tగ\tఘ\tఙ\tచ\tఛ\tజ\tఝ\tఞ\tట\tఠ\tడ\tఢ\tణ\tత\tథ\tద\tధ\tన\tప\tఫ\tబ\tభ\tమ\tయ\tర\tల\tవ\tశ\tష\tస\tహ\tళ\tక్ష\tఱ\"\n",
    "\n",
    "matra = \"ఀ\tఁ\tం\tః\tఄ\tఽ\tా\tి\tీ\tు\tూ\tృ\tౄ\tె\tే\tై\tొ\tో\tౌ\t్\tౕ\tౖ\tౢ\tౣ\"\n",
    "\n",
    "halantha='్'"
   ]
  },
  {
   "cell_type": "code",
   "execution_count": 4,
   "id": "f00bc1ce",
   "metadata": {},
   "outputs": [],
   "source": [
    "consonants=set(conso.split(\"\\t\"))\n",
    "matra = set(matra.split(\"\\t\"))\n",
    "\n",
    "vowels = list(vowels)\n",
    "consonants=list(consonants)\n",
    "matra=list(matra)\n",
    "\n",
    "alphabets = vowels+consonants"
   ]
  },
  {
   "cell_type": "code",
   "execution_count": 5,
   "id": "22a95e85",
   "metadata": {},
   "outputs": [
    {
     "name": "stdout",
     "output_type": "stream",
     "text": [
      "['ఐ', 'అః', 'ఓ', 'ఈ', 'ఒ', 'అం', 'ఏ', 'ౠ', 'ఌ', 'ఆ', 'ఉ', 'ఋ', 'ఇ', 'అ', 'ఊ', 'ఔ', 'ౡ', 'ఎ', 'హ', 'థ', 'ఱ', 'భ', 'ఖ', 'ఢ', 'వ', 'శ', 'స', 'క్ష', 'ణ', 'ఘ', 'త', 'గ', 'ష', 'న', 'జ', 'ర', 'ఠ', 'ల', 'ఙ', 'చ', 'ళ', 'ఞ', 'ఛ', 'ప', 'ఝ', 'క', 'ఫ', 'ధ', 'య', 'బ', 'ట', 'ద', 'మ', 'డ']\n"
     ]
    }
   ],
   "source": [
    "print(alphabets)"
   ]
  },
  {
   "cell_type": "code",
   "execution_count": 7,
   "id": "79edbf1f",
   "metadata": {},
   "outputs": [],
   "source": [
    "data=pd.read_csv('../telugu.csv')"
   ]
  },
  {
   "cell_type": "code",
   "execution_count": 8,
   "id": "5ebc7956",
   "metadata": {},
   "outputs": [],
   "source": [
    "def remove_special_characters(text):\n",
    "    string=''\n",
    "    for i in text:\n",
    "        if i in alphabets+matra:\n",
    "            string=string+i\n",
    "        else:\n",
    "            string=string+\" \"\n",
    "    return \" \".join(string.split())"
   ]
  },
  {
   "cell_type": "code",
   "execution_count": 9,
   "id": "97b644c4",
   "metadata": {},
   "outputs": [],
   "source": [
    "with open('pickles/posting_list.pkl','rb') as file:\n",
    "    tf=pickle.load(file)\n",
    "    file.close()\n",
    "    \n",
    "with open('pickles/df.pkl','rb') as file:\n",
    "    DF=pickle.load(file)\n",
    "    file.close()\n",
    "    \n",
    "with open('pickles/file_idx.pkl','rb') as file:\n",
    "    file_idx=pickle.load(file)\n",
    "    file.close()\n",
    "    \n",
    "with open('pickles/doc_len.pkl','rb') as file:\n",
    "    doc_len=pickle.load(file)\n",
    "    file.close()"
   ]
  },
  {
   "cell_type": "code",
   "execution_count": 10,
   "id": "b8efe48e",
   "metadata": {},
   "outputs": [],
   "source": [
    "k=0\n",
    "Ld=doc_len\n",
    "N=len(file_idx)\n",
    "for i in Ld:\n",
    "    k+=Ld[i]\n",
    "Lavg=k/N"
   ]
  },
  {
   "cell_type": "code",
   "execution_count": 11,
   "id": "55ca3745",
   "metadata": {},
   "outputs": [],
   "source": [
    "def IDF(q):\n",
    "    DF1=0\n",
    "    if q in DF:\n",
    "        DF1=DF[q]\n",
    "    ans=math.log((N-DF1+0.5)/(DF1+0.5))\n",
    "    return ans\n",
    "k=1.2\n",
    "b=0.75"
   ]
  },
  {
   "cell_type": "code",
   "execution_count": 12,
   "id": "952abec0",
   "metadata": {},
   "outputs": [],
   "source": [
    "def bm25(query,counter=10):\n",
    "    score={}\n",
    "    for i in range(len(file_idx)):\n",
    "        score[i]=0\n",
    "    text = remove_special_characters(query)\n",
    "    words = text.split()\n",
    "    words=[word for word in words if word not in stopwords]\n",
    "    words=[word for word in words if word in DF.keys()]\n",
    "    for i in range(len(file_idx)):\n",
    "        score[i]=0\n",
    "        for qi in words:\n",
    "            TF=0\n",
    "            if qi in tf:\n",
    "                if i in tf[qi]:\n",
    "                    TF=tf[qi][i]\n",
    "            idf=IDF(qi)\n",
    "            ans=idf*(k+1)*TF/(TF+k*(1-b+b*(Ld[i]/Lavg)))\n",
    "            score[i]+=ans\n",
    "    score=sorted(score.items(),key=lambda item: item[1],reverse=True)\n",
    "    verse_index=[]\n",
    "    for i in score:\n",
    "        if counter== 0:\n",
    "            break\n",
    "        verse_index.append(i[0])\n",
    "        counter-=1\n",
    "    return verse_index"
   ]
  },
  {
   "cell_type": "code",
   "execution_count": 13,
   "id": "c0b8d8d7",
   "metadata": {},
   "outputs": [
    {
     "data": {
      "text/html": [
       "<div>\n",
       "<style scoped>\n",
       "    .dataframe tbody tr th:only-of-type {\n",
       "        vertical-align: middle;\n",
       "    }\n",
       "\n",
       "    .dataframe tbody tr th {\n",
       "        vertical-align: top;\n",
       "    }\n",
       "\n",
       "    .dataframe thead th {\n",
       "        text-align: right;\n",
       "    }\n",
       "</style>\n",
       "<table border=\"1\" class=\"dataframe\">\n",
       "  <thead>\n",
       "    <tr style=\"text-align: right;\">\n",
       "      <th></th>\n",
       "      <th>Chapter</th>\n",
       "      <th>Verse</th>\n",
       "      <th>Sloke</th>\n",
       "      <th>Commentary</th>\n",
       "    </tr>\n",
       "  </thead>\n",
       "  <tbody>\n",
       "    <tr>\n",
       "      <th>142</th>\n",
       "      <td>3</td>\n",
       "      <td>31</td>\n",
       "      <td>ये मे मतमिदं नित्यमनुतिष्ठन्ति मानवाः।\\n\\nश्रद...</td>\n",
       "      <td>చాలా అందంగా, దేవదేవుడు తను వివరించిన సిద్ధాంతా...</td>\n",
       "    </tr>\n",
       "    <tr>\n",
       "      <th>473</th>\n",
       "      <td>12</td>\n",
       "      <td>12</td>\n",
       "      <td>श्रेयो हि ज्ञानमभ्यासाज्ज्ञानाद्ध्यानं विशिष्य...</td>\n",
       "      <td>చాలా మంది జనులు యాంత్రికమైన అభ్యాసము చేసే దశ ల...</td>\n",
       "    </tr>\n",
       "    <tr>\n",
       "      <th>298</th>\n",
       "      <td>7</td>\n",
       "      <td>26</td>\n",
       "      <td>वेदाहं समतीतानि वर्तमानानि चार्जुन।\\n\\nभविष्या...</td>\n",
       "      <td>భగవంతుడు సర్వజ్ఞుడు. తాను ‘త్రికాల-దర్శి’ అని ...</td>\n",
       "    </tr>\n",
       "    <tr>\n",
       "      <th>374</th>\n",
       "      <td>10</td>\n",
       "      <td>10</td>\n",
       "      <td>तेषां सततयुक्तानां भजतां प्रीतिपूर्वकम्।\\n\\nदद...</td>\n",
       "      <td>మన సొంత తెలివితేటలతో భగవంతుని యొక్క దివ్య జ్ఞా...</td>\n",
       "    </tr>\n",
       "    <tr>\n",
       "      <th>500</th>\n",
       "      <td>13</td>\n",
       "      <td>19</td>\n",
       "      <td>इति क्षेत्रं तथा ज्ञानं ज्ञेयं चोक्तं समासतः।म...</td>\n",
       "      <td>శ్రీ కృష్ణుడు ఇక ఇప్పుడు క్షేత్రమును మరియు జ్ఞ...</td>\n",
       "    </tr>\n",
       "    <tr>\n",
       "      <th>124</th>\n",
       "      <td>3</td>\n",
       "      <td>13</td>\n",
       "      <td>यज्ञशिष्टाशिनः सन्तो मुच्यन्ते सर्वकिल्बिषैः।\\...</td>\n",
       "      <td>వైదిక సాంప్రదాయం లో, అన్నము (ఆహారము) ను భగవంతు...</td>\n",
       "    </tr>\n",
       "    <tr>\n",
       "      <th>318</th>\n",
       "      <td>8</td>\n",
       "      <td>16</td>\n",
       "      <td>आब्रह्मभुवनाल्लोकाः पुनरावर्तिनोऽर्जुन।\\n\\nमाम...</td>\n",
       "      <td>వేద శాస్త్రములు, భూలోకం కన్నా నిమ్న స్థాయిలో ఏ...</td>\n",
       "    </tr>\n",
       "    <tr>\n",
       "      <th>0</th>\n",
       "      <td>1</td>\n",
       "      <td>1</td>\n",
       "      <td>धृतराष्ट्र उवाच\\n\\nधर्मक्षेत्रे कुरुक्षेत्रे स...</td>\n",
       "      <td>ధృతరాష్ట్ర మహారాజు పుట్టుకతోనే గుడ్డి వాడే కాక...</td>\n",
       "    </tr>\n",
       "    <tr>\n",
       "      <th>1</th>\n",
       "      <td>1</td>\n",
       "      <td>2</td>\n",
       "      <td>सञ्जय उवाच\\n\\nदृष्ट्वा तु पाण्डवानीकं व्यूढं द...</td>\n",
       "      <td>తన పుత్రులు ఎలాగైనా యుద్ధం మొదలు పెడతారనే ధ్రు...</td>\n",
       "    </tr>\n",
       "    <tr>\n",
       "      <th>2</th>\n",
       "      <td>1</td>\n",
       "      <td>3</td>\n",
       "      <td>पश्यैतां पाण्डुपुत्राणामाचार्य महतीं चमूम्।\\n\\...</td>\n",
       "      <td>తన అస్త్రవిద్యా గురువు ద్రోణాచార్యుడికి గతంలో ...</td>\n",
       "    </tr>\n",
       "  </tbody>\n",
       "</table>\n",
       "</div>"
      ],
      "text/plain": [
       "     Chapter  Verse                                              Sloke  \\\n",
       "142        3     31  ये मे मतमिदं नित्यमनुतिष्ठन्ति मानवाः।\\n\\nश्रद...   \n",
       "473       12     12  श्रेयो हि ज्ञानमभ्यासाज्ज्ञानाद्ध्यानं विशिष्य...   \n",
       "298        7     26  वेदाहं समतीतानि वर्तमानानि चार्जुन।\\n\\nभविष्या...   \n",
       "374       10     10  तेषां सततयुक्तानां भजतां प्रीतिपूर्वकम्।\\n\\nदद...   \n",
       "500       13     19  इति क्षेत्रं तथा ज्ञानं ज्ञेयं चोक्तं समासतः।म...   \n",
       "124        3     13  यज्ञशिष्टाशिनः सन्तो मुच्यन्ते सर्वकिल्बिषैः।\\...   \n",
       "318        8     16  आब्रह्मभुवनाल्लोकाः पुनरावर्तिनोऽर्जुन।\\n\\nमाम...   \n",
       "0          1      1  धृतराष्ट्र उवाच\\n\\nधर्मक्षेत्रे कुरुक्षेत्रे स...   \n",
       "1          1      2  सञ्जय उवाच\\n\\nदृष्ट्वा तु पाण्डवानीकं व्यूढं द...   \n",
       "2          1      3  पश्यैतां पाण्डुपुत्राणामाचार्य महतीं चमूम्।\\n\\...   \n",
       "\n",
       "                                            Commentary  \n",
       "142  చాలా అందంగా, దేవదేవుడు తను వివరించిన సిద్ధాంతా...  \n",
       "473  చాలా మంది జనులు యాంత్రికమైన అభ్యాసము చేసే దశ ల...  \n",
       "298  భగవంతుడు సర్వజ్ఞుడు. తాను ‘త్రికాల-దర్శి’ అని ...  \n",
       "374  మన సొంత తెలివితేటలతో భగవంతుని యొక్క దివ్య జ్ఞా...  \n",
       "500  శ్రీ కృష్ణుడు ఇక ఇప్పుడు క్షేత్రమును మరియు జ్ఞ...  \n",
       "124  వైదిక సాంప్రదాయం లో, అన్నము (ఆహారము) ను భగవంతు...  \n",
       "318  వేద శాస్త్రములు, భూలోకం కన్నా నిమ్న స్థాయిలో ఏ...  \n",
       "0    ధృతరాష్ట్ర మహారాజు పుట్టుకతోనే గుడ్డి వాడే కాక...  \n",
       "1    తన పుత్రులు ఎలాగైనా యుద్ధం మొదలు పెడతారనే ధ్రు...  \n",
       "2    తన అస్త్రవిద్యా గురువు ద్రోణాచార్యుడికి గతంలో ...  "
      ]
     },
     "execution_count": 13,
     "metadata": {},
     "output_type": "execute_result"
    }
   ],
   "source": [
    "verse_index=bm25('మత తగాదాలు')\n",
    "data.loc[verse_index]"
   ]
  },
  {
   "cell_type": "code",
   "execution_count": 15,
   "id": "5341f3c6",
   "metadata": {},
   "outputs": [
    {
     "data": {
      "text/plain": [
       "'చాలా మంది జనులు యాంత్రికమైన అభ్యాసము చేసే దశ లో ఉన్నారు. తమతమ మత/ఆచారాలలో చెప్పినట్టుగా కర్మకాండలను చేస్తుంటారు, కానీ భగవంతుని యందు మనస్సు లగ్నం చేయరు. కొత్త ఇల్లు లేదా కొత్త కారు కొన్నప్పుడు, పూజారిని పిలిచి పూజాది కార్యక్రమాలు చేస్తుంటారు. పూజారి పూజ చెస్తూఉన్నప్పుడు, వారు వేరే గదిలో కూర్చుని ఎదో మాట్లడుకోవటమో లేదా కప్పు టీ తాగటమో చేస్తుంటారు. వారికి భక్తి అంటే ఏదో యాంత్రికమైన కార్యము చేయటమే. తరచుగా అది ఆచార అలవాటుగా, తల్లితండ్రుల నుండి పెద్దల నుండి అందించబడుతుంది. యాంత్రికముగా పూజాది కార్యక్రమాలు చేయటం అనేది ఏమీ చెడు పని కాదు, ఎందుకంటే, ఏమీ చేయక పోవటం కన్నా ఎదో ఒకటి చేయటం మంచిది. కనీసం, బాహ్యంగా నైనా భక్తిలో నిమగ్నమవుతారు.   కానీ, శ్రీ కృష్ణుడు ఇక్కడ ఏమంటున్నాడంటే, ఈ యాంత్రికమైన అభ్యాసము కన్నా ఆధ్యాత్మిక జ్ఞానము పెంపొందించుకొనుట మంచిది. జీవితపు లక్ష్యము భగవత్ ప్రాప్తి అని, భౌతిక ప్రాపంచిక పురోగతి కాదన్న విషయాన్ని ఆధ్యాత్మిక జ్ఞానము ప్రసాదిస్తుంది. జ్ఞానమును బాగా తెలుసుకున్న వ్యక్తి, కేవలం యాంత్రిక కర్మ కాండల కంటే అంతఃకరణ శుద్ధి కోసమే వాంఛ పెంచుకుంటాడు. కానీ, కేవలం జ్ఞానం కూడా అంతఃకరణ శుద్ధి చేయలేదు. అందుకే, జ్ఞాన సముపార్జన కంటే కూడా మనస్సుని భగవంతుని యందే ధ్యానం లో నిమగ్నం చేయటం ఉన్నతమైనది. మనస్సుని ధ్యానం ద్వారా నిజముగా నియంత్రణ చేయటం వలన మనకు ప్రాపంచిక భోగముల పట్ల అనాసక్తత/వైరాగ్యం కలుగుతూ ఉంటుంది. అనాసక్తి/వైరాగ్య లక్షణము మనస్సులో ఒకమేర పెరిగిన తరువాత, మనము తదుపరి స్థాయిని అభ్యాసం చేయవచ్చు, అదే కర్మ-ఫల-త్యాగము. ఇంతకు క్రితం శ్లోకంలో వివరించబడినట్టు, మనస్సు నుండి ప్రాపంచికత్వం నిర్మూలించటం మరియు ఇంకా ముందు ఉన్న ఉన్నత స్థాయిల కోసం బుద్ధిని బలోపేతం చేయటం కోసం, ఇది దోహదపడుతుంది.'"
      ]
     },
     "execution_count": 15,
     "metadata": {},
     "output_type": "execute_result"
    }
   ],
   "source": [
    "data.loc[473][\"Commentary\"]"
   ]
  },
  {
   "cell_type": "code",
   "execution_count": null,
   "id": "039415c2",
   "metadata": {},
   "outputs": [],
   "source": []
  }
 ],
 "metadata": {
  "kernelspec": {
   "display_name": "Python 3 (ipykernel)",
   "language": "python",
   "name": "python3"
  },
  "language_info": {
   "codemirror_mode": {
    "name": "ipython",
    "version": 3
   },
   "file_extension": ".py",
   "mimetype": "text/x-python",
   "name": "python",
   "nbconvert_exporter": "python",
   "pygments_lexer": "ipython3",
   "version": "3.8.8"
  }
 },
 "nbformat": 4,
 "nbformat_minor": 5
}
