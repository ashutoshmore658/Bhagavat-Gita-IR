{
 "cells": [
  {
   "cell_type": "code",
   "execution_count": 1,
   "id": "2126a19a",
   "metadata": {},
   "outputs": [],
   "source": [
    "import re\n",
    "import numpy as np\n",
    "import pandas as pd\n",
    "import math\n",
    "import pickle\n",
    "from gensim import corpora,models\n",
    "from collections import Counter"
   ]
  },
  {
   "cell_type": "code",
   "execution_count": 2,
   "id": "be9ba80c",
   "metadata": {},
   "outputs": [],
   "source": [
    "stopwords=['కూడా', 'ఉన్నారు', 'ఎవరైనా', 'ఎప్పుడు', 'ఎక్కడైనా', 'అందుబాటులో', 'ఒక ప్రక్కన', 'సంబంధం', 'మాత్రమే', 'అడగండి', 'గా', 'మధ్య', 'ప్రకారం', 'అనుమతించు', 'మెచ్చుకో', 'వద్ద', 'తగిన', 'అడ్డంగా', 'అడగడం', 'ఇప్పటికే', 'కనిపిస్తాయి', 'కాదు', 'మరియు', 'మరొక', 'అనుగుణంగా', 'అయితే', 'చేయగలిగింది', 'దాదాపు', 'గురించి', 'పై', 'వెంట', 'వేరుగా', 'చుట్టూ', 'దూరంగా', 'ఏ', 'నిజంగా', 'అనుమతిస్తుంది', 'అందరూ', 'ఎవరో ఒకరు', 'వ్యతిరేకంగా', 'ఏదైనా', 'తర్వాత', 'మళ్ళీ', 'ఏమైనప్పటికి', 'ఒక']"
   ]
  },
  {
   "cell_type": "code",
   "execution_count": 3,
   "id": "dc0439fc",
   "metadata": {},
   "outputs": [],
   "source": [
    "vowels=set(\"అ ఆ ఇ ఈ ఉ ఊ ఋ ౠ ఌ ౡ ఎ ఏ ఐ ఒ ఓ ఔ అం అః\".split())\n",
    "\n",
    "conso=\"క\tఖ\tగ\tఘ\tఙ\tచ\tఛ\tజ\tఝ\tఞ\tట\tఠ\tడ\tఢ\tణ\tత\tథ\tద\tధ\tన\tప\tఫ\tబ\tభ\tమ\tయ\tర\tల\tవ\tశ\tష\tస\tహ\tళ\tక్ష\tఱ\"\n",
    "\n",
    "matra = \"ఀ\tఁ\tం\tః\tఄ\tఽ\tా\tి\tీ\tు\tూ\tృ\tౄ\tె\tే\tై\tొ\tో\tౌ\t్\tౕ\tౖ\tౢ\tౣ\"\n",
    "\n",
    "halantha='్'"
   ]
  },
  {
   "cell_type": "code",
   "execution_count": 4,
   "id": "af45727b",
   "metadata": {},
   "outputs": [],
   "source": [
    "consonants=set(conso.split(\"\\t\"))\n",
    "matra = set(matra.split(\"\\t\"))\n",
    "\n",
    "vowels = list(vowels)\n",
    "consonants=list(consonants)\n",
    "matra=list(matra)\n",
    "\n",
    "alphabets = vowels+consonants"
   ]
  },
  {
   "cell_type": "code",
   "execution_count": 5,
   "id": "d3202b41",
   "metadata": {},
   "outputs": [
    {
     "name": "stdout",
     "output_type": "stream",
     "text": [
      "['ఋ', 'అ', 'ౡ', 'ఐ', 'ఒ', 'ఈ', 'ఓ', 'అం', 'ఇ', 'అః', 'ౠ', 'ఊ', 'ఌ', 'ఏ', 'ఔ', 'ఆ', 'ఉ', 'ఎ', 'శ', 'ఖ', 'థ', 'చ', 'హ', 'మ', 'ఞ', 'ద', 'ల', 'ళ', 'క్ష', 'డ', 'య', 'ఱ', 'గ', 'ర', 'బ', 'జ', 'ఝ', 'క', 'ఠ', 'న', 'ష', 'ఫ', 'ఘ', 'వ', 'ట', 'ఢ', 'ణ', 'ఙ', 'ఛ', 'ప', 'త', 'భ', 'స', 'ధ']\n"
     ]
    }
   ],
   "source": [
    "print(alphabets)"
   ]
  },
  {
   "cell_type": "code",
   "execution_count": 6,
   "id": "644d85ca",
   "metadata": {},
   "outputs": [],
   "source": [
    "def remove_special_characters(text):\n",
    "    string=''\n",
    "    for i in text:\n",
    "        if i in alphabets+matra:\n",
    "            string=string+i\n",
    "        else:\n",
    "            string=string+\" \"\n",
    "    return \" \".join(string.split())"
   ]
  },
  {
   "cell_type": "code",
   "execution_count": 7,
   "id": "6883809d",
   "metadata": {
    "scrolled": true
   },
   "outputs": [
    {
     "data": {
      "text/html": [
       "<div>\n",
       "<style scoped>\n",
       "    .dataframe tbody tr th:only-of-type {\n",
       "        vertical-align: middle;\n",
       "    }\n",
       "\n",
       "    .dataframe tbody tr th {\n",
       "        vertical-align: top;\n",
       "    }\n",
       "\n",
       "    .dataframe thead th {\n",
       "        text-align: right;\n",
       "    }\n",
       "</style>\n",
       "<table border=\"1\" class=\"dataframe\">\n",
       "  <thead>\n",
       "    <tr style=\"text-align: right;\">\n",
       "      <th></th>\n",
       "      <th>Chapter</th>\n",
       "      <th>Verse</th>\n",
       "      <th>Sloke</th>\n",
       "      <th>Commentary</th>\n",
       "    </tr>\n",
       "  </thead>\n",
       "  <tbody>\n",
       "    <tr>\n",
       "      <th>0</th>\n",
       "      <td>1</td>\n",
       "      <td>1</td>\n",
       "      <td>धृतराष्ट्र उवाच\\n\\nधर्मक्षेत्रे कुरुक्षेत्रे स...</td>\n",
       "      <td>ధృతరాష్ట్ర మహారాజు పుట్టుకతోనే గుడ్డి వాడే కాక...</td>\n",
       "    </tr>\n",
       "    <tr>\n",
       "      <th>1</th>\n",
       "      <td>1</td>\n",
       "      <td>2</td>\n",
       "      <td>सञ्जय उवाच\\n\\nदृष्ट्वा तु पाण्डवानीकं व्यूढं द...</td>\n",
       "      <td>తన పుత్రులు ఎలాగైనా యుద్ధం మొదలు పెడతారనే ధ్రు...</td>\n",
       "    </tr>\n",
       "    <tr>\n",
       "      <th>2</th>\n",
       "      <td>1</td>\n",
       "      <td>3</td>\n",
       "      <td>पश्यैतां पाण्डुपुत्राणामाचार्य महतीं चमूम्।\\n\\...</td>\n",
       "      <td>తన అస్త్రవిద్యా గురువు ద్రోణాచార్యుడికి గతంలో ...</td>\n",
       "    </tr>\n",
       "    <tr>\n",
       "      <th>3</th>\n",
       "      <td>1</td>\n",
       "      <td>4</td>\n",
       "      <td>अत्र शूरा महेष्वासा भीमार्जुनसमा युधि।\\n\\nयुयु...</td>\n",
       "      <td>రాబోయే పెను విపత్తు భయానికి, పాండవులు సమీకరించ...</td>\n",
       "    </tr>\n",
       "    <tr>\n",
       "      <th>4</th>\n",
       "      <td>1</td>\n",
       "      <td>5</td>\n",
       "      <td>धृष्टकेतुश्चेकितानः काशिराजश्च वीर्यवान्।\\n\\nप...</td>\n",
       "      <td>రాబోయే పెను విపత్తు భయానికి, పాండవులు సమీకరించ...</td>\n",
       "    </tr>\n",
       "    <tr>\n",
       "      <th>...</th>\n",
       "      <td>...</td>\n",
       "      <td>...</td>\n",
       "      <td>...</td>\n",
       "      <td>...</td>\n",
       "    </tr>\n",
       "    <tr>\n",
       "      <th>689</th>\n",
       "      <td>18</td>\n",
       "      <td>74</td>\n",
       "      <td>सञ्जय उवाचइत्यहं वासुदेवस्य पार्थस्य च महात्मन...</td>\n",
       "      <td>ఈ విధంగా సంజయుడు, భగవద్ గీత అనే దివ్య ఉపదేశమున...</td>\n",
       "    </tr>\n",
       "    <tr>\n",
       "      <th>690</th>\n",
       "      <td>18</td>\n",
       "      <td>75</td>\n",
       "      <td>व्यासप्रसादाच्छ्रुतवानेतद्गुह्यमहं परम्।योगं य...</td>\n",
       "      <td>శ్రీ కృష్ణ ద్వైపాయన వ్యాసదేవుడు, ఆయననే మహర్షి ...</td>\n",
       "    </tr>\n",
       "    <tr>\n",
       "      <th>691</th>\n",
       "      <td>18</td>\n",
       "      <td>76</td>\n",
       "      <td>राजन्संस्मृत्य संस्मृत्य संवादमिममद्भुतम्।केशव...</td>\n",
       "      <td>ఆధ్యాత్మిక అనుభవము అనేది సమస్త భౌతిక ఆనందాలని ...</td>\n",
       "    </tr>\n",
       "    <tr>\n",
       "      <th>692</th>\n",
       "      <td>18</td>\n",
       "      <td>77</td>\n",
       "      <td>तच्च संस्मृत्य संस्मृत्य रूपमत्यद्भुतं हरेः।\\n...</td>\n",
       "      <td>భగవంతుని విశ్వ రూప దర్శన భాగ్యము అర్జునుడికి క...</td>\n",
       "    </tr>\n",
       "    <tr>\n",
       "      <th>693</th>\n",
       "      <td>18</td>\n",
       "      <td>78</td>\n",
       "      <td>यत्र योगेश्वरः कृष्णो यत्र पार्थो धनुर्धरः।\\n\\...</td>\n",
       "      <td>ఈ శ్లోకంతో, ఒక గంభీరమైన ప్రకటన ఇస్తూ భగవద్గీత ...</td>\n",
       "    </tr>\n",
       "  </tbody>\n",
       "</table>\n",
       "<p>694 rows × 4 columns</p>\n",
       "</div>"
      ],
      "text/plain": [
       "     Chapter  Verse                                              Sloke  \\\n",
       "0          1      1  धृतराष्ट्र उवाच\\n\\nधर्मक्षेत्रे कुरुक्षेत्रे स...   \n",
       "1          1      2  सञ्जय उवाच\\n\\nदृष्ट्वा तु पाण्डवानीकं व्यूढं द...   \n",
       "2          1      3  पश्यैतां पाण्डुपुत्राणामाचार्य महतीं चमूम्।\\n\\...   \n",
       "3          1      4  अत्र शूरा महेष्वासा भीमार्जुनसमा युधि।\\n\\nयुयु...   \n",
       "4          1      5  धृष्टकेतुश्चेकितानः काशिराजश्च वीर्यवान्।\\n\\nप...   \n",
       "..       ...    ...                                                ...   \n",
       "689       18     74  सञ्जय उवाचइत्यहं वासुदेवस्य पार्थस्य च महात्मन...   \n",
       "690       18     75  व्यासप्रसादाच्छ्रुतवानेतद्गुह्यमहं परम्।योगं य...   \n",
       "691       18     76  राजन्संस्मृत्य संस्मृत्य संवादमिममद्भुतम्।केशव...   \n",
       "692       18     77  तच्च संस्मृत्य संस्मृत्य रूपमत्यद्भुतं हरेः।\\n...   \n",
       "693       18     78  यत्र योगेश्वरः कृष्णो यत्र पार्थो धनुर्धरः।\\n\\...   \n",
       "\n",
       "                                            Commentary  \n",
       "0    ధృతరాష్ట్ర మహారాజు పుట్టుకతోనే గుడ్డి వాడే కాక...  \n",
       "1    తన పుత్రులు ఎలాగైనా యుద్ధం మొదలు పెడతారనే ధ్రు...  \n",
       "2    తన అస్త్రవిద్యా గురువు ద్రోణాచార్యుడికి గతంలో ...  \n",
       "3    రాబోయే పెను విపత్తు భయానికి, పాండవులు సమీకరించ...  \n",
       "4    రాబోయే పెను విపత్తు భయానికి, పాండవులు సమీకరించ...  \n",
       "..                                                 ...  \n",
       "689  ఈ విధంగా సంజయుడు, భగవద్ గీత అనే దివ్య ఉపదేశమున...  \n",
       "690  శ్రీ కృష్ణ ద్వైపాయన వ్యాసదేవుడు, ఆయననే మహర్షి ...  \n",
       "691  ఆధ్యాత్మిక అనుభవము అనేది సమస్త భౌతిక ఆనందాలని ...  \n",
       "692  భగవంతుని విశ్వ రూప దర్శన భాగ్యము అర్జునుడికి క...  \n",
       "693  ఈ శ్లోకంతో, ఒక గంభీరమైన ప్రకటన ఇస్తూ భగవద్గీత ...  \n",
       "\n",
       "[694 rows x 4 columns]"
      ]
     },
     "execution_count": 7,
     "metadata": {},
     "output_type": "execute_result"
    }
   ],
   "source": [
    "data=pd.read_csv('../telugu.csv')\n",
    "data"
   ]
  },
  {
   "cell_type": "code",
   "execution_count": 8,
   "id": "5d2c4ccc",
   "metadata": {},
   "outputs": [],
   "source": [
    "doc_words=[]\n",
    "for index in range(len(data)):\n",
    "    text=data.loc[index]['Commentary']\n",
    "    text = remove_special_characters(text)\n",
    "    words = text.split()\n",
    "    words = [word for word in words if word not in stopwords]\n",
    "    doc_words.append(words)"
   ]
  },
  {
   "cell_type": "code",
   "execution_count": 9,
   "id": "3882f348",
   "metadata": {},
   "outputs": [],
   "source": [
    "dictionary = corpora.Dictionary(doc_words)\n",
    "corpus = [dictionary.doc2bow(text) for text in doc_words]"
   ]
  },
  {
   "cell_type": "code",
   "execution_count": 10,
   "id": "949cee25",
   "metadata": {},
   "outputs": [],
   "source": [
    "num_topics = 30\n",
    "lsi=models.LsiModel(corpus,id2word=dictionary,num_topics=num_topics)"
   ]
  },
  {
   "cell_type": "code",
   "execution_count": 11,
   "id": "21aa7e4f",
   "metadata": {},
   "outputs": [],
   "source": [
    "lsi.save('lsi.model')"
   ]
  },
  {
   "cell_type": "code",
   "execution_count": 12,
   "id": "50c64453",
   "metadata": {},
   "outputs": [],
   "source": [
    "dictionary.save('dictionary')\n",
    "corpora.MmCorpus.serialize('corpus',corpus)"
   ]
  }
 ],
 "metadata": {
  "kernelspec": {
   "display_name": "Python 3 (ipykernel)",
   "language": "python",
   "name": "python3"
  },
  "language_info": {
   "codemirror_mode": {
    "name": "ipython",
    "version": 3
   },
   "file_extension": ".py",
   "mimetype": "text/x-python",
   "name": "python",
   "nbconvert_exporter": "python",
   "pygments_lexer": "ipython3",
   "version": "3.8.8"
  }
 },
 "nbformat": 4,
 "nbformat_minor": 5
}
