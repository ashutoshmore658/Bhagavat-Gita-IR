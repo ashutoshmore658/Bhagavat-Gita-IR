{
 "cells": [
  {
   "cell_type": "markdown",
   "id": "2aa117cd",
   "metadata": {},
   "source": [
    "Importing Libraries"
   ]
  },
  {
   "cell_type": "code",
   "execution_count": 1,
   "id": "9fb88673",
   "metadata": {},
   "outputs": [],
   "source": [
    "import pandas as pd\n",
    "from bs4 import BeautifulSoup\n",
    "import requests"
   ]
  },
  {
   "cell_type": "markdown",
   "id": "8630aad9",
   "metadata": {},
   "source": [
    "Chapters and Verse List"
   ]
  },
  {
   "cell_type": "code",
   "execution_count": 2,
   "id": "ecc45a73",
   "metadata": {},
   "outputs": [],
   "source": [
    "chapters={\n",
    "    1:47,\n",
    "    2:72,\n",
    "    3:43,\n",
    "    4:42,\n",
    "    5:29,\n",
    "    6:47,\n",
    "    7:30,\n",
    "    8:28,\n",
    "    9:34,\n",
    "    10:42,\n",
    "    11:55,\n",
    "    12:20,\n",
    "    13:35,\n",
    "    14:27,\n",
    "    15:20,\n",
    "    16:24,\n",
    "    17:28,\n",
    "    18:78\n",
    "}"
   ]
  },
  {
   "cell_type": "markdown",
   "id": "39be2fd7",
   "metadata": {},
   "source": [
    "Extracting Slokes"
   ]
  },
  {
   "cell_type": "code",
   "execution_count": 3,
   "id": "3c8f20b5",
   "metadata": {},
   "outputs": [],
   "source": [
    "total_slokes=[]\n",
    "for chapter in chapters:\n",
    "    for verse in range(1,chapters[chapter]+1):\n",
    "        sloke=[chapter,verse]\n",
    "        url='https://vedabase.io/en/library/bg/'+str(chapter)+'/'+str(verse)+'/'\n",
    "        r=requests.get(url)\n",
    "        soup = BeautifulSoup(r.content, 'html5lib')\n",
    "        content=soup.findAll('div',{'class':['r-devanagari','r-lang-en']})\n",
    "        if len(content)==0:\n",
    "            continue\n",
    "        sloke.append(content[0].text)\n",
    "        content=content[4:]\n",
    "        if len(content)==0:\n",
    "            continue\n",
    "        s=''\n",
    "        for i in content:\n",
    "            s=s+i.text\n",
    "        sloke.append(s)\n",
    "        total_slokes.append(sloke)\n",
    "        "
   ]
  },
  {
   "cell_type": "markdown",
   "id": "9b5153d8",
   "metadata": {},
   "source": [
    "Creating DataFrame"
   ]
  },
  {
   "cell_type": "code",
   "execution_count": 4,
   "id": "7bade2eb",
   "metadata": {},
   "outputs": [],
   "source": [
    "data=pd.DataFrame(total_slokes,columns=['Chapter','Verse','Sloke','Commentary'])"
   ]
  },
  {
   "cell_type": "code",
   "execution_count": 5,
   "id": "3ff3f199",
   "metadata": {},
   "outputs": [],
   "source": [
    "data.to_csv('English.csv',index=False)"
   ]
  }
 ],
 "metadata": {
  "kernelspec": {
   "display_name": "Python 3 (ipykernel)",
   "language": "python",
   "name": "python3"
  },
  "language_info": {
   "codemirror_mode": {
    "name": "ipython",
    "version": 3
   },
   "file_extension": ".py",
   "mimetype": "text/x-python",
   "name": "python",
   "nbconvert_exporter": "python",
   "pygments_lexer": "ipython3",
   "version": "3.9.7"
  }
 },
 "nbformat": 4,
 "nbformat_minor": 5
}
