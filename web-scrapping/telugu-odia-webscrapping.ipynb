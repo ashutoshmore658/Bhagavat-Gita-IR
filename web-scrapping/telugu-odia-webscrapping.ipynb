{
 "cells": [
  {
   "cell_type": "code",
   "execution_count": 1,
   "metadata": {
    "id": "KV_VM9JLkTic"
   },
   "outputs": [],
   "source": [
    "import pandas as pd\n",
    "from bs4 import BeautifulSoup\n",
    "import requests\n",
    "import pandas as pd"
   ]
  },
  {
   "cell_type": "code",
   "execution_count": 2,
   "metadata": {
    "id": "i4JbxCtAktWS"
   },
   "outputs": [],
   "source": [
    "chapters={\n",
    "    1:47,\n",
    "    2:72,\n",
    "    3:43,\n",
    "    4:42,\n",
    "    5:29,\n",
    "    6:47,\n",
    "    7:30,\n",
    "    8:28,\n",
    "    9:34,\n",
    "    10:42,\n",
    "    11:55,\n",
    "    12:20,\n",
    "    13:35,\n",
    "    14:27,\n",
    "    15:20,\n",
    "    16:24,\n",
    "    17:28,\n",
    "    18:78\n",
    "}"
   ]
  },
  {
   "cell_type": "code",
   "execution_count": 3,
   "metadata": {
    "id": "yok0_pgjrdK0"
   },
   "outputs": [],
   "source": [
    "sloke_table=pd.read_csv('sloke.csv')"
   ]
  },
  {
   "cell_type": "markdown",
   "metadata": {
    "id": "aHWmQOCWqleR"
   },
   "source": [
    "Telugu"
   ]
  },
  {
   "cell_type": "code",
   "execution_count": 4,
   "metadata": {
    "colab": {
     "base_uri": "https://localhost:8080/"
    },
    "id": "-rJsaZPxmsMa",
    "outputId": "05e2cab1-72ad-457f-a7f4-ad31108d63e9"
   },
   "outputs": [
    {
     "name": "stdout",
     "output_type": "stream",
     "text": [
      "1\n",
      "2\n",
      "3\n",
      "4\n",
      "5\n",
      "6\n",
      "7\n",
      "8\n",
      "9\n",
      "10\n",
      "11\n",
      "12\n",
      "13\n",
      "14\n",
      "15\n",
      "16\n",
      "17\n",
      "18\n"
     ]
    }
   ],
   "source": [
    "total_slokes=[]\n",
    "for chapter in chapters:\n",
    "    print(chapter)\n",
    "    for verse in range(1,chapters[chapter]+1):\n",
    "        sloke=[chapter,verse]\n",
    "        url='https://www.holy-bhagavad-gita.org/chapter/'+str(chapter)+'/verse/'+str(verse)+'/te'\n",
    "        r=requests.get(url)\n",
    "        soup = BeautifulSoup(r.content, 'html5lib')\n",
    "        content=soup.findAll('div',{'id':'commentary'})\n",
    "        if len(content)==0:\n",
    "            continue\n",
    "        text=content[0].text.strip(\"\\n\").strip(\" \").strip(\"\\n\")\n",
    "        if len(text)<1:\n",
    "            continue\n",
    "        sloke.append(text)\n",
    "        total_slokes.append(sloke)"
   ]
  },
  {
   "cell_type": "code",
   "execution_count": 5,
   "metadata": {
    "id": "A5FKefKnoKOG"
   },
   "outputs": [],
   "source": [
    "telugu=pd.DataFrame(total_slokes,columns=['Chapter','Verse','Commentary'])"
   ]
  },
  {
   "cell_type": "code",
   "execution_count": 6,
   "metadata": {
    "id": "Ze5zWDfLqMLq"
   },
   "outputs": [],
   "source": [
    "sloke_table.merge(telugu,on=['Chapter','Verse']).to_csv('telugu.csv',index=False)"
   ]
  },
  {
   "cell_type": "markdown",
   "metadata": {
    "id": "qGLAcpoEs-r9"
   },
   "source": [
    "Odia"
   ]
  },
  {
   "cell_type": "code",
   "execution_count": 7,
   "metadata": {
    "colab": {
     "base_uri": "https://localhost:8080/"
    },
    "id": "sIFCqhxOsrBh",
    "outputId": "4f2af264-5c4c-4334-d868-c9223c7e2171"
   },
   "outputs": [
    {
     "name": "stdout",
     "output_type": "stream",
     "text": [
      "1\n",
      "2\n",
      "3\n",
      "4\n",
      "5\n",
      "6\n",
      "7\n",
      "8\n",
      "9\n",
      "10\n",
      "11\n",
      "12\n",
      "13\n",
      "14\n",
      "15\n",
      "16\n",
      "17\n",
      "18\n"
     ]
    }
   ],
   "source": [
    "total_slokes=[]\n",
    "for chapter in chapters:\n",
    "    print(chapter)\n",
    "    for verse in range(1,chapters[chapter]+1):\n",
    "        sloke=[chapter,verse]\n",
    "        url='https://www.holy-bhagavad-gita.org/chapter/'+str(chapter)+'/verse/'+str(verse)+'/or'\n",
    "        r=requests.get(url)\n",
    "        soup = BeautifulSoup(r.content, 'html5lib')\n",
    "        content=soup.findAll('div',{'id':'commentary'})\n",
    "        if len(content)==0:\n",
    "            continue\n",
    "        text=content[0].text.strip(\"\\n\").strip(\" \").strip(\"\\n\")\n",
    "        if len(text)<1:\n",
    "            continue\n",
    "        sloke.append(text)\n",
    "        total_slokes.append(sloke)"
   ]
  },
  {
   "cell_type": "code",
   "execution_count": 8,
   "metadata": {
    "id": "qrnRAT-YtMNY"
   },
   "outputs": [],
   "source": [
    "odia=pd.DataFrame(total_slokes,columns=['Chapter','Verse','Commentary'])"
   ]
  },
  {
   "cell_type": "code",
   "execution_count": 9,
   "metadata": {
    "id": "Sj0NRoC8trjM"
   },
   "outputs": [],
   "source": [
    "sloke_table.merge(odia,on=['Chapter','Verse']).to_csv('odia.csv',index=False)"
   ]
  }
 ],
 "metadata": {
  "colab": {
   "collapsed_sections": [],
   "name": "webscrapping.ipynb",
   "provenance": []
  },
  "kernelspec": {
   "display_name": "Python 3 (ipykernel)",
   "language": "python",
   "name": "python3"
  },
  "language_info": {
   "codemirror_mode": {
    "name": "ipython",
    "version": 3
   },
   "file_extension": ".py",
   "mimetype": "text/x-python",
   "name": "python",
   "nbconvert_exporter": "python",
   "pygments_lexer": "ipython3",
   "version": "3.9.7"
  }
 },
 "nbformat": 4,
 "nbformat_minor": 1
}
