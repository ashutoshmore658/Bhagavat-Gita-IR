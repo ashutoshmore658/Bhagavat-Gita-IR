{
 "cells": [
  {
   "cell_type": "code",
   "execution_count": 1,
   "id": "069bb8c6",
   "metadata": {},
   "outputs": [],
   "source": [
    "import pandas as pd\n",
    "from bs4 import BeautifulSoup\n",
    "import requests\n",
    "import pandas as pd"
   ]
  },
  {
   "cell_type": "code",
   "execution_count": 2,
   "id": "af89e05e",
   "metadata": {},
   "outputs": [],
   "source": [
    "chapters={\n",
    "    1:47,\n",
    "    2:72,\n",
    "    3:43,\n",
    "    4:42,\n",
    "    5:29,\n",
    "    6:47,\n",
    "    7:30,\n",
    "    8:28,\n",
    "    9:34,\n",
    "    10:42,\n",
    "    11:55,\n",
    "    12:20,\n",
    "    13:35,\n",
    "    14:27,\n",
    "    15:20,\n",
    "    16:24,\n",
    "    17:28,\n",
    "    18:78\n",
    "}"
   ]
  },
  {
   "cell_type": "code",
   "execution_count": 3,
   "id": "cc10349c",
   "metadata": {},
   "outputs": [],
   "source": [
    "sloke_table=pd.read_csv('sloke.csv')"
   ]
  },
  {
   "cell_type": "code",
   "execution_count": 4,
   "id": "3b8fd6d1",
   "metadata": {},
   "outputs": [
    {
     "name": "stdout",
     "output_type": "stream",
     "text": [
      "1\n",
      "2\n",
      "3\n",
      "4\n",
      "5\n",
      "6\n",
      "7\n",
      "8\n",
      "9\n",
      "10\n",
      "11\n",
      "12\n",
      "13\n",
      "14\n",
      "15\n",
      "16\n",
      "17\n",
      "18\n"
     ]
    }
   ],
   "source": [
    "total_slokes=[]\n",
    "for chapter in chapters:\n",
    "    print(chapter)\n",
    "    for verse in range(1,chapters[chapter]+1):\n",
    "        sloke=[chapter,verse]\n",
    "        url='https://www.holy-bhagavad-gita.org/chapter/'+str(chapter)+'/verse/'+str(verse)+'/hi'\n",
    "        r=requests.get(url)\n",
    "        soup = BeautifulSoup(r.content, 'html5lib')\n",
    "        content=soup.findAll('div',{'id':'commentary'})\n",
    "        if len(content)==0:\n",
    "            continue\n",
    "        text=content[0].text.strip(\"\\n\").strip(\" \").strip(\"\\n\")\n",
    "        if len(text)<1:\n",
    "            continue\n",
    "        sloke.append(text)\n",
    "        total_slokes.append(sloke)"
   ]
  },
  {
   "cell_type": "code",
   "execution_count": 12,
   "id": "c68a20c0",
   "metadata": {},
   "outputs": [],
   "source": [
    "del total_slokes[484]\n",
    "hindi=pd.DataFrame(total_slokes,columns=['Chapter','Verse','Commentary'])\n",
    "sloke_table.merge(hindi,on=['Chapter','Verse']).to_csv('hindi.csv',index=False)"
   ]
  }
 ],
 "metadata": {
  "kernelspec": {
   "display_name": "Python 3 (ipykernel)",
   "language": "python",
   "name": "python3"
  },
  "language_info": {
   "codemirror_mode": {
    "name": "ipython",
    "version": 3
   },
   "file_extension": ".py",
   "mimetype": "text/x-python",
   "name": "python",
   "nbconvert_exporter": "python",
   "pygments_lexer": "ipython3",
   "version": "3.9.7"
  }
 },
 "nbformat": 4,
 "nbformat_minor": 5
}
