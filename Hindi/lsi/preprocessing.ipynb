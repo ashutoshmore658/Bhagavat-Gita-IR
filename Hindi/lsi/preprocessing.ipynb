{
 "cells": [
  {
   "cell_type": "markdown",
   "id": "6ce4f954",
   "metadata": {},
   "source": [
    "# Libraries"
   ]
  },
  {
   "cell_type": "code",
   "execution_count": 1,
   "id": "2126a19a",
   "metadata": {},
   "outputs": [],
   "source": [
    "from gensim import corpora, models\n",
    "import re\n",
    "import numpy as np\n",
    "import pandas as pd\n",
    "import math\n",
    "import pickle"
   ]
  },
  {
   "cell_type": "code",
   "execution_count": 2,
   "id": "644d85ca",
   "metadata": {},
   "outputs": [],
   "source": [
    "stopwords=[\"अंदर\",\"अत\",\"अदि\",\"अप\",\"अपना\",\"अपनि\",\"अपनी\",\"अपने\",\"अभि\",\"अभी\",\"आदि\",\"आप\",\"इंहिं\",\"इंहें\",\"इंहों\",\"इतयादि\",\"इत्यादि\",\"इन\",\"इनका\",\"इन्हीं\",\"इन्हें\",\"इन्हों\",\"इस\",\"इसका\",\"इसकि\",\"इसकी\",\"इसके\",\"इसमें\",\"इसि\",\"इसी\",\"इसे\",\"उंहिं\",\"उंहें\",\"उंहों\",\"उन\",\"उनका\",\"उनकि\",\"उनकी\",\"उनके\",\"उनको\",\"उन्हीं\",\"उन्हें\",\"उन्हों\",\"उस\",\"उसके\",\"उसि\",\"उसी\",\"उसे\",\"एक\",\"एवं\",\"एस\",\"एसे\",\"ऐसे\",\"ओर\",\"और\",\"कइ\",\"कई\",\"कर\",\"करता\",\"करते\",\"करना\",\"करने\",\"करें\",\"कहते\",\"कहा\",\"का\",\"काफि\",\"काफ़ी\",\"कि\",\"किंहें\",\"किंहों\",\"कितना\",\"किन्हें\",\"किन्हों\",\"किया\",\"किर\",\"किस\",\"किसि\",\"किसी\",\"किसे\",\"की\",\"कुछ\",\"कुल\",\"के\",\"को\",\"कोइ\",\"कोई\",\"कोन\",\"कोनसा\",\"कौन\",\"कौनसा\",\"गया\",\"घर\",\"जब\",\"जहाँ\",\"जहां\",\"जा\",\"जिंहें\",\"जिंहों\",\"जितना\",\"जिधर\",\"जिन\",\"जिन्हें\",\"जिन्हों\",\"जिस\",\"जिसे\",\"जीधर\",\"जेसा\",\"जेसे\",\"जैसा\",\"जैसे\",\"जो\",\"तक\",\"तब\",\"तरह\",\"तिंहें\",\"तिंहों\",\"तिन\",\"तिन्हें\",\"तिन्हों\",\"तिस\",\"तिसे\",\"तो\",\"था\",\"थि\",\"थी\",\"थे\",\"दबारा\",\"दवारा\",\"दिया\",\"दुसरा\",\"दुसरे\",\"दूसरे\",\"दो\",\"द्वारा\",\"न\",\"नहिं\",\"नहीं\",\"ना\",\"निचे\",\"निहायत\",\"नीचे\",\"ने\",\"पर\",\"पहले\",\"पुरा\",\"पूरा\",\"पे\",\"फिर\",\"बनि\",\"बनी\",\"बहि\",\"बही\",\"बहुत\",\"बाद\",\"बाला\",\"बिलकुल\",\"भि\",\"भितर\",\"भी\",\"भीतर\",\"मगर\",\"मानो\",\"मे\",\"में\",\"यदि\",\"यह\",\"यहाँ\",\"यहां\",\"यहि\",\"यही\",\"या\",\"यिह\",\"ये\",\"रखें\",\"रवासा\",\"रहा\",\"रहे\",\"ऱ्वासा\",\"लिए\",\"लिये\",\"लेकिन\",\"व\",\"वगेरह\",\"वरग\",\"वर्ग\",\"वह\",\"वहाँ\",\"वहां\",\"वहिं\",\"वहीं\",\"वाले\",\"वुह\",\"वे\",\"वग़ैरह\",\"संग\",\"सकता\",\"सकते\",\"सबसे\",\"सभि\",\"सभी\",\"साथ\",\"साबुत\",\"साभ\",\"सारा\",\"से\",\"सो\",\"हि\",\"ही\",\"हुअ\",\"हुआ\",\"हुइ\",\"हुई\",\"हुए\",\"हे\",\"हें\",\"है\",\"हैं\",\"हो\",\"होता\",\"होति\",\"होती\",\"होते\",\"होना\",\"होने\"]"
   ]
  },
  {
   "cell_type": "code",
   "execution_count": 3,
   "id": "8a902b29",
   "metadata": {},
   "outputs": [],
   "source": [
    "alphabets=['ऄ','अ','आ','इ','ई','उ','ऊ','ऋ','ऌ','ऍ','ऎ','ए','ऐ','ऑ','ऒ','ओ','औ','क','ख','ग','घ','ङ','च','छ','ज','झ','ञ','ट',\n",
    "'ठ','ड','ढ','ण','त','थ','द','ध','न','ऩ','प','फ','ब','भ','म','य','र','ऱ','ल','ळ','ऴ','व','श','ष','स','ह']\n",
    "\n",
    "matra=['ऀ','ँ','ं','ः','ऺ','ऻ','़','ा','ि','ी','ु','ू','ृ','ॄ','ॅ','ॆ','े','ै','ॉ','ॊ','ो','ौ','्','ॎ','ॏ','ॕ','ॖ','ॗ']"
   ]
  },
  {
   "cell_type": "code",
   "execution_count": 4,
   "id": "981af9f5",
   "metadata": {},
   "outputs": [],
   "source": [
    "def remove_special_characters(text):\n",
    "    string=''\n",
    "    for i in text:\n",
    "        if i in alphabets+matra:\n",
    "            string=string+i\n",
    "        else:\n",
    "            string=string+\" \"\n",
    "    return \" \".join(string.split())"
   ]
  },
  {
   "cell_type": "code",
   "execution_count": 5,
   "id": "6883809d",
   "metadata": {},
   "outputs": [],
   "source": [
    "data=pd.read_csv('../hindi.csv')"
   ]
  },
  {
   "cell_type": "code",
   "execution_count": 6,
   "id": "5d2c4ccc",
   "metadata": {},
   "outputs": [],
   "source": [
    "doc_words=[]\n",
    "for index in range(len(data)):\n",
    "    text=data.loc[index]['Commentary']\n",
    "    text = remove_special_characters(text)\n",
    "    words = text.split()\n",
    "    words = [word for word in words if word not in stopwords]\n",
    "    doc_words.append(words)"
   ]
  },
  {
   "cell_type": "code",
   "execution_count": 7,
   "id": "24c99ac6",
   "metadata": {},
   "outputs": [],
   "source": [
    "dictionary = corpora.Dictionary(doc_words) #Assign Id for all words in the corpus\n",
    "corpus = [dictionary.doc2bow(document) for document in doc_words] #Produce BagOfWords for each document"
   ]
  },
  {
   "cell_type": "code",
   "execution_count": 8,
   "id": "d241f47b",
   "metadata": {},
   "outputs": [],
   "source": [
    "lsi = models.LsiModel(corpus,id2word=dictionary,num_topics=30)"
   ]
  },
  {
   "cell_type": "code",
   "execution_count": 9,
   "id": "dba35e07",
   "metadata": {},
   "outputs": [],
   "source": [
    "lsi.save('lsi.model')"
   ]
  },
  {
   "cell_type": "code",
   "execution_count": 10,
   "id": "ecb46f71",
   "metadata": {},
   "outputs": [],
   "source": [
    "dictionary.save('dictionary')\n",
    "corpora.MmCorpus.serialize('corpus', corpus)"
   ]
  }
 ],
 "metadata": {
  "kernelspec": {
   "display_name": "Python 3 (ipykernel)",
   "language": "python",
   "name": "python3"
  },
  "language_info": {
   "codemirror_mode": {
    "name": "ipython",
    "version": 3
   },
   "file_extension": ".py",
   "mimetype": "text/x-python",
   "name": "python",
   "nbconvert_exporter": "python",
   "pygments_lexer": "ipython3",
   "version": "3.9.7"
  }
 },
 "nbformat": 4,
 "nbformat_minor": 5
}
