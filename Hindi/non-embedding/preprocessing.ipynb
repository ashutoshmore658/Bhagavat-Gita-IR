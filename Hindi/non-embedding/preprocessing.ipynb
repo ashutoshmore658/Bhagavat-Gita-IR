{
 "cells": [
  {
   "cell_type": "code",
   "execution_count": 1,
   "id": "2126a19a",
   "metadata": {},
   "outputs": [],
   "source": [
    "import re\n",
    "import numpy as np\n",
    "import pandas as pd\n",
    "import math\n",
    "import pickle\n",
    "from collections import Counter"
   ]
  },
  {
   "cell_type": "code",
   "execution_count": 2,
   "id": "be9ba80c",
   "metadata": {},
   "outputs": [],
   "source": [
    "stopwords=[\"अंदर\",\"अत\",\"अदि\",\"अप\",\"अपना\",\"अपनि\",\"अपनी\",\"अपने\",\"अभि\",\"अभी\",\"आदि\",\"आप\",\"इंहिं\",\"इंहें\",\"इंहों\",\"इतयादि\",\"इत्यादि\",\"इन\",\"इनका\",\"इन्हीं\",\"इन्हें\",\"इन्हों\",\"इस\",\"इसका\",\"इसकि\",\"इसकी\",\"इसके\",\"इसमें\",\"इसि\",\"इसी\",\"इसे\",\"उंहिं\",\"उंहें\",\"उंहों\",\"उन\",\"उनका\",\"उनकि\",\"उनकी\",\"उनके\",\"उनको\",\"उन्हीं\",\"उन्हें\",\"उन्हों\",\"उस\",\"उसके\",\"उसि\",\"उसी\",\"उसे\",\"एक\",\"एवं\",\"एस\",\"एसे\",\"ऐसे\",\"ओर\",\"और\",\"कइ\",\"कई\",\"कर\",\"करता\",\"करते\",\"करना\",\"करने\",\"करें\",\"कहते\",\"कहा\",\"का\",\"काफि\",\"काफ़ी\",\"कि\",\"किंहें\",\"किंहों\",\"कितना\",\"किन्हें\",\"किन्हों\",\"किया\",\"किर\",\"किस\",\"किसि\",\"किसी\",\"किसे\",\"की\",\"कुछ\",\"कुल\",\"के\",\"को\",\"कोइ\",\"कोई\",\"कोन\",\"कोनसा\",\"कौन\",\"कौनसा\",\"गया\",\"घर\",\"जब\",\"जहाँ\",\"जहां\",\"जा\",\"जिंहें\",\"जिंहों\",\"जितना\",\"जिधर\",\"जिन\",\"जिन्हें\",\"जिन्हों\",\"जिस\",\"जिसे\",\"जीधर\",\"जेसा\",\"जेसे\",\"जैसा\",\"जैसे\",\"जो\",\"तक\",\"तब\",\"तरह\",\"तिंहें\",\"तिंहों\",\"तिन\",\"तिन्हें\",\"तिन्हों\",\"तिस\",\"तिसे\",\"तो\",\"था\",\"थि\",\"थी\",\"थे\",\"दबारा\",\"दवारा\",\"दिया\",\"दुसरा\",\"दुसरे\",\"दूसरे\",\"दो\",\"द्वारा\",\"न\",\"नहिं\",\"नहीं\",\"ना\",\"निचे\",\"निहायत\",\"नीचे\",\"ने\",\"पर\",\"पहले\",\"पुरा\",\"पूरा\",\"पे\",\"फिर\",\"बनि\",\"बनी\",\"बहि\",\"बही\",\"बहुत\",\"बाद\",\"बाला\",\"बिलकुल\",\"भि\",\"भितर\",\"भी\",\"भीतर\",\"मगर\",\"मानो\",\"मे\",\"में\",\"यदि\",\"यह\",\"यहाँ\",\"यहां\",\"यहि\",\"यही\",\"या\",\"यिह\",\"ये\",\"रखें\",\"रवासा\",\"रहा\",\"रहे\",\"ऱ्वासा\",\"लिए\",\"लिये\",\"लेकिन\",\"व\",\"वगेरह\",\"वरग\",\"वर्ग\",\"वह\",\"वहाँ\",\"वहां\",\"वहिं\",\"वहीं\",\"वाले\",\"वुह\",\"वे\",\"वग़ैरह\",\"संग\",\"सकता\",\"सकते\",\"सबसे\",\"सभि\",\"सभी\",\"साथ\",\"साबुत\",\"साभ\",\"सारा\",\"से\",\"सो\",\"हि\",\"ही\",\"हुअ\",\"हुआ\",\"हुइ\",\"हुई\",\"हुए\",\"हे\",\"हें\",\"है\",\"हैं\",\"हो\",\"होता\",\"होति\",\"होती\",\"होते\",\"होना\",\"होने\"]"
   ]
  },
  {
   "cell_type": "code",
   "execution_count": 3,
   "id": "f3e96e8f",
   "metadata": {},
   "outputs": [],
   "source": [
    "alphabets=['ऄ','अ','आ','इ','ई','उ','ऊ','ऋ','ऌ','ऍ','ऎ','ए','ऐ','ऑ','ऒ','ओ','औ','क','ख','ग','घ','ङ','च','छ','ज','झ','ञ','ट',\n",
    "'ठ','ड','ढ','ण','त','थ','द','ध','न','ऩ','प','फ','ब','भ','म','य','र','ऱ','ल','ळ','ऴ','व','श','ष','स','ह']\n",
    "\n",
    "matra=['ऀ','ँ','ं','ः','ऺ','ऻ','़','ा','ि','ी','ु','ू','ृ','ॄ','ॅ','ॆ','े','ै','ॉ','ॊ','ो','ौ','्','ॎ','ॏ','ॕ','ॖ','ॗ']"
   ]
  },
  {
   "cell_type": "code",
   "execution_count": 4,
   "id": "644d85ca",
   "metadata": {},
   "outputs": [],
   "source": [
    "def finding_all_unique_words_and_freq(words):\n",
    "    words_unique = []\n",
    "    word_freq = {}\n",
    "    for word in words:\n",
    "        if word not in words_unique:\n",
    "            words_unique.append(word)\n",
    "    for word in words_unique:\n",
    "        word_freq[word] = words.count(word)\n",
    "    return word_freq\n",
    "def finding_freq_of_word_in_doc(word,words):\n",
    "    freq = words.count(word)\n",
    "        \n",
    "def remove_special_characters(text):\n",
    "    string=''\n",
    "    for i in text:\n",
    "        if i in alphabets+matra:\n",
    "            string=string+i\n",
    "        else:\n",
    "            string=string+\" \"\n",
    "    return \" \".join(string.split())"
   ]
  },
  {
   "cell_type": "code",
   "execution_count": 5,
   "id": "6883809d",
   "metadata": {},
   "outputs": [],
   "source": [
    "data=pd.read_csv('../hindi.csv')"
   ]
  },
  {
   "cell_type": "code",
   "execution_count": 6,
   "id": "5d2c4ccc",
   "metadata": {},
   "outputs": [],
   "source": [
    "doc_words=[]\n",
    "dict_global = {}\n",
    "idx = 0\n",
    "files_with_index = {}\n",
    "for index in range(len(data)):\n",
    "    fname=str(data.loc[index]['Chapter'])+\".\"+str(data.loc[index]['Verse'])\n",
    "    sloka=data.loc[index]['Sloke']\n",
    "    text=data.loc[index]['Commentary']\n",
    "    text = remove_special_characters(text)\n",
    "    words = text.split()\n",
    "    words = [word for word in words if word not in stopwords]\n",
    "    doc_words.append(words)\n",
    "    dict_global.update(finding_all_unique_words_and_freq(words))\n",
    "    files_with_index[idx] = fname\n",
    "    idx = idx + 1\n",
    "    \n",
    "unique_words_all = set(dict_global.keys())\n",
    "    \n"
   ]
  },
  {
   "cell_type": "code",
   "execution_count": 7,
   "id": "e961c147",
   "metadata": {},
   "outputs": [],
   "source": [
    "tf={}\n",
    "df={}\n",
    "for i in unique_words_all:\n",
    "    tf[i]={}\n",
    "    df[i]=0   "
   ]
  },
  {
   "cell_type": "code",
   "execution_count": 8,
   "id": "e1f3540a",
   "metadata": {},
   "outputs": [],
   "source": [
    "idx=0\n",
    "Ltot=0\n",
    "Ld={}\n",
    "for index in range(len(data)):\n",
    "    text=data.loc[index]['Commentary']\n",
    "    text = remove_special_characters(text)\n",
    "    words = text.split()\n",
    "    words = [word for word in words if word not in stopwords]\n",
    "    Ld[idx]=len(words) #len of current doc\n",
    "    Ltot=Ltot+len(words) #sum of lens of all the docs\n",
    "    counter=Counter(words)\n",
    "    for i in counter.keys():\n",
    "        df[i]=df[i]+1\n",
    "        tf[i][idx]=counter[i]   \n",
    "    idx=idx+1"
   ]
  },
  {
   "cell_type": "code",
   "execution_count": 9,
   "id": "0e5e0da6",
   "metadata": {},
   "outputs": [],
   "source": [
    "doc_norm={}\n",
    "idx=0\n",
    "for i in doc_words:\n",
    "    l2=0\n",
    "    for j in set(i):\n",
    "        l2+=(i.count(j)*math.log(len(files_with_index)/df[j]))**2\n",
    "    doc_norm[idx]=(math.sqrt(l2))\n",
    "    idx+=1"
   ]
  },
  {
   "cell_type": "code",
   "execution_count": 10,
   "id": "d0ca84dd",
   "metadata": {},
   "outputs": [],
   "source": [
    "with open('pickles/posting_list.pkl','wb') as file:\n",
    "    pickle.dump(tf,file)\n",
    "    file.close()\n",
    "    \n",
    "with open('pickles/df.pkl','wb') as file:\n",
    "    pickle.dump(df,file)\n",
    "    file.close()\n",
    "    \n",
    "with open('pickles/doc_len.pkl','wb') as file:\n",
    "    pickle.dump(Ld,file)\n",
    "    file.close()"
   ]
  },
  {
   "cell_type": "code",
   "execution_count": 11,
   "id": "83acaf86",
   "metadata": {},
   "outputs": [],
   "source": [
    "a_file = open(\"pickles/file_idx.pkl\", \"wb\")\n",
    "pickle.dump(files_with_index, a_file)\n",
    "a_file.close()\n",
    "a_file = open(\"pickles/unique_words_all.pkl\", \"wb\")\n",
    "pickle.dump(unique_words_all , a_file)\n",
    "a_file.close()"
   ]
  },
  {
   "cell_type": "code",
   "execution_count": 12,
   "id": "77f18c53",
   "metadata": {},
   "outputs": [],
   "source": [
    "with open('pickles/doc_words.pkl','wb') as file:\n",
    "    pickle.dump(doc_words,file)\n",
    "    file.close()\n",
    "    \n",
    "with open('pickles/doc_norm.pkl','wb') as file:\n",
    "    pickle.dump(doc_norm,file)\n",
    "    file.close()"
   ]
  }
 ],
 "metadata": {
  "kernelspec": {
   "display_name": "Python 3 (ipykernel)",
   "language": "python",
   "name": "python3"
  },
  "language_info": {
   "codemirror_mode": {
    "name": "ipython",
    "version": 3
   },
   "file_extension": ".py",
   "mimetype": "text/x-python",
   "name": "python",
   "nbconvert_exporter": "python",
   "pygments_lexer": "ipython3",
   "version": "3.9.7"
  }
 },
 "nbformat": 4,
 "nbformat_minor": 5
}
