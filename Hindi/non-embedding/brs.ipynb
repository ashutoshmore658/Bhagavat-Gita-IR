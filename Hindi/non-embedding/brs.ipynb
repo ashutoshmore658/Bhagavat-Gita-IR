{
 "cells": [
  {
   "cell_type": "code",
   "execution_count": 1,
   "id": "6cab9bd7",
   "metadata": {},
   "outputs": [],
   "source": [
    "import re\n",
    "import numpy as np\n",
    "import pandas as pd\n",
    "import math\n",
    "import pickle\n",
    "from collections import Counter"
   ]
  },
  {
   "cell_type": "code",
   "execution_count": 2,
   "id": "eb7123ef",
   "metadata": {},
   "outputs": [],
   "source": [
    "stopwords=[\"अंदर\",\"अत\",\"अदि\",\"अप\",\"अपना\",\"अपनि\",\"अपनी\",\"अपने\",\"अभि\",\"अभी\",\"आदि\",\"आप\",\"इंहिं\",\"इंहें\",\"इंहों\",\"इतयादि\",\"इत्यादि\",\"इन\",\"इनका\",\"इन्हीं\",\"इन्हें\",\"इन्हों\",\"इस\",\"इसका\",\"इसकि\",\"इसकी\",\"इसके\",\"इसमें\",\"इसि\",\"इसी\",\"इसे\",\"उंहिं\",\"उंहें\",\"उंहों\",\"उन\",\"उनका\",\"उनकि\",\"उनकी\",\"उनके\",\"उनको\",\"उन्हीं\",\"उन्हें\",\"उन्हों\",\"उस\",\"उसके\",\"उसि\",\"उसी\",\"उसे\",\"एक\",\"एवं\",\"एस\",\"एसे\",\"ऐसे\",\"ओर\",\"और\",\"कइ\",\"कई\",\"कर\",\"करता\",\"करते\",\"करना\",\"करने\",\"करें\",\"कहते\",\"कहा\",\"का\",\"काफि\",\"काफ़ी\",\"कि\",\"किंहें\",\"किंहों\",\"कितना\",\"किन्हें\",\"किन्हों\",\"किया\",\"किर\",\"किस\",\"किसि\",\"किसी\",\"किसे\",\"की\",\"कुछ\",\"कुल\",\"के\",\"को\",\"कोइ\",\"कोई\",\"कोन\",\"कोनसा\",\"कौन\",\"कौनसा\",\"गया\",\"घर\",\"जब\",\"जहाँ\",\"जहां\",\"जा\",\"जिंहें\",\"जिंहों\",\"जितना\",\"जिधर\",\"जिन\",\"जिन्हें\",\"जिन्हों\",\"जिस\",\"जिसे\",\"जीधर\",\"जेसा\",\"जेसे\",\"जैसा\",\"जैसे\",\"जो\",\"तक\",\"तब\",\"तरह\",\"तिंहें\",\"तिंहों\",\"तिन\",\"तिन्हें\",\"तिन्हों\",\"तिस\",\"तिसे\",\"तो\",\"था\",\"थि\",\"थी\",\"थे\",\"दबारा\",\"दवारा\",\"दिया\",\"दुसरा\",\"दुसरे\",\"दूसरे\",\"दो\",\"द्वारा\",\"न\",\"नहिं\",\"नहीं\",\"ना\",\"निचे\",\"निहायत\",\"नीचे\",\"ने\",\"पर\",\"पहले\",\"पुरा\",\"पूरा\",\"पे\",\"फिर\",\"बनि\",\"बनी\",\"बहि\",\"बही\",\"बहुत\",\"बाद\",\"बाला\",\"बिलकुल\",\"भि\",\"भितर\",\"भी\",\"भीतर\",\"मगर\",\"मानो\",\"मे\",\"में\",\"यदि\",\"यह\",\"यहाँ\",\"यहां\",\"यहि\",\"यही\",\"या\",\"यिह\",\"ये\",\"रखें\",\"रवासा\",\"रहा\",\"रहे\",\"ऱ्वासा\",\"लिए\",\"लिये\",\"लेकिन\",\"व\",\"वगेरह\",\"वरग\",\"वर्ग\",\"वह\",\"वहाँ\",\"वहां\",\"वहिं\",\"वहीं\",\"वाले\",\"वुह\",\"वे\",\"वग़ैरह\",\"संग\",\"सकता\",\"सकते\",\"सबसे\",\"सभि\",\"सभी\",\"साथ\",\"साबुत\",\"साभ\",\"सारा\",\"से\",\"सो\",\"हि\",\"ही\",\"हुअ\",\"हुआ\",\"हुइ\",\"हुई\",\"हुए\",\"हे\",\"हें\",\"है\",\"हैं\",\"हो\",\"होता\",\"होति\",\"होती\",\"होते\",\"होना\",\"होने\"]"
   ]
  },
  {
   "cell_type": "code",
   "execution_count": 3,
   "id": "59e4bc46",
   "metadata": {},
   "outputs": [],
   "source": [
    "alphabets=['ऄ','अ','आ','इ','ई','उ','ऊ','ऋ','ऌ','ऍ','ऎ','ए','ऐ','ऑ','ऒ','ओ','औ','क','ख','ग','घ','ङ','च','छ','ज','झ','ञ','ट',\n",
    "'ठ','ड','ढ','ण','त','थ','द','ध','न','ऩ','प','फ','ब','भ','म','य','र','ऱ','ल','ळ','ऴ','व','श','ष','स','ह']\n",
    "\n",
    "matra=['ऀ','ँ','ं','ः','ऺ','ऻ','़','ा','ि','ी','ु','ू','ृ','ॄ','ॅ','ॆ','े','ै','ॉ','ॊ','ो','ौ','्','ॎ','ॏ','ॕ','ॖ','ॗ']"
   ]
  },
  {
   "cell_type": "code",
   "execution_count": 4,
   "id": "a043bb1d",
   "metadata": {},
   "outputs": [],
   "source": [
    "temp=open('pickles/posting_list.pkl',\"rb\")\n",
    "posting_lists=pickle.load(temp)\n",
    "\n",
    "temp=open('pickles/file_idx.pkl','rb')\n",
    "file_index=pickle.load(temp)"
   ]
  },
  {
   "cell_type": "code",
   "execution_count": 5,
   "id": "36d65e26",
   "metadata": {},
   "outputs": [],
   "source": [
    "unique_words=set(posting_lists.keys())"
   ]
  },
  {
   "cell_type": "code",
   "execution_count": 6,
   "id": "f63cb5e8",
   "metadata": {},
   "outputs": [],
   "source": [
    "def remove_special_characters(text):\n",
    "    string=''\n",
    "    for i in text:\n",
    "        if i in alphabets+matra:\n",
    "            string=string+i\n",
    "        else:\n",
    "            string=string+\" \"\n",
    "    return \" \".join(string.split())"
   ]
  },
  {
   "cell_type": "code",
   "execution_count": 7,
   "id": "25013a55",
   "metadata": {},
   "outputs": [],
   "source": [
    "data=pd.read_csv('../hindi.csv')"
   ]
  },
  {
   "cell_type": "code",
   "execution_count": 11,
   "id": "3db0c550",
   "metadata": {},
   "outputs": [],
   "source": [
    "def brs(query,counter=10):\n",
    "    text = remove_special_characters(query)\n",
    "    words = text.split()\n",
    "    words=[word for word in words if word not in stopwords]\n",
    "    \n",
    "    if len(words)>1:\n",
    "        query_words=[words[0]]\n",
    "    else:\n",
    "        query_words=words\n",
    "\n",
    "    for i in range(1,len(words)):\n",
    "        if words[i] not in [\"और\",\"या\"]:\n",
    "            if query_words[-1] not in [\"और\",\"या\"]:\n",
    "                query_words.append(\"और\")\n",
    "                query_words.append(words[i])\n",
    "            else:\n",
    "                query_words.append(words[i])\n",
    "        elif query_words[-1] not in [\"और\",\"या\"]:\n",
    "            query_words.append(words[i])\n",
    "    \n",
    "    operators=[]\n",
    "    main_words=[]\n",
    "    for w in query_words:\n",
    "        if w in [\"और\",\"या\"]:\n",
    "            operators.append(w)\n",
    "        else:\n",
    "            main_words.append(w)\n",
    "            \n",
    "    \n",
    "    n=len(file_index)\n",
    "    word_vector=[]\n",
    "    word_vector_matrix=[]\n",
    "\n",
    "    for w in main_words:\n",
    "        word_vector=[0]*n\n",
    "        if w in unique_words:\n",
    "            for x in posting_lists[w].keys():\n",
    "                word_vector[x]=1\n",
    "        word_vector_matrix.append(word_vector)\n",
    "        \n",
    "        \n",
    "    for w in operators:\n",
    "        vector1=word_vector_matrix[0]\n",
    "        vector2=word_vector_matrix[1]\n",
    "\n",
    "        if w==\"और\":\n",
    "            result=[b1&b2 for b1,b2 in zip(vector1,vector2)]\n",
    "\n",
    "            word_vector_matrix.pop(0)\n",
    "            word_vector_matrix.pop(0)\n",
    "\n",
    "            word_vector_matrix.insert(0,result)\n",
    "        else:\n",
    "            result=[b1|b2 for b1,b2 in zip(vector1,vector2)]\n",
    "\n",
    "            word_vector_matrix.pop(0)\n",
    "            word_vector_matrix.pop(0)\n",
    "\n",
    "            word_vector_matrix.insert(0,result)\n",
    "    \n",
    "    \n",
    "    final_word_vector=word_vector_matrix[0]\n",
    "    index=0\n",
    "    slokes=[]\n",
    "    description=[]\n",
    "    verse_index=[]\n",
    "    for i in final_word_vector:\n",
    "        if not counter:\n",
    "            break\n",
    "        if i==1:\n",
    "            verse_index.append(index)\n",
    "            counter=counter-1\n",
    "\n",
    "        index+=1\n",
    "    return verse_index\n"
   ]
  },
  {
   "cell_type": "code",
   "execution_count": 18,
   "id": "f13ff58e",
   "metadata": {
    "scrolled": false
   },
   "outputs": [
    {
     "data": {
      "text/html": [
       "<div>\n",
       "<style scoped>\n",
       "    .dataframe tbody tr th:only-of-type {\n",
       "        vertical-align: middle;\n",
       "    }\n",
       "\n",
       "    .dataframe tbody tr th {\n",
       "        vertical-align: top;\n",
       "    }\n",
       "\n",
       "    .dataframe thead th {\n",
       "        text-align: right;\n",
       "    }\n",
       "</style>\n",
       "<table border=\"1\" class=\"dataframe\">\n",
       "  <thead>\n",
       "    <tr style=\"text-align: right;\">\n",
       "      <th></th>\n",
       "      <th>Chapter</th>\n",
       "      <th>Verse</th>\n",
       "      <th>Sloke</th>\n",
       "      <th>Commentary</th>\n",
       "    </tr>\n",
       "  </thead>\n",
       "  <tbody>\n",
       "    <tr>\n",
       "      <th>9</th>\n",
       "      <td>1</td>\n",
       "      <td>12</td>\n",
       "      <td>तस्य संजनयन्हर्षं कुरुवृद्धः पितामहः।\\n\\nसिंहन...</td>\n",
       "      <td>भीष्म पितामह अपने भतीजे दुर्योधन के भीतर के भय...</td>\n",
       "    </tr>\n",
       "  </tbody>\n",
       "</table>\n",
       "</div>"
      ],
      "text/plain": [
       "   Chapter  Verse                                              Sloke  \\\n",
       "9        1     12  तस्य संजनयन्हर्षं कुरुवृद्धः पितामहः।\\n\\nसिंहन...   \n",
       "\n",
       "                                          Commentary  \n",
       "9  भीष्म पितामह अपने भतीजे दुर्योधन के भीतर के भय...  "
      ]
     },
     "execution_count": 18,
     "metadata": {},
     "output_type": "execute_result"
    }
   ],
   "source": [
    "verse_index=brs('भीष्म पितामह अपने भतीजे दुर्योधन')\n",
    "data.loc[verse_index]"
   ]
  }
 ],
 "metadata": {
  "kernelspec": {
   "display_name": "Python 3 (ipykernel)",
   "language": "python",
   "name": "python3"
  },
  "language_info": {
   "codemirror_mode": {
    "name": "ipython",
    "version": 3
   },
   "file_extension": ".py",
   "mimetype": "text/x-python",
   "name": "python",
   "nbconvert_exporter": "python",
   "pygments_lexer": "ipython3",
   "version": "3.9.7"
  }
 },
 "nbformat": 4,
 "nbformat_minor": 5
}
