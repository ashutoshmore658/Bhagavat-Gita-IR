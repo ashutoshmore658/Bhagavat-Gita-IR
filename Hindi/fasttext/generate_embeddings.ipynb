{
 "cells": [
  {
   "cell_type": "code",
   "execution_count": 1,
   "id": "d70d829f",
   "metadata": {},
   "outputs": [],
   "source": [
    "import io\n",
    "import re\n",
    "import numpy as np\n",
    "import pandas as pd\n",
    "import numpy.linalg as lin\n",
    "import warnings \n",
    "from gensim.models import Word2Vec\n",
    "import pickle\n",
    "warnings.filterwarnings('ignore')"
   ]
  },
  {
   "cell_type": "code",
   "execution_count": 2,
   "id": "b5d66c7a",
   "metadata": {},
   "outputs": [],
   "source": [
    "alphabets=['ऄ','अ','आ','इ','ई','उ','ऊ','ऋ','ऌ','ऍ','ऎ','ए','ऐ','ऑ','ऒ','ओ','औ','क','ख','ग','घ','ङ','च','छ','ज','झ','ञ','ट',\n",
    "'ठ','ड','ढ','ण','त','थ','द','ध','न','ऩ','प','फ','ब','भ','म','य','र','ऱ','ल','ळ','ऴ','व','श','ष','स','ह']\n",
    "\n",
    "matra=['ऀ','ँ','ं','ः','ऺ','ऻ','़','ा','ि','ी','ु','ू','ृ','ॄ','ॅ','ॆ','े','ै','ॉ','ॊ','ो','ौ','्','ॎ','ॏ','ॕ','ॖ','ॗ']"
   ]
  },
  {
   "cell_type": "code",
   "execution_count": 3,
   "id": "d038f9c8",
   "metadata": {},
   "outputs": [],
   "source": [
    "stopwords=[\"अंदर\",\"अत\",\"अदि\",\"अप\",\"अपना\",\"अपनि\",\"अपनी\",\"अपने\",\"अभि\",\"अभी\",\"आदि\",\"आप\",\"इंहिं\",\"इंहें\",\"इंहों\",\"इतयादि\",\"इत्यादि\",\"इन\",\"इनका\",\"इन्हीं\",\"इन्हें\",\"इन्हों\",\"इस\",\"इसका\",\"इसकि\",\"इसकी\",\"इसके\",\"इसमें\",\"इसि\",\"इसी\",\"इसे\",\"उंहिं\",\"उंहें\",\"उंहों\",\"उन\",\"उनका\",\"उनकि\",\"उनकी\",\"उनके\",\"उनको\",\"उन्हीं\",\"उन्हें\",\"उन्हों\",\"उस\",\"उसके\",\"उसि\",\"उसी\",\"उसे\",\"एक\",\"एवं\",\"एस\",\"एसे\",\"ऐसे\",\"ओर\",\"और\",\"कइ\",\"कई\",\"कर\",\"करता\",\"करते\",\"करना\",\"करने\",\"करें\",\"कहते\",\"कहा\",\"का\",\"काफि\",\"काफ़ी\",\"कि\",\"किंहें\",\"किंहों\",\"कितना\",\"किन्हें\",\"किन्हों\",\"किया\",\"किर\",\"किस\",\"किसि\",\"किसी\",\"किसे\",\"की\",\"कुछ\",\"कुल\",\"के\",\"को\",\"कोइ\",\"कोई\",\"कोन\",\"कोनसा\",\"कौन\",\"कौनसा\",\"गया\",\"घर\",\"जब\",\"जहाँ\",\"जहां\",\"जा\",\"जिंहें\",\"जिंहों\",\"जितना\",\"जिधर\",\"जिन\",\"जिन्हें\",\"जिन्हों\",\"जिस\",\"जिसे\",\"जीधर\",\"जेसा\",\"जेसे\",\"जैसा\",\"जैसे\",\"जो\",\"तक\",\"तब\",\"तरह\",\"तिंहें\",\"तिंहों\",\"तिन\",\"तिन्हें\",\"तिन्हों\",\"तिस\",\"तिसे\",\"तो\",\"था\",\"थि\",\"थी\",\"थे\",\"दबारा\",\"दवारा\",\"दिया\",\"दुसरा\",\"दुसरे\",\"दूसरे\",\"दो\",\"द्वारा\",\"न\",\"नहिं\",\"नहीं\",\"ना\",\"निचे\",\"निहायत\",\"नीचे\",\"ने\",\"पर\",\"पहले\",\"पुरा\",\"पूरा\",\"पे\",\"फिर\",\"बनि\",\"बनी\",\"बहि\",\"बही\",\"बहुत\",\"बाद\",\"बाला\",\"बिलकुल\",\"भि\",\"भितर\",\"भी\",\"भीतर\",\"मगर\",\"मानो\",\"मे\",\"में\",\"यदि\",\"यह\",\"यहाँ\",\"यहां\",\"यहि\",\"यही\",\"या\",\"यिह\",\"ये\",\"रखें\",\"रवासा\",\"रहा\",\"रहे\",\"ऱ्वासा\",\"लिए\",\"लिये\",\"लेकिन\",\"व\",\"वगेरह\",\"वरग\",\"वर्ग\",\"वह\",\"वहाँ\",\"वहां\",\"वहिं\",\"वहीं\",\"वाले\",\"वुह\",\"वे\",\"वग़ैरह\",\"संग\",\"सकता\",\"सकते\",\"सबसे\",\"सभि\",\"सभी\",\"साथ\",\"साबुत\",\"साभ\",\"सारा\",\"से\",\"सो\",\"हि\",\"ही\",\"हुअ\",\"हुआ\",\"हुइ\",\"हुई\",\"हुए\",\"हे\",\"हें\",\"है\",\"हैं\",\"हो\",\"होता\",\"होति\",\"होती\",\"होते\",\"होना\",\"होने\"]"
   ]
  },
  {
   "cell_type": "code",
   "execution_count": 4,
   "id": "e50d76e3",
   "metadata": {},
   "outputs": [],
   "source": [
    "delimiters=[\"।\",\"?\",\"!\"]"
   ]
  },
  {
   "cell_type": "code",
   "execution_count": null,
   "id": "3df1ed97",
   "metadata": {},
   "outputs": [],
   "source": [
    "fasttext=Word2Vec.load('fasttext/hi-d100-m2-fasttext.model')"
   ]
  },
  {
   "cell_type": "code",
   "execution_count": null,
   "id": "20ce371e",
   "metadata": {},
   "outputs": [],
   "source": [
    "def remove_special_characters(text):\n",
    "    string=''\n",
    "    for i in text:\n",
    "        if i in alphabets+matra+delimiters:\n",
    "            string=string+i\n",
    "        else:\n",
    "            string=string+\" \"\n",
    "    return \" \".join(string.split())\n",
    "def sent_tokenize(text):\n",
    "    text=remove_special_characters(text)\n",
    "    regexPattern = '|'.join(map(re.escape, delimiters))\n",
    "    sentences=re.split(regexPattern,text)\n",
    "    return [sent.strip() for sent in sentences if len(sent.strip())>0]"
   ]
  },
  {
   "cell_type": "code",
   "execution_count": null,
   "id": "fcf1a2de",
   "metadata": {},
   "outputs": [],
   "source": [
    "def word_embedding(word):\n",
    "    try:\n",
    "        return fasttext.wv[word]\n",
    "    except:\n",
    "        return np.array([0.0]*100)"
   ]
  },
  {
   "cell_type": "code",
   "execution_count": null,
   "id": "7fb025a0",
   "metadata": {},
   "outputs": [],
   "source": [
    "def sentence_embedding(sentence):\n",
    "    sentence=remove_special_characters(sentence)\n",
    "    words=sentence.split()\n",
    "    words=[word  for word in words if word not in stopwords]\n",
    "    if len(words)>0:\n",
    "        sentence_embedding=[word_embedding(word) for word in words]\n",
    "        return np.array(list(map(lambda x: sum(x)/len(x), zip(*sentence_embedding))))\n",
    "    return np.array([0.0]*100)"
   ]
  },
  {
   "cell_type": "code",
   "execution_count": null,
   "id": "950a6d73",
   "metadata": {},
   "outputs": [],
   "source": [
    "data=pd.read_csv('../hindi.csv')"
   ]
  },
  {
   "cell_type": "markdown",
   "id": "9e51c98a",
   "metadata": {},
   "source": [
    "# Sentence By Sentence"
   ]
  },
  {
   "cell_type": "code",
   "execution_count": null,
   "id": "3d0cb8ae",
   "metadata": {},
   "outputs": [],
   "source": [
    "verse_embeddings_sentence=[]\n",
    "verse_embeddings_max=[]\n",
    "verse_embeddings_mean=[]\n",
    "for i in range(len(data)):\n",
    "    text=data.loc[i]['Commentary']\n",
    "    sentences=sent_tokenize(text)\n",
    "    embeddings=[sentence_embedding(sentence) for sentence in sentences]\n",
    "    #sentence\n",
    "    verse_embeddings_sentence.append(embeddings)\n",
    "    #Max Pooling\n",
    "    norms=[lin.norm(i) for i in embeddings]\n",
    "    index=norms.index(max(norms))\n",
    "    verse_embeddings_max.append(embeddings[index])\n",
    "    #Mean Pooling\n",
    "    embeddings=np.array(list(map(lambda x: sum(x)/len(x), zip(*embeddings))))\n",
    "    verse_embeddings_mean.append(embeddings)"
   ]
  },
  {
   "cell_type": "markdown",
   "id": "db9481ac",
   "metadata": {},
   "source": [
    "# Whole"
   ]
  },
  {
   "cell_type": "code",
   "execution_count": null,
   "id": "b93231c4",
   "metadata": {},
   "outputs": [],
   "source": [
    "verse_embeddings_whole=[]\n",
    "for i in range(len(data)):\n",
    "    text=data.loc[i]['Commentary']\n",
    "    embeddings=sentence_embedding(text)\n",
    "    verse_embeddings_whole.append(embeddings)"
   ]
  },
  {
   "cell_type": "code",
   "execution_count": null,
   "id": "aec88ba1",
   "metadata": {},
   "outputs": [],
   "source": [
    "file=open('sentence.pkl','wb')\n",
    "pickle.dump(verse_embeddings_sentence,file)\n",
    "file.close()\n",
    "file=open('max.pkl','wb')\n",
    "pickle.dump(verse_embeddings_max,file)\n",
    "file.close()\n",
    "file=open('mean.pkl','wb')\n",
    "pickle.dump(verse_embeddings_mean,file)\n",
    "file.close()"
   ]
  },
  {
   "cell_type": "code",
   "execution_count": null,
   "id": "1fc37323",
   "metadata": {},
   "outputs": [],
   "source": [
    "file=open('whole.pkl','wb')\n",
    "pickle.dump(verse_embeddings_whole,file)\n",
    "file.close()"
   ]
  }
 ],
 "metadata": {
  "kernelspec": {
   "display_name": "Python 3 (ipykernel)",
   "language": "python",
   "name": "python3"
  },
  "language_info": {
   "codemirror_mode": {
    "name": "ipython",
    "version": 3
   },
   "file_extension": ".py",
   "mimetype": "text/x-python",
   "name": "python",
   "nbconvert_exporter": "python",
   "pygments_lexer": "ipython3",
   "version": "3.9.7"
  }
 },
 "nbformat": 4,
 "nbformat_minor": 5
}
