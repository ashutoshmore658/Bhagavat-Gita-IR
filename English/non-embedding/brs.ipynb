{
 "cells": [
  {
   "cell_type": "code",
   "execution_count": 1,
   "id": "6cab9bd7",
   "metadata": {},
   "outputs": [],
   "source": [
    "import nltk\n",
    "from nltk.corpus import stopwords\n",
    "from nltk.stem import PorterStemmer\n",
    "from nltk.tokenize import word_tokenize\n",
    "import re\n",
    "import numpy as np\n",
    "import pandas as pd\n",
    "import math\n",
    "import pickle\n",
    "from collections import Counter\n",
    "import unicodedata\n",
    "Stopwords = set(stopwords.words('english'))\n",
    "ps=PorterStemmer()"
   ]
  },
  {
   "cell_type": "code",
   "execution_count": 2,
   "id": "a043bb1d",
   "metadata": {},
   "outputs": [],
   "source": [
    "temp=open('pickles/posting_list.pkl',\"rb\")\n",
    "posting_lists=pickle.load(temp)\n",
    "\n",
    "temp=open('pickles/file_idx.pkl','rb')\n",
    "file_index=pickle.load(temp)"
   ]
  },
  {
   "cell_type": "code",
   "execution_count": 3,
   "id": "36d65e26",
   "metadata": {},
   "outputs": [],
   "source": [
    "unique_words=set(posting_lists.keys())"
   ]
  },
  {
   "cell_type": "code",
   "execution_count": 4,
   "id": "f63cb5e8",
   "metadata": {},
   "outputs": [],
   "source": [
    "def remove_special_characters(text):\n",
    "    regex = re.compile('[^a-zA-Z\\s]')\n",
    "    text_returned = re.sub(regex,' ',text)\n",
    "    return text_returned\n",
    "def strip_accents(text):\n",
    "    return ''.join(c for c in unicodedata.normalize('NFKD', text) if unicodedata.category(c) != 'Mn')\n"
   ]
  },
  {
   "cell_type": "code",
   "execution_count": 5,
   "id": "25013a55",
   "metadata": {},
   "outputs": [],
   "source": [
    "data=pd.read_csv('../English.csv')"
   ]
  },
  {
   "cell_type": "code",
   "execution_count": 6,
   "id": "b92c8a10",
   "metadata": {},
   "outputs": [],
   "source": [
    "def brs(query,counter=10):\n",
    "    query=strip_accents(query)\n",
    "    text = remove_special_characters(query)\n",
    "    text = re.sub(re.compile('\\d'),'',text)\n",
    "    words = word_tokenize(text)\n",
    "    words = [word.lower() for word in words]\n",
    "    words = [ps.stem(word) for word in words]\n",
    "    words = [word for word in words if word not in Stopwords]\n",
    "    if len(words)>1:\n",
    "        query_words=[words[0]]\n",
    "    else:\n",
    "        query_words=words\n",
    "\n",
    "    for i in range(1,len(words)):\n",
    "        if words[i] not in [\"and\",\"or\"]:\n",
    "            if query_words[-1] not in [\"and\",\"or\"]:\n",
    "                query_words.append(\"and\")\n",
    "                query_words.append(words[i])\n",
    "            else:\n",
    "                query_words.append(words[i])\n",
    "        elif query_words[-1] not in [\"and\",\"or\"]:\n",
    "            query_words.append(words[i])\n",
    "    \n",
    "    operators=[]\n",
    "    main_words=[]\n",
    "\n",
    "    for w in query_words:\n",
    "        if w.lower() in [\"and\",\"or\"]:\n",
    "            operators.append(w.lower())\n",
    "        else:\n",
    "            main_words.append(w)\n",
    "    n=len(file_index)\n",
    "    word_vector=[]\n",
    "    word_vector_matrix=[]\n",
    "\n",
    "    for w in main_words:\n",
    "        word_vector=[0]*n\n",
    "        if w in unique_words:\n",
    "            for x in posting_lists[w].keys():\n",
    "                word_vector[x]=1\n",
    "        word_vector_matrix.append(word_vector)\n",
    "    for w in operators:\n",
    "        vector1=word_vector_matrix[0]\n",
    "        vector2=word_vector_matrix[1]\n",
    "\n",
    "        if w==\"and\":\n",
    "            result=[b1&b2 for b1,b2 in zip(vector1,vector2)]\n",
    "\n",
    "            word_vector_matrix.pop(0)\n",
    "            word_vector_matrix.pop(0)\n",
    "\n",
    "            word_vector_matrix.insert(0,result)\n",
    "        else:\n",
    "            result=[b1|b2 for b1,b2 in zip(vector1,vector2)]\n",
    "\n",
    "            word_vector_matrix.pop(0)\n",
    "            word_vector_matrix.pop(0)\n",
    "\n",
    "            word_vector_matrix.insert(0,result)\n",
    "    final_word_vector=word_vector_matrix[0]\n",
    "    slokes=[]\n",
    "    description=[]\n",
    "    verse_index=[]\n",
    "    index=0\n",
    "    for i in final_word_vector:\n",
    "        if not counter:\n",
    "            break\n",
    "        if i==1:\n",
    "            verse_index.append(index)\n",
    "            counter=counter-1\n",
    "        index+=1\n",
    "    return verse_index"
   ]
  },
  {
   "cell_type": "code",
   "execution_count": 7,
   "id": "cb9ab157",
   "metadata": {},
   "outputs": [],
   "source": [
    "verse_index=brs('Bhagavad-gītā is the widely read theistic')"
   ]
  },
  {
   "cell_type": "code",
   "execution_count": 8,
   "id": "f13ff58e",
   "metadata": {
    "scrolled": false
   },
   "outputs": [
    {
     "data": {
      "text/html": [
       "<div>\n",
       "<style scoped>\n",
       "    .dataframe tbody tr th:only-of-type {\n",
       "        vertical-align: middle;\n",
       "    }\n",
       "\n",
       "    .dataframe tbody tr th {\n",
       "        vertical-align: top;\n",
       "    }\n",
       "\n",
       "    .dataframe thead th {\n",
       "        text-align: right;\n",
       "    }\n",
       "</style>\n",
       "<table border=\"1\" class=\"dataframe\">\n",
       "  <thead>\n",
       "    <tr style=\"text-align: right;\">\n",
       "      <th></th>\n",
       "      <th>Chapter</th>\n",
       "      <th>Verse</th>\n",
       "      <th>Sloke</th>\n",
       "      <th>Commentary</th>\n",
       "    </tr>\n",
       "  </thead>\n",
       "  <tbody>\n",
       "    <tr>\n",
       "      <th>0</th>\n",
       "      <td>1</td>\n",
       "      <td>1</td>\n",
       "      <td>धृतराष्ट्र उवाचधर्मक्षेत्रे कुरुक्षेत्रे समवेत...</td>\n",
       "      <td>Bhagavad-gītā is the widely read theistic scie...</td>\n",
       "    </tr>\n",
       "  </tbody>\n",
       "</table>\n",
       "</div>"
      ],
      "text/plain": [
       "   Chapter  Verse                                              Sloke  \\\n",
       "0        1      1  धृतराष्ट्र उवाचधर्मक्षेत्रे कुरुक्षेत्रे समवेत...   \n",
       "\n",
       "                                          Commentary  \n",
       "0  Bhagavad-gītā is the widely read theistic scie...  "
      ]
     },
     "execution_count": 8,
     "metadata": {},
     "output_type": "execute_result"
    }
   ],
   "source": [
    "data.loc[verse_index]"
   ]
  }
 ],
 "metadata": {
  "kernelspec": {
   "display_name": "Python 3 (ipykernel)",
   "language": "python",
   "name": "python3"
  },
  "language_info": {
   "codemirror_mode": {
    "name": "ipython",
    "version": 3
   },
   "file_extension": ".py",
   "mimetype": "text/x-python",
   "name": "python",
   "nbconvert_exporter": "python",
   "pygments_lexer": "ipython3",
   "version": "3.9.7"
  }
 },
 "nbformat": 4,
 "nbformat_minor": 5
}
