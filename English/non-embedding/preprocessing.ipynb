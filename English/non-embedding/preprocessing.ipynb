{
 "cells": [
  {
   "cell_type": "markdown",
   "id": "6ce4f954",
   "metadata": {},
   "source": [
    "# Libraries"
   ]
  },
  {
   "cell_type": "code",
   "execution_count": 1,
   "id": "2126a19a",
   "metadata": {},
   "outputs": [],
   "source": [
    "import nltk\n",
    "from nltk.corpus import stopwords\n",
    "from nltk.stem import PorterStemmer\n",
    "from nltk.tokenize import word_tokenize\n",
    "import re\n",
    "import numpy as np\n",
    "import pandas as pd\n",
    "import math\n",
    "import pickle\n",
    "from collections import Counter\n",
    "import unicodedata\n",
    "Stopwords = set(stopwords.words('english'))\n",
    "ps=PorterStemmer()"
   ]
  },
  {
   "cell_type": "code",
   "execution_count": 2,
   "id": "644d85ca",
   "metadata": {},
   "outputs": [],
   "source": [
    "def finding_all_unique_words_and_freq(words):\n",
    "    words_unique = []\n",
    "    word_freq = {}\n",
    "    for word in words:\n",
    "        if word not in words_unique:\n",
    "            words_unique.append(word)\n",
    "    for word in words_unique:\n",
    "        word_freq[word] = words.count(word)\n",
    "    return word_freq\n",
    "def finding_freq_of_word_in_doc(word,words):\n",
    "    freq = words.count(word)\n",
    "        \n",
    "def remove_special_characters(text):\n",
    "    regex = re.compile('[^a-zA-Z\\s]')\n",
    "    text_returned = re.sub(regex,' ',text)\n",
    "    return text_returned\n",
    "def strip_accents(text):\n",
    "    return ''.join(c for c in unicodedata.normalize('NFKD', text) if unicodedata.category(c) != 'Mn')"
   ]
  },
  {
   "cell_type": "code",
   "execution_count": 3,
   "id": "6883809d",
   "metadata": {},
   "outputs": [],
   "source": [
    "def remove_special_characters(text):\n",
    "    regex = re.compile('[^a-zA-Z\\s]')\n",
    "    text_returned = re.sub(regex,' ',text)\n",
    "    return text_returned\n",
    "def strip_accents(text):\n",
    "    return ''.join(c for c in unicodedata.normalize('NFKD', text) if unicodedata.category(c) != 'Mn')"
   ]
  },
  {
   "cell_type": "code",
   "execution_count": 4,
   "id": "5d2c4ccc",
   "metadata": {},
   "outputs": [],
   "source": [
    "doc_words=[]\n",
    "dict_global = {}\n",
    "idx = 0\n",
    "files_with_index = {}\n",
    "for index in range(len(data)):\n",
    "    fname=str(data.loc[index]['Chapter'])+\".\"+str(data.loc[index]['Verse'])\n",
    "    sloka=data.loc[index]['Sloke']\n",
    "    text=data.loc[index]['Commentary']\n",
    "    text=strip_accents(text)\n",
    "    text = remove_special_characters(text)\n",
    "    words = word_tokenize(text)\n",
    "    words = [word for word in words if len(words)>1]\n",
    "    words = [word.lower() for word in words]\n",
    "    words = [ps.stem(word) for word in words]\n",
    "    words = [word for word in words if word not in Stopwords]\n",
    "    doc_words.append(words)\n",
    "    dict_global.update(finding_all_unique_words_and_freq(words))\n",
    "    files_with_index[idx] = fname\n",
    "    idx = idx + 1\n",
    "    \n",
    "unique_words_all = set(dict_global.keys())\n",
    "    \n"
   ]
  },
  {
   "cell_type": "code",
   "execution_count": 5,
   "id": "e961c147",
   "metadata": {},
   "outputs": [],
   "source": [
    "tf={}\n",
    "df={}\n",
    "for i in unique_words_all:\n",
    "    tf[i]={}\n",
    "    df[i]=0   "
   ]
  },
  {
   "cell_type": "code",
   "execution_count": 6,
   "id": "e1f3540a",
   "metadata": {},
   "outputs": [],
   "source": [
    "idx=0\n",
    "Ltot=0\n",
    "Ld={}\n",
    "for index in range(len(data)):\n",
    "    text=data.loc[index]['Commentary']\n",
    "    text=strip_accents(text)\n",
    "    text = remove_special_characters(text)\n",
    "    words = word_tokenize(text)\n",
    "    words = [word.lower() for word in words]\n",
    "    words=[ps.stem(word) for word in words]\n",
    "    Ld[idx]=len(words) #len of current doc\n",
    "    Ltot=Ltot+len(words) #sum of lens of all the docs\n",
    "    words=[word for word in words if word not in Stopwords]\n",
    "    counter=Counter(words)\n",
    "    for i in counter.keys():\n",
    "        df[i]=df[i]+1\n",
    "        tf[i][idx]=counter[i]   \n",
    "    idx=idx+1"
   ]
  },
  {
   "cell_type": "code",
   "execution_count": 7,
   "id": "0e5e0da6",
   "metadata": {},
   "outputs": [],
   "source": [
    "doc_norm={}\n",
    "idx=0\n",
    "for i in doc_words:\n",
    "    l2=0\n",
    "    for j in set(i):\n",
    "        l2+=(i.count(j)*math.log(len(files_with_index)/df[j]))**2\n",
    "    doc_norm[idx]=(math.sqrt(l2))\n",
    "    idx+=1"
   ]
  },
  {
   "cell_type": "code",
   "execution_count": 8,
   "id": "d0ca84dd",
   "metadata": {},
   "outputs": [],
   "source": [
    "with open('pickles/posting_list.pkl','wb') as file:\n",
    "    pickle.dump(tf,file)\n",
    "    file.close()\n",
    "    \n",
    "with open('pickles/df.pkl','wb') as file:\n",
    "    pickle.dump(df,file)\n",
    "    file.close()\n",
    "    \n",
    "with open('pickles/doc_len.pkl','wb') as file:\n",
    "    pickle.dump(Ld,file)\n",
    "    file.close()"
   ]
  },
  {
   "cell_type": "code",
   "execution_count": 9,
   "id": "83acaf86",
   "metadata": {},
   "outputs": [],
   "source": [
    "a_file = open(\"pickles/file_idx.pkl\", \"wb\")\n",
    "pickle.dump(files_with_index, a_file)\n",
    "a_file.close()\n",
    "a_file = open(\"pickles/unique_words_all.pkl\", \"wb\")\n",
    "pickle.dump(unique_words_all , a_file)\n",
    "a_file.close()"
   ]
  },
  {
   "cell_type": "code",
   "execution_count": 10,
   "id": "77f18c53",
   "metadata": {},
   "outputs": [],
   "source": [
    "with open('pickles/doc_words.pkl','wb') as file:\n",
    "    pickle.dump(doc_words,file)\n",
    "    file.close()\n",
    "    \n",
    "with open('pickles/doc_norm.pkl','wb') as file:\n",
    "    pickle.dump(doc_norm,file)\n",
    "    file.close()"
   ]
  }
 ],
 "metadata": {
  "kernelspec": {
   "display_name": "Python 3 (ipykernel)",
   "language": "python",
   "name": "python3"
  },
  "language_info": {
   "codemirror_mode": {
    "name": "ipython",
    "version": 3
   },
   "file_extension": ".py",
   "mimetype": "text/x-python",
   "name": "python",
   "nbconvert_exporter": "python",
   "pygments_lexer": "ipython3",
   "version": "3.9.7"
  }
 },
 "nbformat": 4,
 "nbformat_minor": 5
}
