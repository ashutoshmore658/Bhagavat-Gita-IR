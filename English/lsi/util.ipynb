{
 "cells": [
  {
   "cell_type": "code",
   "execution_count": 7,
   "id": "f099f5b4",
   "metadata": {},
   "outputs": [],
   "source": [
    "import nltk\n",
    "from nltk.corpus import stopwords\n",
    "from nltk.stem import PorterStemmer\n",
    "from nltk.tokenize import word_tokenize\n",
    "import re\n",
    "import numpy as np\n",
    "import pandas as pd\n",
    "from gensim import corpora, models,similarities\n",
    "import math\n",
    "import pickle\n",
    "import unicodedata\n",
    "Stopwords = set(stopwords.words('english'))\n",
    "ps=PorterStemmer()"
   ]
  },
  {
   "cell_type": "code",
   "execution_count": 8,
   "id": "805f42b9",
   "metadata": {},
   "outputs": [],
   "source": [
    "def remove_special_characters(text):\n",
    "    text=strip_accents(text)\n",
    "    regex = re.compile('[^a-zA-Z\\s]')\n",
    "    text_returned = re.sub(regex,' ',text)\n",
    "    return text_returned\n",
    "def strip_accents(text):\n",
    "    return ''.join(c for c in unicodedata.normalize('NFKD', text) if unicodedata.category(c) != 'Mn')"
   ]
  },
  {
   "cell_type": "code",
   "execution_count": 9,
   "id": "d270ba83",
   "metadata": {},
   "outputs": [],
   "source": [
    "data=pd.read_csv('../English.csv')"
   ]
  },
  {
   "cell_type": "code",
   "execution_count": 10,
   "id": "355928ff",
   "metadata": {},
   "outputs": [],
   "source": [
    "lsi =  models.LsiModel.load('lsi.model')"
   ]
  },
  {
   "cell_type": "code",
   "execution_count": 11,
   "id": "9a168cae",
   "metadata": {},
   "outputs": [],
   "source": [
    "dictionary = corpora.Dictionary.load('dictionary')\n",
    "corpus = corpora.MmCorpus('corpus')"
   ]
  },
  {
   "cell_type": "code",
   "execution_count": 12,
   "id": "b067dc4e",
   "metadata": {},
   "outputs": [],
   "source": [
    "def search(query,counter=10):\n",
    "    query=remove_special_characters(query)\n",
    "    words=word_tokenize(query)\n",
    "    words = [word.lower() for word in words]\n",
    "    words = [ps.stem(word) for word in words]\n",
    "    words = [word for word in words if word not in Stopwords]\n",
    "    vec_bow = dictionary.doc2bow(words)\n",
    "    vec_lsi = lsi[vec_bow]\n",
    "    index = similarities.MatrixSimilarity(lsi[corpus],num_features=30)\n",
    "    scoring = index[vec_lsi]\n",
    "    verse_index=np.argsort(scoring)[-1::-1][:counter]\n",
    "    return verse_index"
   ]
  },
  {
   "cell_type": "code",
   "execution_count": 7,
   "id": "bf0a17cd",
   "metadata": {},
   "outputs": [],
   "source": [
    "query='Importance of Bhagavad Gita'"
   ]
  },
  {
   "cell_type": "code",
   "execution_count": 8,
   "id": "26a70ec8",
   "metadata": {},
   "outputs": [
    {
     "data": {
      "text/html": [
       "<div>\n",
       "<style scoped>\n",
       "    .dataframe tbody tr th:only-of-type {\n",
       "        vertical-align: middle;\n",
       "    }\n",
       "\n",
       "    .dataframe tbody tr th {\n",
       "        vertical-align: top;\n",
       "    }\n",
       "\n",
       "    .dataframe thead th {\n",
       "        text-align: right;\n",
       "    }\n",
       "</style>\n",
       "<table border=\"1\" class=\"dataframe\">\n",
       "  <thead>\n",
       "    <tr style=\"text-align: right;\">\n",
       "      <th></th>\n",
       "      <th>Chapter</th>\n",
       "      <th>Verse</th>\n",
       "      <th>Sloke</th>\n",
       "      <th>Commentary</th>\n",
       "    </tr>\n",
       "  </thead>\n",
       "  <tbody>\n",
       "    <tr>\n",
       "      <th>587</th>\n",
       "      <td>18</td>\n",
       "      <td>68</td>\n",
       "      <td>य इदं परमं गुह्यं मद्भ‍क्तेष्वभिधास्यति ।भक्ति...</td>\n",
       "      <td>Generally it is advised that Bhagavad-gītā be ...</td>\n",
       "    </tr>\n",
       "    <tr>\n",
       "      <th>142</th>\n",
       "      <td>4</td>\n",
       "      <td>1</td>\n",
       "      <td>श्रीभगवानुवाचइमं विवस्वते योगं प्रोक्तवानहमव्य...</td>\n",
       "      <td>Herein we find the history of the Bhagavad-gīt...</td>\n",
       "    </tr>\n",
       "    <tr>\n",
       "      <th>143</th>\n",
       "      <td>4</td>\n",
       "      <td>2</td>\n",
       "      <td>एवं परम्पराप्राप्तमिमं राजर्षयो विदुः ।स कालेन...</td>\n",
       "      <td>It is clearly stated that the Gītā was especia...</td>\n",
       "    </tr>\n",
       "    <tr>\n",
       "      <th>303</th>\n",
       "      <td>8</td>\n",
       "      <td>28</td>\n",
       "      <td>वेदेषु यज्ञेषु तप:सु चैवदानेषु यत्पुण्यफलं प्र...</td>\n",
       "      <td>This verse is the summation of the Seventh and...</td>\n",
       "    </tr>\n",
       "    <tr>\n",
       "      <th>0</th>\n",
       "      <td>1</td>\n",
       "      <td>1</td>\n",
       "      <td>धृतराष्ट्र उवाचधर्मक्षेत्रे कुरुक्षेत्रे समवेत...</td>\n",
       "      <td>Bhagavad-gītā is the widely read theistic scie...</td>\n",
       "    </tr>\n",
       "    <tr>\n",
       "      <th>586</th>\n",
       "      <td>18</td>\n",
       "      <td>67</td>\n",
       "      <td>इदं ते नातपस्काय नाभक्ताय कदाचन ।न चाश‍ुश्रूषव...</td>\n",
       "      <td>Persons who have not undergone the austerities...</td>\n",
       "    </tr>\n",
       "    <tr>\n",
       "      <th>347</th>\n",
       "      <td>10</td>\n",
       "      <td>14</td>\n",
       "      <td>सर्वमेतदृतं मन्ये यन्मां वदसि केशव ।न हि ते भग...</td>\n",
       "      <td>Arjuna herein confirms that persons of faithle...</td>\n",
       "    </tr>\n",
       "    <tr>\n",
       "      <th>589</th>\n",
       "      <td>18</td>\n",
       "      <td>72</td>\n",
       "      <td>कच्च‍िदेतच्छ्रुतं पार्थ त्वयैकाग्रेण चेतसा ।कच...</td>\n",
       "      <td>The Lord was acting as the spiritual master of...</td>\n",
       "    </tr>\n",
       "    <tr>\n",
       "      <th>530</th>\n",
       "      <td>18</td>\n",
       "      <td>1</td>\n",
       "      <td>सन्न्यासस्य महाबाहो तत्त्वमिच्छामि वेदितुम् ।त...</td>\n",
       "      <td>Actually the Bhagavad-gītā is finished in seve...</td>\n",
       "    </tr>\n",
       "    <tr>\n",
       "      <th>183</th>\n",
       "      <td>4</td>\n",
       "      <td>42</td>\n",
       "      <td>तस्मादज्ञानसम्भूतं हृत्स्थं ज्ञानासिनात्मनः ।छ...</td>\n",
       "      <td>The yoga system instructed in this chapter is ...</td>\n",
       "    </tr>\n",
       "  </tbody>\n",
       "</table>\n",
       "</div>"
      ],
      "text/plain": [
       "     Chapter  Verse                                              Sloke  \\\n",
       "587       18     68  य इदं परमं गुह्यं मद्भ‍क्तेष्वभिधास्यति ।भक्ति...   \n",
       "142        4      1  श्रीभगवानुवाचइमं विवस्वते योगं प्रोक्तवानहमव्य...   \n",
       "143        4      2  एवं परम्पराप्राप्तमिमं राजर्षयो विदुः ।स कालेन...   \n",
       "303        8     28  वेदेषु यज्ञेषु तप:सु चैवदानेषु यत्पुण्यफलं प्र...   \n",
       "0          1      1  धृतराष्ट्र उवाचधर्मक्षेत्रे कुरुक्षेत्रे समवेत...   \n",
       "586       18     67  इदं ते नातपस्काय नाभक्ताय कदाचन ।न चाश‍ुश्रूषव...   \n",
       "347       10     14  सर्वमेतदृतं मन्ये यन्मां वदसि केशव ।न हि ते भग...   \n",
       "589       18     72  कच्च‍िदेतच्छ्रुतं पार्थ त्वयैकाग्रेण चेतसा ।कच...   \n",
       "530       18      1  सन्न्यासस्य महाबाहो तत्त्वमिच्छामि वेदितुम् ।त...   \n",
       "183        4     42  तस्मादज्ञानसम्भूतं हृत्स्थं ज्ञानासिनात्मनः ।छ...   \n",
       "\n",
       "                                            Commentary  \n",
       "587  Generally it is advised that Bhagavad-gītā be ...  \n",
       "142  Herein we find the history of the Bhagavad-gīt...  \n",
       "143  It is clearly stated that the Gītā was especia...  \n",
       "303  This verse is the summation of the Seventh and...  \n",
       "0    Bhagavad-gītā is the widely read theistic scie...  \n",
       "586  Persons who have not undergone the austerities...  \n",
       "347  Arjuna herein confirms that persons of faithle...  \n",
       "589  The Lord was acting as the spiritual master of...  \n",
       "530  Actually the Bhagavad-gītā is finished in seve...  \n",
       "183  The yoga system instructed in this chapter is ...  "
      ]
     },
     "execution_count": 8,
     "metadata": {},
     "output_type": "execute_result"
    }
   ],
   "source": [
    "verse_index=search(query)\n",
    "data.loc[verse_index]"
   ]
  }
 ],
 "metadata": {
  "kernelspec": {
   "display_name": "Python 3 (ipykernel)",
   "language": "python",
   "name": "python3"
  },
  "language_info": {
   "codemirror_mode": {
    "name": "ipython",
    "version": 3
   },
   "file_extension": ".py",
   "mimetype": "text/x-python",
   "name": "python",
   "nbconvert_exporter": "python",
   "pygments_lexer": "ipython3",
   "version": "3.9.7"
  }
 },
 "nbformat": 4,
 "nbformat_minor": 5
}
