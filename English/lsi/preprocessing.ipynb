{
 "cells": [
  {
   "cell_type": "markdown",
   "id": "6ce4f954",
   "metadata": {},
   "source": [
    "# Libraries"
   ]
  },
  {
   "cell_type": "code",
   "execution_count": 1,
   "id": "2126a19a",
   "metadata": {},
   "outputs": [],
   "source": [
    "import nltk\n",
    "from nltk.corpus import stopwords\n",
    "from nltk.stem import PorterStemmer\n",
    "from nltk.tokenize import word_tokenize\n",
    "import re\n",
    "import numpy as np\n",
    "import pandas as pd\n",
    "from gensim import corpora, models\n",
    "import math\n",
    "import pickle\n",
    "import unicodedata\n",
    "Stopwords = set(stopwords.words('english'))\n",
    "ps=PorterStemmer()"
   ]
  },
  {
   "cell_type": "code",
   "execution_count": 2,
   "id": "644d85ca",
   "metadata": {},
   "outputs": [],
   "source": [
    "def remove_special_characters(text):\n",
    "    regex = re.compile('[^a-zA-Z\\s]')\n",
    "    text_returned = re.sub(regex,' ',text)\n",
    "    return text_returned\n",
    "def strip_accents(text):\n",
    "    return ''.join(c for c in unicodedata.normalize('NFKD', text) if unicodedata.category(c) != 'Mn')"
   ]
  },
  {
   "cell_type": "code",
   "execution_count": 3,
   "id": "6883809d",
   "metadata": {},
   "outputs": [],
   "source": [
    "data=pd.read_csv('../English.csv')"
   ]
  },
  {
   "cell_type": "code",
   "execution_count": 4,
   "id": "5d2c4ccc",
   "metadata": {},
   "outputs": [],
   "source": [
    "doc_words=[]\n",
    "for index in range(len(data)):\n",
    "    text=data.loc[index]['Commentary']\n",
    "    text=strip_accents(text)\n",
    "    text = remove_special_characters(text)\n",
    "    words = word_tokenize(text)\n",
    "    words = [word for word in words if len(words)>1]\n",
    "    words = [word.lower() for word in words]\n",
    "    words = [ps.stem(word) for word in words]\n",
    "    words = [word for word in words if word not in Stopwords]\n",
    "    doc_words.append(words)"
   ]
  },
  {
   "cell_type": "code",
   "execution_count": 5,
   "id": "24c99ac6",
   "metadata": {},
   "outputs": [],
   "source": [
    "dictionary = corpora.Dictionary(doc_words) #Assign Id for all words in the corpus\n",
    "corpus = [dictionary.doc2bow(document) for document in doc_words] #Produce BagOfWords for each document"
   ]
  },
  {
   "cell_type": "code",
   "execution_count": 6,
   "id": "d241f47b",
   "metadata": {},
   "outputs": [],
   "source": [
    "lsi = models.LsiModel(corpus,id2word=dictionary,num_topics=30)"
   ]
  },
  {
   "cell_type": "code",
   "execution_count": 7,
   "id": "dba35e07",
   "metadata": {},
   "outputs": [],
   "source": [
    "lsi.save('lsi.model')"
   ]
  },
  {
   "cell_type": "code",
   "execution_count": 8,
   "id": "ecb46f71",
   "metadata": {},
   "outputs": [],
   "source": [
    "dictionary.save('dictionary')\n",
    "corpora.MmCorpus.serialize('corpus', corpus)"
   ]
  }
 ],
 "metadata": {
  "kernelspec": {
   "display_name": "Python 3 (ipykernel)",
   "language": "python",
   "name": "python3"
  },
  "language_info": {
   "codemirror_mode": {
    "name": "ipython",
    "version": 3
   },
   "file_extension": ".py",
   "mimetype": "text/x-python",
   "name": "python",
   "nbconvert_exporter": "python",
   "pygments_lexer": "ipython3",
   "version": "3.9.7"
  }
 },
 "nbformat": 4,
 "nbformat_minor": 5
}
